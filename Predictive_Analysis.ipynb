{
  "nbformat": 4,
  "nbformat_minor": 0,
  "metadata": {
    "colab": {
      "name": "Predictive Analysis.ipynb",
      "provenance": [],
      "authorship_tag": "ABX9TyOe70uUKU+t7yFSB2DbtxAc",
      "include_colab_link": true
    },
    "kernelspec": {
      "name": "python3",
      "display_name": "Python 3"
    }
  },
  "cells": [
    {
      "cell_type": "markdown",
      "metadata": {
        "id": "view-in-github",
        "colab_type": "text"
      },
      "source": [
        "<a href=\"https://colab.research.google.com/github/Pria91/Machine-Learning-Projects-/blob/main/Predictive_Analysis.ipynb\" target=\"_parent\"><img src=\"https://colab.research.google.com/assets/colab-badge.svg\" alt=\"Open In Colab\"/></a>"
      ]
    },
    {
      "cell_type": "markdown",
      "metadata": {
        "id": "CqbB_fPT7l1B"
      },
      "source": [
        "Predictive Analysis \r\n"
      ]
    },
    {
      "cell_type": "markdown",
      "metadata": {
        "id": "sWLtW_9fBGuD"
      },
      "source": [
        "Importing all relevant libraries\r\n",
        " \r\n"
      ]
    },
    {
      "cell_type": "code",
      "metadata": {
        "id": "fB9tdHaS7uKe"
      },
      "source": [
        "import numpy as np \r\n",
        "import pandas as pd \r\n",
        "import matplotlib.pyplot as plt\r\n",
        "import seaborn as sns "
      ],
      "execution_count": 2,
      "outputs": []
    },
    {
      "cell_type": "markdown",
      "metadata": {
        "id": "v34xKcYWBPAn"
      },
      "source": [
        "Reading data from Raw File "
      ]
    },
    {
      "cell_type": "code",
      "metadata": {
        "id": "yiB8vCcXAub5"
      },
      "source": [
        "data = pd.read_csv(\"Raw Data.csv\")"
      ],
      "execution_count": 19,
      "outputs": []
    },
    {
      "cell_type": "code",
      "metadata": {
        "colab": {
          "base_uri": "https://localhost:8080/",
          "height": 204
        },
        "id": "uKVcRdlOA45G",
        "outputId": "6458f9bc-fbc9-4042-8808-125caf2de225"
      },
      "source": [
        "data.head()"
      ],
      "execution_count": 20,
      "outputs": [
        {
          "output_type": "execute_result",
          "data": {
            "text/html": [
              "<div>\n",
              "<style scoped>\n",
              "    .dataframe tbody tr th:only-of-type {\n",
              "        vertical-align: middle;\n",
              "    }\n",
              "\n",
              "    .dataframe tbody tr th {\n",
              "        vertical-align: top;\n",
              "    }\n",
              "\n",
              "    .dataframe thead th {\n",
              "        text-align: right;\n",
              "    }\n",
              "</style>\n",
              "<table border=\"1\" class=\"dataframe\">\n",
              "  <thead>\n",
              "    <tr style=\"text-align: right;\">\n",
              "      <th></th>\n",
              "      <th>Hours</th>\n",
              "      <th>Scores</th>\n",
              "    </tr>\n",
              "  </thead>\n",
              "  <tbody>\n",
              "    <tr>\n",
              "      <th>0</th>\n",
              "      <td>2.5</td>\n",
              "      <td>21</td>\n",
              "    </tr>\n",
              "    <tr>\n",
              "      <th>1</th>\n",
              "      <td>5.1</td>\n",
              "      <td>47</td>\n",
              "    </tr>\n",
              "    <tr>\n",
              "      <th>2</th>\n",
              "      <td>3.2</td>\n",
              "      <td>27</td>\n",
              "    </tr>\n",
              "    <tr>\n",
              "      <th>3</th>\n",
              "      <td>8.5</td>\n",
              "      <td>75</td>\n",
              "    </tr>\n",
              "    <tr>\n",
              "      <th>4</th>\n",
              "      <td>3.5</td>\n",
              "      <td>30</td>\n",
              "    </tr>\n",
              "  </tbody>\n",
              "</table>\n",
              "</div>"
            ],
            "text/plain": [
              "   Hours  Scores\n",
              "0    2.5      21\n",
              "1    5.1      47\n",
              "2    3.2      27\n",
              "3    8.5      75\n",
              "4    3.5      30"
            ]
          },
          "metadata": {
            "tags": []
          },
          "execution_count": 20
        }
      ]
    },
    {
      "cell_type": "markdown",
      "metadata": {
        "id": "ju5I_ne3BVGt"
      },
      "source": [
        "Explore the Data"
      ]
    },
    {
      "cell_type": "code",
      "metadata": {
        "colab": {
          "base_uri": "https://localhost:8080/"
        },
        "id": "YTyn_6esA4i9",
        "outputId": "2c5cbe49-6d68-4bb5-c995-91e2a3e452c5"
      },
      "source": [
        "data.dtypes "
      ],
      "execution_count": 21,
      "outputs": [
        {
          "output_type": "execute_result",
          "data": {
            "text/plain": [
              "Hours     float64\n",
              "Scores      int64\n",
              "dtype: object"
            ]
          },
          "metadata": {
            "tags": []
          },
          "execution_count": 21
        }
      ]
    },
    {
      "cell_type": "code",
      "metadata": {
        "colab": {
          "base_uri": "https://localhost:8080/"
        },
        "id": "AAyFeTKABddB",
        "outputId": "c86f6d2d-0077-44c6-f1b9-c77fdcbcd1c4"
      },
      "source": [
        "#Total number of rows and columns \r\n",
        "data.shape"
      ],
      "execution_count": 22,
      "outputs": [
        {
          "output_type": "execute_result",
          "data": {
            "text/plain": [
              "(25, 2)"
            ]
          },
          "metadata": {
            "tags": []
          },
          "execution_count": 22
        }
      ]
    },
    {
      "cell_type": "markdown",
      "metadata": {
        "id": "qsDX0SOOBm7k"
      },
      "source": [
        "Statistical Details "
      ]
    },
    {
      "cell_type": "code",
      "metadata": {
        "colab": {
          "base_uri": "https://localhost:8080/",
          "height": 297
        },
        "id": "MNned6sDBphM",
        "outputId": "1ffde83f-db73-4546-c9c8-cc1100c47f4e"
      },
      "source": [
        "data.describe()"
      ],
      "execution_count": 23,
      "outputs": [
        {
          "output_type": "execute_result",
          "data": {
            "text/html": [
              "<div>\n",
              "<style scoped>\n",
              "    .dataframe tbody tr th:only-of-type {\n",
              "        vertical-align: middle;\n",
              "    }\n",
              "\n",
              "    .dataframe tbody tr th {\n",
              "        vertical-align: top;\n",
              "    }\n",
              "\n",
              "    .dataframe thead th {\n",
              "        text-align: right;\n",
              "    }\n",
              "</style>\n",
              "<table border=\"1\" class=\"dataframe\">\n",
              "  <thead>\n",
              "    <tr style=\"text-align: right;\">\n",
              "      <th></th>\n",
              "      <th>Hours</th>\n",
              "      <th>Scores</th>\n",
              "    </tr>\n",
              "  </thead>\n",
              "  <tbody>\n",
              "    <tr>\n",
              "      <th>count</th>\n",
              "      <td>25.000000</td>\n",
              "      <td>25.000000</td>\n",
              "    </tr>\n",
              "    <tr>\n",
              "      <th>mean</th>\n",
              "      <td>5.012000</td>\n",
              "      <td>51.480000</td>\n",
              "    </tr>\n",
              "    <tr>\n",
              "      <th>std</th>\n",
              "      <td>2.525094</td>\n",
              "      <td>25.286887</td>\n",
              "    </tr>\n",
              "    <tr>\n",
              "      <th>min</th>\n",
              "      <td>1.100000</td>\n",
              "      <td>17.000000</td>\n",
              "    </tr>\n",
              "    <tr>\n",
              "      <th>25%</th>\n",
              "      <td>2.700000</td>\n",
              "      <td>30.000000</td>\n",
              "    </tr>\n",
              "    <tr>\n",
              "      <th>50%</th>\n",
              "      <td>4.800000</td>\n",
              "      <td>47.000000</td>\n",
              "    </tr>\n",
              "    <tr>\n",
              "      <th>75%</th>\n",
              "      <td>7.400000</td>\n",
              "      <td>75.000000</td>\n",
              "    </tr>\n",
              "    <tr>\n",
              "      <th>max</th>\n",
              "      <td>9.200000</td>\n",
              "      <td>95.000000</td>\n",
              "    </tr>\n",
              "  </tbody>\n",
              "</table>\n",
              "</div>"
            ],
            "text/plain": [
              "           Hours     Scores\n",
              "count  25.000000  25.000000\n",
              "mean    5.012000  51.480000\n",
              "std     2.525094  25.286887\n",
              "min     1.100000  17.000000\n",
              "25%     2.700000  30.000000\n",
              "50%     4.800000  47.000000\n",
              "75%     7.400000  75.000000\n",
              "max     9.200000  95.000000"
            ]
          },
          "metadata": {
            "tags": []
          },
          "execution_count": 23
        }
      ]
    },
    {
      "cell_type": "markdown",
      "metadata": {
        "id": "RUbgTY4rMAZ7"
      },
      "source": [
        "Check for Null Values "
      ]
    },
    {
      "cell_type": "code",
      "metadata": {
        "colab": {
          "base_uri": "https://localhost:8080/"
        },
        "id": "ozG5atDaMCOL",
        "outputId": "b74596c7-3a02-4b50-c8f6-150abc5f7850"
      },
      "source": [
        "data.isnull().sum()"
      ],
      "execution_count": 24,
      "outputs": [
        {
          "output_type": "execute_result",
          "data": {
            "text/plain": [
              "Hours     0\n",
              "Scores    0\n",
              "dtype: int64"
            ]
          },
          "metadata": {
            "tags": []
          },
          "execution_count": 24
        }
      ]
    },
    {
      "cell_type": "markdown",
      "metadata": {
        "id": "8NBRhnBVMOLd"
      },
      "source": [
        "Exploratory Data Analysis "
      ]
    },
    {
      "cell_type": "code",
      "metadata": {
        "colab": {
          "base_uri": "https://localhost:8080/",
          "height": 386
        },
        "id": "hwUVaLkNMQe_",
        "outputId": "1721ff43-a33c-4a5f-a9c6-3b79c63c3e6e"
      },
      "source": [
        "sns.set_style('darkgrid')\r\n",
        "sns.displot(data['Scores'], kde = False, bins = 30)"
      ],
      "execution_count": 25,
      "outputs": [
        {
          "output_type": "execute_result",
          "data": {
            "text/plain": [
              "<seaborn.axisgrid.FacetGrid at 0x7fcf58a0f3c8>"
            ]
          },
          "metadata": {
            "tags": []
          },
          "execution_count": 25
        },
        {
          "output_type": "display_data",
          "data": {
            "image/png": "[encoded data removed]",
            "text/plain": [
              "<Figure size 360x360 with 1 Axes>"
            ]
          },
          "metadata": {
            "tags": []
          }
        }
      ]
    },
    {
      "cell_type": "code",
      "metadata": {
        "colab": {
          "base_uri": "https://localhost:8080/",
          "height": 386
        },
        "id": "6KPU6pgHM0-L",
        "outputId": "77a7c6c8-bac6-45ee-99de-1dc7e9025bf3"
      },
      "source": [
        "sns.set_style('darkgrid')\r\n",
        "sns.displot(data['Hours'], kde = False, bins = 30)"
      ],
      "execution_count": 26,
      "outputs": [
        {
          "output_type": "execute_result",
          "data": {
            "text/plain": [
              "<seaborn.axisgrid.FacetGrid at 0x7fcf58a21978>"
            ]
          },
          "metadata": {
            "tags": []
          },
          "execution_count": 26
        },
        {
          "output_type": "display_data",
          "data": {
            "image/png": "[encoded data removed]",
            "text/plain": [
              "<Figure size 360x360 with 1 Axes>"
            ]
          },
          "metadata": {
            "tags": []
          }
        }
      ]
    },
    {
      "cell_type": "code",
      "metadata": {
        "colab": {
          "base_uri": "https://localhost:8080/",
          "height": 400
        },
        "id": "k7Clg5-wNXJP",
        "outputId": "353b79b3-94bd-457b-9eb6-3515c6fc92ca"
      },
      "source": [
        "sns.lmplot(x='Hours', y='Scores', data = data)"
      ],
      "execution_count": 27,
      "outputs": [
        {
          "output_type": "execute_result",
          "data": {
            "text/plain": [
              "<seaborn.axisgrid.FacetGrid at 0x7fcf58906ba8>"
            ]
          },
          "metadata": {
            "tags": []
          },
          "execution_count": 27
        },
        {
          "output_type": "display_data",
          "data": {
            "image/png": "[encoded data removed]",
            "text/plain": [
              "<Figure size 360x360 with 1 Axes>"
            ]
          },
          "metadata": {
            "tags": []
          }
        }
      ]
    },
    {
      "cell_type": "markdown",
      "metadata": {
        "id": "0V84cFYfNm1F"
      },
      "source": [
        "Preparation of Model "
      ]
    },
    {
      "cell_type": "code",
      "metadata": {
        "id": "sKJmPqUvNpsq"
      },
      "source": [
        "#Assigning the dependent and independent varaible \r\n",
        "\r\n",
        "x1 = data.iloc[:,:-1].values\r\n",
        "y1 = data.iloc[:,1].values\r\n",
        "\r\n",
        "X = x1.reshape(-1,1)\r\n",
        "y = y1.reshape(-1,1)"
      ],
      "execution_count": 35,
      "outputs": []
    },
    {
      "cell_type": "code",
      "metadata": {
        "id": "h_MeGFyAOX9d"
      },
      "source": [
        "#Dividing teh test and train values in 30:70 size respectively \r\n",
        "\r\n",
        "from sklearn.model_selection import train_test_split\r\n",
        "\r\n",
        "X_train, X_test, y_train, y_test = train_test_split(X,y, test_size = 0.3, random_state = 101)"
      ],
      "execution_count": 36,
      "outputs": []
    },
    {
      "cell_type": "code",
      "metadata": {
        "colab": {
          "base_uri": "https://localhost:8080/"
        },
        "id": "YvJNthN-O_Kg",
        "outputId": "9a9745ed-c1f0-4d05-84ea-ea01def74a44"
      },
      "source": [
        "#Creating and Training the model \r\n",
        "from sklearn.linear_model import LinearRegression\r\n",
        "\r\n",
        "\r\n",
        "#Creating the model \r\n",
        "lm = LinearRegression()\r\n",
        "\r\n",
        "\r\n",
        "#Training the model \r\n",
        "lm.fit(X_train, y_train)\r\n",
        "\r\n",
        "print(\"Training Completed\")\r\n",
        "\r\n"
      ],
      "execution_count": 37,
      "outputs": [
        {
          "output_type": "stream",
          "text": [
            "Training Completed\n"
          ],
          "name": "stdout"
        }
      ]
    },
    {
      "cell_type": "code",
      "metadata": {
        "colab": {
          "base_uri": "https://localhost:8080/",
          "height": 265
        },
        "id": "R7pGH-6ePUmr",
        "outputId": "41acb7d6-5e21-4095-83a9-bef96c96fa3d"
      },
      "source": [
        "line = lm.coef_*X+lm.intercept_\r\n",
        "plt.scatter(X,y)\r\n",
        "plt.plot(X,line)\r\n",
        "plt.show()"
      ],
      "execution_count": 39,
      "outputs": [
        {
          "output_type": "display_data",
          "data": {
            "image/png": "[encoded data removed]",
            "text/plain": [
              "<Figure size 432x288 with 1 Axes>"
            ]
          },
          "metadata": {
            "tags": []
          }
        }
      ]
    },
    {
      "cell_type": "markdown",
      "metadata": {
        "id": "aR82m-78QbwS"
      },
      "source": [
        "Prediction of Values"
      ]
    },
    {
      "cell_type": "code",
      "metadata": {
        "colab": {
          "base_uri": "https://localhost:8080/"
        },
        "id": "X7To1zTCQd1h",
        "outputId": "e477289c-ceac-4286-f527-071ef2323a43"
      },
      "source": [
        "#Predicting Test Data\r\n",
        "\r\n",
        "predictions = lm.predict(X_test)\r\n",
        "\r\n",
        "\r\n",
        "#scores for the given study hours \r\n",
        "predictions "
      ],
      "execution_count": 40,
      "outputs": [
        {
          "output_type": "execute_result",
          "data": {
            "text/plain": [
              "array([[27.01878177],\n",
              "       [78.84466226],\n",
              "       [39.97525189],\n",
              "       [75.85470762],\n",
              "       [56.91832821],\n",
              "       [49.94176737],\n",
              "       [33.99534261],\n",
              "       [86.81787465]])"
            ]
          },
          "metadata": {
            "tags": []
          },
          "execution_count": 40
        }
      ]
    },
    {
      "cell_type": "code",
      "metadata": {
        "colab": {
          "base_uri": "https://localhost:8080/",
          "height": 296
        },
        "id": "GKAzwjCxQ3RL",
        "outputId": "5ca669af-7e42-4d24-d4e2-7ec80ebf5a09"
      },
      "source": [
        "#Actual test value vs the predicted value \r\n",
        "\r\n",
        "plt.scatter(y_test, predictions)\r\n",
        "plt.xlabel('Y test')\r\n",
        "plt.ylabel('PREDICTED Y')"
      ],
      "execution_count": 41,
      "outputs": [
        {
          "output_type": "execute_result",
          "data": {
            "text/plain": [
              "Text(0, 0.5, 'PREDICTED Y')"
            ]
          },
          "metadata": {
            "tags": []
          },
          "execution_count": 41
        },
        {
          "output_type": "display_data",
          "data": {
            "image/png": "[encoded data removed]",
            "text/plain": [
              "<Figure size 432x288 with 1 Axes>"
            ]
          },
          "metadata": {
            "tags": []
          }
        }
      ]
    },
    {
      "cell_type": "markdown",
      "metadata": {
        "id": "UUulkJneRR7W"
      },
      "source": [
        "Evaluation of Model "
      ]
    },
    {
      "cell_type": "code",
      "metadata": {
        "colab": {
          "base_uri": "https://localhost:8080/"
        },
        "id": "akVyhguZRUew",
        "outputId": "d4abce6c-092e-4bcd-d168-407053dd6204"
      },
      "source": [
        "from sklearn import metrics\r\n",
        "\r\n",
        "print('Mean Absolute Error:', metrics.mean_absolute_error(y_test,predictions))\r\n",
        "\r\n",
        "print('Mean Square Error:', metrics.mean_squared_error(y_test,predictions))\r\n",
        "\r\n",
        "print('Root Mean Square Error:', np.sqrt(metrics.mean_squared_error(y_test,predictions)))"
      ],
      "execution_count": 43,
      "outputs": [
        {
          "output_type": "stream",
          "text": [
            "Mean Absolute Error: 5.864954643694258\n",
            "Mean Square Error: 41.63486564552886\n",
            "Root Mean Square Error: 6.452508476982333\n"
          ],
          "name": "stdout"
        }
      ]
    },
    {
      "cell_type": "code",
      "metadata": {
        "colab": {
          "base_uri": "https://localhost:8080/"
        },
        "id": "4fAwDQwbSckp",
        "outputId": "fe6261f2-943e-404f-aaa9-ec61f98e9001"
      },
      "source": [
        "#variance of model \r\n",
        "\r\n",
        "metrics.explained_variance_score(y_test,predictions)"
      ],
      "execution_count": 44,
      "outputs": [
        {
          "output_type": "execute_result",
          "data": {
            "text/plain": [
              "0.9076652194870971"
            ]
          },
          "metadata": {
            "tags": []
          },
          "execution_count": 44
        }
      ]
    },
    {
      "cell_type": "markdown",
      "metadata": {
        "id": "tpeCMjfISqz-"
      },
      "source": [
        "Final Answer "
      ]
    },
    {
      "cell_type": "code",
      "metadata": {
        "colab": {
          "base_uri": "https://localhost:8080/"
        },
        "id": "IJV83aYKSsG1",
        "outputId": "d32237b3-ff3e-4919-d4d4-d65fbfbd5f10"
      },
      "source": [
        "#If the student studies 9.25 hours/day, then what will be the score ? \r\n",
        "\r\n",
        "hours = np.array(9.25)\r\n",
        "\r\n",
        "hours = hours.reshape(-1,1)\r\n",
        "\r\n",
        "answer = lm.predict(hours)\r\n",
        "\r\n",
        "print(\"If the student studies 9.25 hours/day, then the score will be:\", answer)"
      ],
      "execution_count": 46,
      "outputs": [
        {
          "output_type": "stream",
          "text": [
            "If the student studies 9.25 hours/day, then the score will be: [[94.29276126]]\n"
          ],
          "name": "stdout"
        }
      ]
    }
  ]
}