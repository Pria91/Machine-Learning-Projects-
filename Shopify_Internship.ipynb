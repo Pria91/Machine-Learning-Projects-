{
  "nbformat": 4,
  "nbformat_minor": 0,
  "metadata": {
    "colab": {
      "name": "Shopify_Internship.ipynb",
      "provenance": [],
      "collapsed_sections": [],
      "authorship_tag": "ABX9TyPJuDQJUculC5Zttm47ambS",
      "include_colab_link": true
    },
    "kernelspec": {
      "name": "python3",
      "display_name": "Python 3"
    },
    "language_info": {
      "name": "python"
    }
  },
  "cells": [
    {
      "cell_type": "markdown",
      "metadata": {
        "id": "view-in-github",
        "colab_type": "text"
      },
      "source": [
        "<a href=\"https://colab.research.google.com/github/Pria91/Machine-Learning-Projects-/blob/main/Shopify_Internship.ipynb\" target=\"_parent\"><img src=\"https://colab.research.google.com/assets/colab-badge.svg\" alt=\"Open In Colab\"/></a>"
      ]
    },
    {
      "cell_type": "markdown",
      "metadata": {
        "id": "N2Lks_-Du9Dv"
      },
      "source": [
        "***FALL 2021 DATA SCIENCE INTERN CHALLENGE***"
      ]
    },
    {
      "cell_type": "markdown",
      "metadata": {
        "id": "OoTZ49ybvJFP"
      },
      "source": [
        "***Ques-1:***"
      ]
    },
    {
      "cell_type": "markdown",
      "metadata": {
        "id": "8ceRqy4hvReU"
      },
      "source": [
        "***a)Lets look at the data, play around with a little and familiarize ourselves!***"
      ]
    },
    {
      "cell_type": "code",
      "metadata": {
        "id": "Bv0qUAGGLB0D"
      },
      "source": [
        "#READING THE DATAFILE AND CHECKING "
      ],
      "execution_count": null,
      "outputs": []
    },
    {
      "cell_type": "code",
      "metadata": {
        "id": "mENb0Tfkq60o"
      },
      "source": [
        "import pandas as pd"
      ],
      "execution_count": 1,
      "outputs": []
    },
    {
      "cell_type": "code",
      "metadata": {
        "id": "uppEOvRJrGP6"
      },
      "source": [
        "data = pd.read_excel('/content/Copy of 2019 Winter Data Science Intern Challenge Data Set.xlsx')"
      ],
      "execution_count": 2,
      "outputs": []
    },
    {
      "cell_type": "code",
      "metadata": {
        "colab": {
          "base_uri": "https://localhost:8080/",
          "height": 419
        },
        "id": "h3-0zdC_rMyv",
        "outputId": "1216e1db-7879-4266-b474-b5a39401fd91"
      },
      "source": [
        "data"
      ],
      "execution_count": 3,
      "outputs": [
        {
          "output_type": "execute_result",
          "data": {
            "text/html": [
              "<div>\n",
              "<style scoped>\n",
              "    .dataframe tbody tr th:only-of-type {\n",
              "        vertical-align: middle;\n",
              "    }\n",
              "\n",
              "    .dataframe tbody tr th {\n",
              "        vertical-align: top;\n",
              "    }\n",
              "\n",
              "    .dataframe thead th {\n",
              "        text-align: right;\n",
              "    }\n",
              "</style>\n",
              "<table border=\"1\" class=\"dataframe\">\n",
              "  <thead>\n",
              "    <tr style=\"text-align: right;\">\n",
              "      <th></th>\n",
              "      <th>order_id</th>\n",
              "      <th>shop_id</th>\n",
              "      <th>user_id</th>\n",
              "      <th>order_amount</th>\n",
              "      <th>total_items</th>\n",
              "      <th>payment_method</th>\n",
              "      <th>created_at</th>\n",
              "    </tr>\n",
              "  </thead>\n",
              "  <tbody>\n",
              "    <tr>\n",
              "      <th>0</th>\n",
              "      <td>1</td>\n",
              "      <td>53</td>\n",
              "      <td>746</td>\n",
              "      <td>224</td>\n",
              "      <td>2</td>\n",
              "      <td>cash</td>\n",
              "      <td>2017-03-13 12:36:56.190</td>\n",
              "    </tr>\n",
              "    <tr>\n",
              "      <th>1</th>\n",
              "      <td>2</td>\n",
              "      <td>92</td>\n",
              "      <td>925</td>\n",
              "      <td>90</td>\n",
              "      <td>1</td>\n",
              "      <td>cash</td>\n",
              "      <td>2017-03-03 17:38:51.999</td>\n",
              "    </tr>\n",
              "    <tr>\n",
              "      <th>2</th>\n",
              "      <td>3</td>\n",
              "      <td>44</td>\n",
              "      <td>861</td>\n",
              "      <td>144</td>\n",
              "      <td>1</td>\n",
              "      <td>cash</td>\n",
              "      <td>2017-03-14 04:23:55.595</td>\n",
              "    </tr>\n",
              "    <tr>\n",
              "      <th>3</th>\n",
              "      <td>4</td>\n",
              "      <td>18</td>\n",
              "      <td>935</td>\n",
              "      <td>156</td>\n",
              "      <td>1</td>\n",
              "      <td>credit_card</td>\n",
              "      <td>2017-03-26 12:43:36.649</td>\n",
              "    </tr>\n",
              "    <tr>\n",
              "      <th>4</th>\n",
              "      <td>5</td>\n",
              "      <td>18</td>\n",
              "      <td>883</td>\n",
              "      <td>156</td>\n",
              "      <td>1</td>\n",
              "      <td>credit_card</td>\n",
              "      <td>2017-03-01 04:35:10.773</td>\n",
              "    </tr>\n",
              "    <tr>\n",
              "      <th>...</th>\n",
              "      <td>...</td>\n",
              "      <td>...</td>\n",
              "      <td>...</td>\n",
              "      <td>...</td>\n",
              "      <td>...</td>\n",
              "      <td>...</td>\n",
              "      <td>...</td>\n",
              "    </tr>\n",
              "    <tr>\n",
              "      <th>4995</th>\n",
              "      <td>4996</td>\n",
              "      <td>73</td>\n",
              "      <td>993</td>\n",
              "      <td>330</td>\n",
              "      <td>2</td>\n",
              "      <td>debit</td>\n",
              "      <td>2017-03-30 13:47:16.597</td>\n",
              "    </tr>\n",
              "    <tr>\n",
              "      <th>4996</th>\n",
              "      <td>4997</td>\n",
              "      <td>48</td>\n",
              "      <td>789</td>\n",
              "      <td>234</td>\n",
              "      <td>2</td>\n",
              "      <td>cash</td>\n",
              "      <td>2017-03-16 20:36:16.389</td>\n",
              "    </tr>\n",
              "    <tr>\n",
              "      <th>4997</th>\n",
              "      <td>4998</td>\n",
              "      <td>56</td>\n",
              "      <td>867</td>\n",
              "      <td>351</td>\n",
              "      <td>3</td>\n",
              "      <td>cash</td>\n",
              "      <td>2017-03-19 05:42:42.228</td>\n",
              "    </tr>\n",
              "    <tr>\n",
              "      <th>4998</th>\n",
              "      <td>4999</td>\n",
              "      <td>60</td>\n",
              "      <td>825</td>\n",
              "      <td>354</td>\n",
              "      <td>2</td>\n",
              "      <td>credit_card</td>\n",
              "      <td>2017-03-16 14:51:18.188</td>\n",
              "    </tr>\n",
              "    <tr>\n",
              "      <th>4999</th>\n",
              "      <td>5000</td>\n",
              "      <td>44</td>\n",
              "      <td>734</td>\n",
              "      <td>288</td>\n",
              "      <td>2</td>\n",
              "      <td>debit</td>\n",
              "      <td>2017-03-18 15:48:18.205</td>\n",
              "    </tr>\n",
              "  </tbody>\n",
              "</table>\n",
              "<p>5000 rows × 7 columns</p>\n",
              "</div>"
            ],
            "text/plain": [
              "      order_id  shop_id  ...  payment_method              created_at\n",
              "0            1       53  ...            cash 2017-03-13 12:36:56.190\n",
              "1            2       92  ...            cash 2017-03-03 17:38:51.999\n",
              "2            3       44  ...            cash 2017-03-14 04:23:55.595\n",
              "3            4       18  ...     credit_card 2017-03-26 12:43:36.649\n",
              "4            5       18  ...     credit_card 2017-03-01 04:35:10.773\n",
              "...        ...      ...  ...             ...                     ...\n",
              "4995      4996       73  ...           debit 2017-03-30 13:47:16.597\n",
              "4996      4997       48  ...            cash 2017-03-16 20:36:16.389\n",
              "4997      4998       56  ...            cash 2017-03-19 05:42:42.228\n",
              "4998      4999       60  ...     credit_card 2017-03-16 14:51:18.188\n",
              "4999      5000       44  ...           debit 2017-03-18 15:48:18.205\n",
              "\n",
              "[5000 rows x 7 columns]"
            ]
          },
          "metadata": {
            "tags": []
          },
          "execution_count": 3
        }
      ]
    },
    {
      "cell_type": "code",
      "metadata": {
        "id": "m2HqL4fBLHnk"
      },
      "source": [
        "#CHECKING/MANIPULATING THE DATE AND TIME COLUMN "
      ],
      "execution_count": null,
      "outputs": []
    },
    {
      "cell_type": "code",
      "metadata": {
        "id": "xHtCvv7ds1tb"
      },
      "source": [
        "data['created_at'] = pd.to_datetime(data['created_at']).dt.date"
      ],
      "execution_count": 4,
      "outputs": []
    },
    {
      "cell_type": "code",
      "metadata": {
        "colab": {
          "base_uri": "https://localhost:8080/",
          "height": 419
        },
        "id": "lspjXmAftBtc",
        "outputId": "f0be8ae0-d186-4a3b-f43e-46972a4c55ce"
      },
      "source": [
        "data"
      ],
      "execution_count": 5,
      "outputs": [
        {
          "output_type": "execute_result",
          "data": {
            "text/html": [
              "<div>\n",
              "<style scoped>\n",
              "    .dataframe tbody tr th:only-of-type {\n",
              "        vertical-align: middle;\n",
              "    }\n",
              "\n",
              "    .dataframe tbody tr th {\n",
              "        vertical-align: top;\n",
              "    }\n",
              "\n",
              "    .dataframe thead th {\n",
              "        text-align: right;\n",
              "    }\n",
              "</style>\n",
              "<table border=\"1\" class=\"dataframe\">\n",
              "  <thead>\n",
              "    <tr style=\"text-align: right;\">\n",
              "      <th></th>\n",
              "      <th>order_id</th>\n",
              "      <th>shop_id</th>\n",
              "      <th>user_id</th>\n",
              "      <th>order_amount</th>\n",
              "      <th>total_items</th>\n",
              "      <th>payment_method</th>\n",
              "      <th>created_at</th>\n",
              "    </tr>\n",
              "  </thead>\n",
              "  <tbody>\n",
              "    <tr>\n",
              "      <th>0</th>\n",
              "      <td>1</td>\n",
              "      <td>53</td>\n",
              "      <td>746</td>\n",
              "      <td>224</td>\n",
              "      <td>2</td>\n",
              "      <td>cash</td>\n",
              "      <td>2017-03-13</td>\n",
              "    </tr>\n",
              "    <tr>\n",
              "      <th>1</th>\n",
              "      <td>2</td>\n",
              "      <td>92</td>\n",
              "      <td>925</td>\n",
              "      <td>90</td>\n",
              "      <td>1</td>\n",
              "      <td>cash</td>\n",
              "      <td>2017-03-03</td>\n",
              "    </tr>\n",
              "    <tr>\n",
              "      <th>2</th>\n",
              "      <td>3</td>\n",
              "      <td>44</td>\n",
              "      <td>861</td>\n",
              "      <td>144</td>\n",
              "      <td>1</td>\n",
              "      <td>cash</td>\n",
              "      <td>2017-03-14</td>\n",
              "    </tr>\n",
              "    <tr>\n",
              "      <th>3</th>\n",
              "      <td>4</td>\n",
              "      <td>18</td>\n",
              "      <td>935</td>\n",
              "      <td>156</td>\n",
              "      <td>1</td>\n",
              "      <td>credit_card</td>\n",
              "      <td>2017-03-26</td>\n",
              "    </tr>\n",
              "    <tr>\n",
              "      <th>4</th>\n",
              "      <td>5</td>\n",
              "      <td>18</td>\n",
              "      <td>883</td>\n",
              "      <td>156</td>\n",
              "      <td>1</td>\n",
              "      <td>credit_card</td>\n",
              "      <td>2017-03-01</td>\n",
              "    </tr>\n",
              "    <tr>\n",
              "      <th>...</th>\n",
              "      <td>...</td>\n",
              "      <td>...</td>\n",
              "      <td>...</td>\n",
              "      <td>...</td>\n",
              "      <td>...</td>\n",
              "      <td>...</td>\n",
              "      <td>...</td>\n",
              "    </tr>\n",
              "    <tr>\n",
              "      <th>4995</th>\n",
              "      <td>4996</td>\n",
              "      <td>73</td>\n",
              "      <td>993</td>\n",
              "      <td>330</td>\n",
              "      <td>2</td>\n",
              "      <td>debit</td>\n",
              "      <td>2017-03-30</td>\n",
              "    </tr>\n",
              "    <tr>\n",
              "      <th>4996</th>\n",
              "      <td>4997</td>\n",
              "      <td>48</td>\n",
              "      <td>789</td>\n",
              "      <td>234</td>\n",
              "      <td>2</td>\n",
              "      <td>cash</td>\n",
              "      <td>2017-03-16</td>\n",
              "    </tr>\n",
              "    <tr>\n",
              "      <th>4997</th>\n",
              "      <td>4998</td>\n",
              "      <td>56</td>\n",
              "      <td>867</td>\n",
              "      <td>351</td>\n",
              "      <td>3</td>\n",
              "      <td>cash</td>\n",
              "      <td>2017-03-19</td>\n",
              "    </tr>\n",
              "    <tr>\n",
              "      <th>4998</th>\n",
              "      <td>4999</td>\n",
              "      <td>60</td>\n",
              "      <td>825</td>\n",
              "      <td>354</td>\n",
              "      <td>2</td>\n",
              "      <td>credit_card</td>\n",
              "      <td>2017-03-16</td>\n",
              "    </tr>\n",
              "    <tr>\n",
              "      <th>4999</th>\n",
              "      <td>5000</td>\n",
              "      <td>44</td>\n",
              "      <td>734</td>\n",
              "      <td>288</td>\n",
              "      <td>2</td>\n",
              "      <td>debit</td>\n",
              "      <td>2017-03-18</td>\n",
              "    </tr>\n",
              "  </tbody>\n",
              "</table>\n",
              "<p>5000 rows × 7 columns</p>\n",
              "</div>"
            ],
            "text/plain": [
              "      order_id  shop_id  user_id  ...  total_items  payment_method  created_at\n",
              "0            1       53      746  ...            2            cash  2017-03-13\n",
              "1            2       92      925  ...            1            cash  2017-03-03\n",
              "2            3       44      861  ...            1            cash  2017-03-14\n",
              "3            4       18      935  ...            1     credit_card  2017-03-26\n",
              "4            5       18      883  ...            1     credit_card  2017-03-01\n",
              "...        ...      ...      ...  ...          ...             ...         ...\n",
              "4995      4996       73      993  ...            2           debit  2017-03-30\n",
              "4996      4997       48      789  ...            2            cash  2017-03-16\n",
              "4997      4998       56      867  ...            3            cash  2017-03-19\n",
              "4998      4999       60      825  ...            2     credit_card  2017-03-16\n",
              "4999      5000       44      734  ...            2           debit  2017-03-18\n",
              "\n",
              "[5000 rows x 7 columns]"
            ]
          },
          "metadata": {
            "tags": []
          },
          "execution_count": 5
        }
      ]
    },
    {
      "cell_type": "code",
      "metadata": {
        "colab": {
          "base_uri": "https://localhost:8080/"
        },
        "id": "4XkTcFG4tISf",
        "outputId": "e235162f-f571-4bcc-c370-13bb00b356b5"
      },
      "source": [
        "max(data['created_at'])"
      ],
      "execution_count": 6,
      "outputs": [
        {
          "output_type": "execute_result",
          "data": {
            "text/plain": [
              "datetime.date(2017, 3, 30)"
            ]
          },
          "metadata": {
            "tags": []
          },
          "execution_count": 6
        }
      ]
    },
    {
      "cell_type": "code",
      "metadata": {
        "colab": {
          "base_uri": "https://localhost:8080/"
        },
        "id": "mixmGFQYtiNO",
        "outputId": "35f8197b-4e65-43cf-ee0a-ac0befa4fe51"
      },
      "source": [
        "min(data['created_at'])"
      ],
      "execution_count": 7,
      "outputs": [
        {
          "output_type": "execute_result",
          "data": {
            "text/plain": [
              "datetime.date(2017, 3, 1)"
            ]
          },
          "metadata": {
            "tags": []
          },
          "execution_count": 7
        }
      ]
    },
    {
      "cell_type": "code",
      "metadata": {
        "colab": {
          "base_uri": "https://localhost:8080/"
        },
        "id": "haSlpU9Ntmvu",
        "outputId": "b0aef106-f4da-4d68-d1cb-a37ddf735c75"
      },
      "source": [
        "data.sum(axis = 0)"
      ],
      "execution_count": 10,
      "outputs": [
        {
          "output_type": "execute_result",
          "data": {
            "text/plain": [
              "order_id                                                   12502500\n",
              "shop_id                                                      250394\n",
              "user_id                                                     4245462\n",
              "order_amount                                               15725640\n",
              "total_items                                                   43936\n",
              "payment_method    cashcashcashcredit_cardcredit_cardcredit_cardc...\n",
              "dtype: object"
            ]
          },
          "metadata": {
            "tags": []
          },
          "execution_count": 10
        }
      ]
    },
    {
      "cell_type": "code",
      "metadata": {
        "id": "Ag_LcRm_upTP"
      },
      "source": [
        "#AOV = sum divided by total number of orders i.e 15725640/5000 = 3145.128 OR 3145.13"
      ],
      "execution_count": null,
      "outputs": []
    },
    {
      "cell_type": "markdown",
      "metadata": {
        "id": "mdTm88fWvfPk"
      },
      "source": [
        "***Given the 100 sneaker shops, and each shop selling only one model of an affordable shoes, an AOV of 3145.13 for a 30-day sales window sounds a little absurd. Even though, mathematically, the average of the order values in 30 days period comes out to be $3145.13, it is not a perfect choice of metric for healthy business understanding. The main reason is that, statistically, looking at the average of the sales gives only a partial understanding of the scene. A better way to evaluate this data would comprise of looking at other metrics as well, such as, median, mode etc. In another words, looking at the order that is most frequent and strategizing around that would make more business sense than looking at an average of all the orders***"
      ]
    },
    {
      "cell_type": "markdown",
      "metadata": {
        "id": "G5ib833zICg3"
      },
      "source": [
        "***b)***"
      ]
    },
    {
      "cell_type": "markdown",
      "metadata": {
        "id": "n9A2Irrhv6GZ"
      },
      "source": [
        "***Based on the discussion above, looking at Mode would be a good starting point***"
      ]
    },
    {
      "cell_type": "markdown",
      "metadata": {
        "id": "m2k7yCrowIBl"
      },
      "source": [
        "***c)***"
      ]
    },
    {
      "cell_type": "markdown",
      "metadata": {
        "id": "2mpK5PU-H5Rz"
      },
      "source": [
        "***Create a small subset of data to verify my calculations for mode***"
      ]
    },
    {
      "cell_type": "code",
      "metadata": {
        "colab": {
          "base_uri": "https://localhost:8080/",
          "height": 669
        },
        "id": "UqWHtmqaHYIM",
        "outputId": "601688d1-d123-4372-ad27-e8e76173b1c9"
      },
      "source": [
        "data1 = data.head(20)\n",
        "data1"
      ],
      "execution_count": 37,
      "outputs": [
        {
          "output_type": "execute_result",
          "data": {
            "text/html": [
              "<div>\n",
              "<style scoped>\n",
              "    .dataframe tbody tr th:only-of-type {\n",
              "        vertical-align: middle;\n",
              "    }\n",
              "\n",
              "    .dataframe tbody tr th {\n",
              "        vertical-align: top;\n",
              "    }\n",
              "\n",
              "    .dataframe thead th {\n",
              "        text-align: right;\n",
              "    }\n",
              "</style>\n",
              "<table border=\"1\" class=\"dataframe\">\n",
              "  <thead>\n",
              "    <tr style=\"text-align: right;\">\n",
              "      <th></th>\n",
              "      <th>order_id</th>\n",
              "      <th>shop_id</th>\n",
              "      <th>user_id</th>\n",
              "      <th>order_amount</th>\n",
              "      <th>total_items</th>\n",
              "      <th>payment_method</th>\n",
              "      <th>created_at</th>\n",
              "    </tr>\n",
              "  </thead>\n",
              "  <tbody>\n",
              "    <tr>\n",
              "      <th>0</th>\n",
              "      <td>1</td>\n",
              "      <td>53</td>\n",
              "      <td>746</td>\n",
              "      <td>224</td>\n",
              "      <td>2</td>\n",
              "      <td>cash</td>\n",
              "      <td>2017-03-13</td>\n",
              "    </tr>\n",
              "    <tr>\n",
              "      <th>1</th>\n",
              "      <td>2</td>\n",
              "      <td>92</td>\n",
              "      <td>925</td>\n",
              "      <td>90</td>\n",
              "      <td>1</td>\n",
              "      <td>cash</td>\n",
              "      <td>2017-03-03</td>\n",
              "    </tr>\n",
              "    <tr>\n",
              "      <th>2</th>\n",
              "      <td>3</td>\n",
              "      <td>44</td>\n",
              "      <td>861</td>\n",
              "      <td>144</td>\n",
              "      <td>1</td>\n",
              "      <td>cash</td>\n",
              "      <td>2017-03-14</td>\n",
              "    </tr>\n",
              "    <tr>\n",
              "      <th>3</th>\n",
              "      <td>4</td>\n",
              "      <td>18</td>\n",
              "      <td>935</td>\n",
              "      <td>156</td>\n",
              "      <td>1</td>\n",
              "      <td>credit_card</td>\n",
              "      <td>2017-03-26</td>\n",
              "    </tr>\n",
              "    <tr>\n",
              "      <th>4</th>\n",
              "      <td>5</td>\n",
              "      <td>18</td>\n",
              "      <td>883</td>\n",
              "      <td>156</td>\n",
              "      <td>1</td>\n",
              "      <td>credit_card</td>\n",
              "      <td>2017-03-01</td>\n",
              "    </tr>\n",
              "    <tr>\n",
              "      <th>5</th>\n",
              "      <td>6</td>\n",
              "      <td>58</td>\n",
              "      <td>882</td>\n",
              "      <td>138</td>\n",
              "      <td>1</td>\n",
              "      <td>credit_card</td>\n",
              "      <td>2017-03-14</td>\n",
              "    </tr>\n",
              "    <tr>\n",
              "      <th>6</th>\n",
              "      <td>7</td>\n",
              "      <td>87</td>\n",
              "      <td>915</td>\n",
              "      <td>149</td>\n",
              "      <td>1</td>\n",
              "      <td>cash</td>\n",
              "      <td>2017-03-01</td>\n",
              "    </tr>\n",
              "    <tr>\n",
              "      <th>7</th>\n",
              "      <td>8</td>\n",
              "      <td>22</td>\n",
              "      <td>761</td>\n",
              "      <td>292</td>\n",
              "      <td>2</td>\n",
              "      <td>cash</td>\n",
              "      <td>2017-03-08</td>\n",
              "    </tr>\n",
              "    <tr>\n",
              "      <th>8</th>\n",
              "      <td>9</td>\n",
              "      <td>64</td>\n",
              "      <td>914</td>\n",
              "      <td>266</td>\n",
              "      <td>2</td>\n",
              "      <td>debit</td>\n",
              "      <td>2017-03-17</td>\n",
              "    </tr>\n",
              "    <tr>\n",
              "      <th>9</th>\n",
              "      <td>10</td>\n",
              "      <td>52</td>\n",
              "      <td>788</td>\n",
              "      <td>146</td>\n",
              "      <td>1</td>\n",
              "      <td>credit_card</td>\n",
              "      <td>2017-03-30</td>\n",
              "    </tr>\n",
              "    <tr>\n",
              "      <th>10</th>\n",
              "      <td>11</td>\n",
              "      <td>66</td>\n",
              "      <td>848</td>\n",
              "      <td>322</td>\n",
              "      <td>2</td>\n",
              "      <td>credit_card</td>\n",
              "      <td>2017-03-26</td>\n",
              "    </tr>\n",
              "    <tr>\n",
              "      <th>11</th>\n",
              "      <td>12</td>\n",
              "      <td>40</td>\n",
              "      <td>983</td>\n",
              "      <td>322</td>\n",
              "      <td>2</td>\n",
              "      <td>debit</td>\n",
              "      <td>2017-03-12</td>\n",
              "    </tr>\n",
              "    <tr>\n",
              "      <th>12</th>\n",
              "      <td>13</td>\n",
              "      <td>54</td>\n",
              "      <td>799</td>\n",
              "      <td>266</td>\n",
              "      <td>2</td>\n",
              "      <td>credit_card</td>\n",
              "      <td>2017-03-16</td>\n",
              "    </tr>\n",
              "    <tr>\n",
              "      <th>13</th>\n",
              "      <td>14</td>\n",
              "      <td>100</td>\n",
              "      <td>709</td>\n",
              "      <td>111</td>\n",
              "      <td>1</td>\n",
              "      <td>cash</td>\n",
              "      <td>2017-03-22</td>\n",
              "    </tr>\n",
              "    <tr>\n",
              "      <th>14</th>\n",
              "      <td>15</td>\n",
              "      <td>87</td>\n",
              "      <td>849</td>\n",
              "      <td>447</td>\n",
              "      <td>3</td>\n",
              "      <td>credit_card</td>\n",
              "      <td>2017-03-10</td>\n",
              "    </tr>\n",
              "    <tr>\n",
              "      <th>15</th>\n",
              "      <td>16</td>\n",
              "      <td>42</td>\n",
              "      <td>607</td>\n",
              "      <td>704000</td>\n",
              "      <td>2000</td>\n",
              "      <td>credit_card</td>\n",
              "      <td>2017-03-07</td>\n",
              "    </tr>\n",
              "    <tr>\n",
              "      <th>16</th>\n",
              "      <td>17</td>\n",
              "      <td>17</td>\n",
              "      <td>731</td>\n",
              "      <td>176</td>\n",
              "      <td>1</td>\n",
              "      <td>cash</td>\n",
              "      <td>2017-03-21</td>\n",
              "    </tr>\n",
              "    <tr>\n",
              "      <th>17</th>\n",
              "      <td>18</td>\n",
              "      <td>28</td>\n",
              "      <td>752</td>\n",
              "      <td>164</td>\n",
              "      <td>1</td>\n",
              "      <td>credit_card</td>\n",
              "      <td>2017-03-21</td>\n",
              "    </tr>\n",
              "    <tr>\n",
              "      <th>18</th>\n",
              "      <td>19</td>\n",
              "      <td>83</td>\n",
              "      <td>761</td>\n",
              "      <td>258</td>\n",
              "      <td>2</td>\n",
              "      <td>cash</td>\n",
              "      <td>2017-03-17</td>\n",
              "    </tr>\n",
              "    <tr>\n",
              "      <th>19</th>\n",
              "      <td>20</td>\n",
              "      <td>63</td>\n",
              "      <td>898</td>\n",
              "      <td>408</td>\n",
              "      <td>3</td>\n",
              "      <td>credit_card</td>\n",
              "      <td>2017-03-29</td>\n",
              "    </tr>\n",
              "  </tbody>\n",
              "</table>\n",
              "</div>"
            ],
            "text/plain": [
              "    order_id  shop_id  user_id  ...  total_items  payment_method  created_at\n",
              "0          1       53      746  ...            2            cash  2017-03-13\n",
              "1          2       92      925  ...            1            cash  2017-03-03\n",
              "2          3       44      861  ...            1            cash  2017-03-14\n",
              "3          4       18      935  ...            1     credit_card  2017-03-26\n",
              "4          5       18      883  ...            1     credit_card  2017-03-01\n",
              "5          6       58      882  ...            1     credit_card  2017-03-14\n",
              "6          7       87      915  ...            1            cash  2017-03-01\n",
              "7          8       22      761  ...            2            cash  2017-03-08\n",
              "8          9       64      914  ...            2           debit  2017-03-17\n",
              "9         10       52      788  ...            1     credit_card  2017-03-30\n",
              "10        11       66      848  ...            2     credit_card  2017-03-26\n",
              "11        12       40      983  ...            2           debit  2017-03-12\n",
              "12        13       54      799  ...            2     credit_card  2017-03-16\n",
              "13        14      100      709  ...            1            cash  2017-03-22\n",
              "14        15       87      849  ...            3     credit_card  2017-03-10\n",
              "15        16       42      607  ...         2000     credit_card  2017-03-07\n",
              "16        17       17      731  ...            1            cash  2017-03-21\n",
              "17        18       28      752  ...            1     credit_card  2017-03-21\n",
              "18        19       83      761  ...            2            cash  2017-03-17\n",
              "19        20       63      898  ...            3     credit_card  2017-03-29\n",
              "\n",
              "[20 rows x 7 columns]"
            ]
          },
          "metadata": {
            "tags": []
          },
          "execution_count": 37
        }
      ]
    },
    {
      "cell_type": "code",
      "metadata": {
        "colab": {
          "base_uri": "https://localhost:8080/"
        },
        "id": "_f2FyFyxHMzu",
        "outputId": "15bd7fe3-3028-4ba6-de8c-0ca40b682850"
      },
      "source": [
        "data1['total_items'].value_counts()"
      ],
      "execution_count": 28,
      "outputs": [
        {
          "output_type": "execute_result",
          "data": {
            "text/plain": [
              "1       10\n",
              "2        7\n",
              "3        2\n",
              "2000     1\n",
              "Name: total_items, dtype: int64"
            ]
          },
          "metadata": {
            "tags": []
          },
          "execution_count": 28
        }
      ]
    },
    {
      "cell_type": "code",
      "metadata": {
        "colab": {
          "base_uri": "https://localhost:8080/"
        },
        "id": "IjNfQjQQGbMr",
        "outputId": "ba9c8322-6660-4f07-ee58-f1931cc12fb4"
      },
      "source": [
        "data1['total_items'].mode()"
      ],
      "execution_count": 33,
      "outputs": [
        {
          "output_type": "execute_result",
          "data": {
            "text/plain": [
              "0    1\n",
              "dtype: int64"
            ]
          },
          "metadata": {
            "tags": []
          },
          "execution_count": 33
        }
      ]
    },
    {
      "cell_type": "code",
      "metadata": {
        "id": "G70oiCcrIN7J"
      },
      "source": [
        "#Lets check mode for \"Order Amount\" in entire dataframe "
      ],
      "execution_count": null,
      "outputs": []
    },
    {
      "cell_type": "code",
      "metadata": {
        "colab": {
          "base_uri": "https://localhost:8080/"
        },
        "id": "DR361XNoFHWz",
        "outputId": "2661397d-4148-48ba-b432-40f8c560b599"
      },
      "source": [
        "data['order_amount'].value_counts()"
      ],
      "execution_count": 34,
      "outputs": [
        {
          "output_type": "execute_result",
          "data": {
            "text/plain": [
              "153    87\n",
              "306    85\n",
              "354    82\n",
              "312    75\n",
              "156    75\n",
              "       ..\n",
              "404     1\n",
              "948     1\n",
              "920     1\n",
              "816     1\n",
              "980     1\n",
              "Name: order_amount, Length: 258, dtype: int64"
            ]
          },
          "metadata": {
            "tags": []
          },
          "execution_count": 34
        }
      ]
    },
    {
      "cell_type": "code",
      "metadata": {
        "colab": {
          "base_uri": "https://localhost:8080/"
        },
        "id": "09ucXFsrIpzF",
        "outputId": "89568134-25f3-446f-c01e-7654cd8c3a36"
      },
      "source": [
        "data['order_amount'].mode()"
      ],
      "execution_count": 35,
      "outputs": [
        {
          "output_type": "execute_result",
          "data": {
            "text/plain": [
              "0    153\n",
              "dtype: int64"
            ]
          },
          "metadata": {
            "tags": []
          },
          "execution_count": 35
        }
      ]
    },
    {
      "cell_type": "markdown",
      "metadata": {
        "id": "LIFrmhugJDNS"
      },
      "source": [
        "***Modal value for Order Amount is 153. This implies that most of the orders being placed are around this money value. Therefore, for a successful assessment of the business, this number should be the guiding force as it is closer to reality and not skewed like AOV***"
      ]
    },
    {
      "cell_type": "code",
      "metadata": {
        "id": "C3JXqeXEwOT-"
      },
      "source": [
        "#********************************************************************************************"
      ],
      "execution_count": null,
      "outputs": []
    },
    {
      "cell_type": "markdown",
      "metadata": {
        "id": "ejLFNIAgwVmC"
      },
      "source": [
        "***Ques-2:***"
      ]
    },
    {
      "cell_type": "markdown",
      "metadata": {
        "id": "ozGI2J84wr9q"
      },
      "source": [
        "***a)***"
      ]
    },
    {
      "cell_type": "markdown",
      "metadata": {
        "id": "VFdV-VXkwuIf"
      },
      "source": [
        "Since Speedy Express is Shipper ID is 1, one possible query to find out an answer to how many orders were shipped by Speedy Express in total is,  \n",
        "\n",
        "**SELECT * FROM Orders where ShipperID ==1;**\n",
        "\n",
        " \n",
        "\n",
        "The numerical answer is **54**"
      ]
    },
    {
      "cell_type": "markdown",
      "metadata": {
        "id": "aNDjvapjw4ck"
      },
      "source": [
        "***b)***"
      ]
    },
    {
      "cell_type": "markdown",
      "metadata": {
        "id": "8ULB9dBSw6E3"
      },
      "source": [
        "To find the last name of the employee with the most order, a common key connecting order details and employee details had to be found.  \n",
        "\n",
        " \n",
        "\n",
        "Looked the OrderDetails table first, to find the maximum number of orders:  \n",
        "\n",
        "**SELECT OrderID, MAX(Quantity) FROM OrderDetails;**\n",
        "\n",
        "The numerical answer is maximum number of orders is **120** for OrderID = 10398 \n",
        "\n",
        " \n",
        "\n",
        "Looked the Orders table to find employee id corresponding to order id \n",
        "\n",
        "**SELECT EmployeeID FROM Orders WHERE OrderID = 10398;** \n",
        "\n",
        " \n",
        "\n",
        "Looked at Employees table to find last name of the employee with maximum orders  \n",
        "\n",
        "**SELECT * FROM Employees where EmployeeID = 2;**\n",
        "\n",
        " \n",
        "\n",
        "The last name of the employee with maximum number of orders is **Fuller (Andrew Fuller)**"
      ]
    },
    {
      "cell_type": "markdown",
      "metadata": {
        "id": "jKNMAWopxED-"
      },
      "source": [
        "***c)***"
      ]
    },
    {
      "cell_type": "markdown",
      "metadata": {
        "id": "NrrQAIrtxGem"
      },
      "source": [
        "Used JOIN function for this question  \n",
        "\n",
        " \n",
        "\n",
        "**SELECT Customers.CustomerID, \n",
        "Customers.Country,  \n",
        "Orders.OrderID, \n",
        "Products.ProductName, \n",
        "Products.ProductID, \n",
        "OrderDetails.Quantity,\n",
        "MAX(Quantity)**\n",
        "\n",
        "   \n",
        "**FROM Customers JOIN Orders**\n",
        "\n",
        "**ON Customers.CustomerID = Orders.CustomerID** \n",
        "\n",
        "**JOIN OrderDetails ON OrderDetails.OrderID = Orders.OrderID**\n",
        "\n",
        "**JOIN Products ON Products.ProductID = OrderDetails.ProductID**\n",
        "\n",
        "**WHERE Country = \"Germany\";**\n",
        "\n",
        " \n",
        "\n",
        " \n",
        "\n",
        "The answer is **Steeleye Stout**  \n",
        "\n",
        "**Ordered by CustomerID = 63 in OrderID = 10286 from Germany. ProductID = 35 for a Quantity = 100**"
      ]
    },
    {
      "cell_type": "code",
      "metadata": {
        "id": "aNmAiBXsL__f"
      },
      "source": [
        "#***************************************************************************************"
      ],
      "execution_count": null,
      "outputs": []
    },
    {
      "cell_type": "markdown",
      "metadata": {
        "id": "_zUIkDVmL8KY"
      },
      "source": [
        "***THANKS FOR READING***"
      ]
    }
  ]
}