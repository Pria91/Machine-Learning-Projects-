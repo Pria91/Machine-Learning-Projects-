{
  "nbformat": 4,
  "nbformat_minor": 0,
  "metadata": {
    "colab": {
      "name": "AirlinesDataAnalysis.ipynb",
      "provenance": [],
      "collapsed_sections": [],
      "authorship_tag": "ABX9TyO3TcUyJGwK3PYkHqANptPJ",
      "include_colab_link": true
    },
    "kernelspec": {
      "name": "python3",
      "display_name": "Python 3"
    }
  },
  "cells": [
    {
      "cell_type": "markdown",
      "metadata": {
        "id": "view-in-github",
        "colab_type": "text"
      },
      "source": [
        "<a href=\"https://colab.research.google.com/github/Pria91/Machine-Learning-Projects-/blob/main/AirlinesDataAnalysis.ipynb\" target=\"_parent\"><img src=\"https://colab.research.google.com/assets/colab-badge.svg\" alt=\"Open In Colab\"/></a>"
      ]
    },
    {
      "cell_type": "markdown",
      "metadata": {
        "id": "NMRo6Bd1Xa8s"
      },
      "source": [
        "***Lets import the libraries and input data file***"
      ]
    },
    {
      "cell_type": "code",
      "metadata": {
        "colab": {
          "base_uri": "https://localhost:8080/",
          "height": 439
        },
        "id": "ZXHFH2JeUFXa",
        "outputId": "a883da71-86c2-44b4-c95c-ccbc1f85effa"
      },
      "source": [
        "import pandas as pd \r\n",
        "import numpy as np \r\n",
        "import seaborn as sns\r\n",
        "import matplotlib.pyplot as plt  \r\n",
        "\r\n",
        "df = pd.read_csv('/content/data_sof.csv')\r\n",
        "df"
      ],
      "execution_count": null,
      "outputs": [
        {
          "output_type": "execute_result",
          "data": {
            "text/html": [
              "<div>\n",
              "<style scoped>\n",
              "    .dataframe tbody tr th:only-of-type {\n",
              "        vertical-align: middle;\n",
              "    }\n",
              "\n",
              "    .dataframe tbody tr th {\n",
              "        vertical-align: top;\n",
              "    }\n",
              "\n",
              "    .dataframe thead th {\n",
              "        text-align: right;\n",
              "    }\n",
              "</style>\n",
              "<table border=\"1\" class=\"dataframe\">\n",
              "  <thead>\n",
              "    <tr style=\"text-align: right;\">\n",
              "      <th></th>\n",
              "      <th>OP_CARRIER_AIRLINE_ID</th>\n",
              "      <th>ORIGIN_AIRPORT_ID</th>\n",
              "      <th>ORIGIN_AIRPORT_SEQ_ID</th>\n",
              "      <th>ORIGIN_CITY_MARKET_ID</th>\n",
              "      <th>DEST_AIRPORT_ID</th>\n",
              "      <th>DEST_AIRPORT_SEQ_ID</th>\n",
              "      <th>DEST_CITY_MARKET_ID</th>\n",
              "      <th>DEP_DELAY_NEW</th>\n",
              "    </tr>\n",
              "  </thead>\n",
              "  <tbody>\n",
              "    <tr>\n",
              "      <th>0</th>\n",
              "      <td>19393</td>\n",
              "      <td>10821</td>\n",
              "      <td>1082103</td>\n",
              "      <td>30852</td>\n",
              "      <td>14122</td>\n",
              "      <td>1412202</td>\n",
              "      <td>30198</td>\n",
              "      <td>0.0</td>\n",
              "    </tr>\n",
              "    <tr>\n",
              "      <th>1</th>\n",
              "      <td>19393</td>\n",
              "      <td>10821</td>\n",
              "      <td>1082103</td>\n",
              "      <td>30852</td>\n",
              "      <td>14122</td>\n",
              "      <td>1412202</td>\n",
              "      <td>30198</td>\n",
              "      <td>1.0</td>\n",
              "    </tr>\n",
              "    <tr>\n",
              "      <th>2</th>\n",
              "      <td>19393</td>\n",
              "      <td>10821</td>\n",
              "      <td>1082103</td>\n",
              "      <td>30852</td>\n",
              "      <td>14122</td>\n",
              "      <td>1412202</td>\n",
              "      <td>30198</td>\n",
              "      <td>11.0</td>\n",
              "    </tr>\n",
              "    <tr>\n",
              "      <th>3</th>\n",
              "      <td>19393</td>\n",
              "      <td>10821</td>\n",
              "      <td>1082103</td>\n",
              "      <td>30852</td>\n",
              "      <td>14122</td>\n",
              "      <td>1412202</td>\n",
              "      <td>30198</td>\n",
              "      <td>29.0</td>\n",
              "    </tr>\n",
              "    <tr>\n",
              "      <th>4</th>\n",
              "      <td>19393</td>\n",
              "      <td>10821</td>\n",
              "      <td>1082103</td>\n",
              "      <td>30852</td>\n",
              "      <td>14307</td>\n",
              "      <td>1430702</td>\n",
              "      <td>30721</td>\n",
              "      <td>0.0</td>\n",
              "    </tr>\n",
              "    <tr>\n",
              "      <th>...</th>\n",
              "      <td>...</td>\n",
              "      <td>...</td>\n",
              "      <td>...</td>\n",
              "      <td>...</td>\n",
              "      <td>...</td>\n",
              "      <td>...</td>\n",
              "      <td>...</td>\n",
              "      <td>...</td>\n",
              "    </tr>\n",
              "    <tr>\n",
              "      <th>140808</th>\n",
              "      <td>19790</td>\n",
              "      <td>11433</td>\n",
              "      <td>1143302</td>\n",
              "      <td>31295</td>\n",
              "      <td>11057</td>\n",
              "      <td>1105703</td>\n",
              "      <td>31057</td>\n",
              "      <td>0.0</td>\n",
              "    </tr>\n",
              "    <tr>\n",
              "      <th>140809</th>\n",
              "      <td>19790</td>\n",
              "      <td>11057</td>\n",
              "      <td>1105703</td>\n",
              "      <td>31057</td>\n",
              "      <td>11433</td>\n",
              "      <td>1143302</td>\n",
              "      <td>31295</td>\n",
              "      <td>0.0</td>\n",
              "    </tr>\n",
              "    <tr>\n",
              "      <th>140810</th>\n",
              "      <td>19790</td>\n",
              "      <td>12892</td>\n",
              "      <td>1289203</td>\n",
              "      <td>32575</td>\n",
              "      <td>12889</td>\n",
              "      <td>1288903</td>\n",
              "      <td>32211</td>\n",
              "      <td>123.0</td>\n",
              "    </tr>\n",
              "    <tr>\n",
              "      <th>140811</th>\n",
              "      <td>19790</td>\n",
              "      <td>10397</td>\n",
              "      <td>1039705</td>\n",
              "      <td>30397</td>\n",
              "      <td>12451</td>\n",
              "      <td>1245102</td>\n",
              "      <td>31136</td>\n",
              "      <td>11.0</td>\n",
              "    </tr>\n",
              "    <tr>\n",
              "      <th>140812</th>\n",
              "      <td>19790</td>\n",
              "      <td>12451</td>\n",
              "      <td>1245102</td>\n",
              "      <td>31136</td>\n",
              "      <td>10397</td>\n",
              "      <td>1039705</td>\n",
              "      <td>30397</td>\n",
              "      <td>0.0</td>\n",
              "    </tr>\n",
              "  </tbody>\n",
              "</table>\n",
              "<p>140813 rows × 8 columns</p>\n",
              "</div>"
            ],
            "text/plain": [
              "        OP_CARRIER_AIRLINE_ID  ...  DEP_DELAY_NEW\n",
              "0                       19393  ...            0.0\n",
              "1                       19393  ...            1.0\n",
              "2                       19393  ...           11.0\n",
              "3                       19393  ...           29.0\n",
              "4                       19393  ...            0.0\n",
              "...                       ...  ...            ...\n",
              "140808                  19790  ...            0.0\n",
              "140809                  19790  ...            0.0\n",
              "140810                  19790  ...          123.0\n",
              "140811                  19790  ...           11.0\n",
              "140812                  19790  ...            0.0\n",
              "\n",
              "[140813 rows x 8 columns]"
            ]
          },
          "metadata": {
            "tags": []
          },
          "execution_count": 57
        }
      ]
    },
    {
      "cell_type": "code",
      "metadata": {
        "colab": {
          "base_uri": "https://localhost:8080/"
        },
        "id": "vbpPzpXBX4OJ",
        "outputId": "3c10fb80-6d22-40be-93aa-8d4cab616f05"
      },
      "source": [
        "df.info"
      ],
      "execution_count": null,
      "outputs": [
        {
          "output_type": "execute_result",
          "data": {
            "text/plain": [
              "<bound method DataFrame.info of         OP_CARRIER_AIRLINE_ID  ...  DEP_DELAY_NEW\n",
              "0                       19393  ...            0.0\n",
              "1                       19393  ...            1.0\n",
              "2                       19393  ...           11.0\n",
              "3                       19393  ...           29.0\n",
              "4                       19393  ...            0.0\n",
              "...                       ...  ...            ...\n",
              "442617                  21171  ...            0.0\n",
              "442618                  21171  ...            0.0\n",
              "442619                  21171  ...            0.0\n",
              "442620                  21171  ...            0.0\n",
              "442621                  21171  ...            NaN\n",
              "\n",
              "[442622 rows x 8 columns]>"
            ]
          },
          "metadata": {
            "tags": []
          },
          "execution_count": 2
        }
      ]
    },
    {
      "cell_type": "code",
      "metadata": {
        "colab": {
          "base_uri": "https://localhost:8080/"
        },
        "id": "xgS8gQjkX8Bz",
        "outputId": "7f95e212-e78b-4ea3-c74a-0fc5727dce42"
      },
      "source": [
        "df.shape"
      ],
      "execution_count": null,
      "outputs": [
        {
          "output_type": "execute_result",
          "data": {
            "text/plain": [
              "(445827, 8)"
            ]
          },
          "metadata": {
            "tags": []
          },
          "execution_count": 10
        }
      ]
    },
    {
      "cell_type": "code",
      "metadata": {
        "colab": {
          "base_uri": "https://localhost:8080/"
        },
        "id": "A-jJEmdgX-0P",
        "outputId": "5f02c8de-d8fc-4100-861f-a52b188486f1"
      },
      "source": [
        "df.columns"
      ],
      "execution_count": null,
      "outputs": [
        {
          "output_type": "execute_result",
          "data": {
            "text/plain": [
              "Index(['OP_CARRIER_AIRLINE_ID', 'ORIGIN_AIRPORT_ID', 'ORIGIN_AIRPORT_SEQ_ID',\n",
              "       'ORIGIN_CITY_MARKET_ID', 'DEST_AIRPORT_ID', 'DEST_AIRPORT_SEQ_ID',\n",
              "       'DEST_CITY_MARKET_ID', 'DEP_DELAY_NEW'],\n",
              "      dtype='object')"
            ]
          },
          "metadata": {
            "tags": []
          },
          "execution_count": 11
        }
      ]
    },
    {
      "cell_type": "markdown",
      "metadata": {
        "id": "vrxWlY7gXsz4"
      },
      "source": [
        "***Lets find the null values, if any, in data set***"
      ]
    },
    {
      "cell_type": "code",
      "metadata": {
        "id": "3lSGcPwDXr7R"
      },
      "source": [
        "# TO FIND OUT TOTAL NUMBER OF NULL VALUES IN EVERY COLUMN "
      ],
      "execution_count": null,
      "outputs": []
    },
    {
      "cell_type": "code",
      "metadata": {
        "colab": {
          "base_uri": "https://localhost:8080/"
        },
        "id": "5DOoTNs5WAmB",
        "outputId": "a20da9b5-c737-4d68-9f75-fb3c5d412fa0"
      },
      "source": [
        "null_columns = df.columns[df.isnull().any()]\r\n",
        "df[null_columns].isnull().sum()"
      ],
      "execution_count": null,
      "outputs": [
        {
          "output_type": "execute_result",
          "data": {
            "text/plain": [
              "DEP_DELAY_NEW    11473\n",
              "dtype: int64"
            ]
          },
          "metadata": {
            "tags": []
          },
          "execution_count": 16
        }
      ]
    },
    {
      "cell_type": "code",
      "metadata": {
        "colab": {
          "base_uri": "https://localhost:8080/"
        },
        "id": "AuNkDWlWZXyw",
        "outputId": "d34b6b2e-99d7-4682-a133-4dc11331a705"
      },
      "source": [
        "df.isnull().sum()"
      ],
      "execution_count": null,
      "outputs": [
        {
          "output_type": "execute_result",
          "data": {
            "text/plain": [
              "OP_CARRIER_AIRLINE_ID        0\n",
              "ORIGIN_AIRPORT_ID            0\n",
              "ORIGIN_AIRPORT_SEQ_ID        0\n",
              "ORIGIN_CITY_MARKET_ID        0\n",
              "DEST_AIRPORT_ID              0\n",
              "DEST_AIRPORT_SEQ_ID          0\n",
              "DEST_CITY_MARKET_ID          0\n",
              "DEP_DELAY_NEW            11473\n",
              "dtype: int64"
            ]
          },
          "metadata": {
            "tags": []
          },
          "execution_count": 17
        }
      ]
    },
    {
      "cell_type": "code",
      "metadata": {
        "id": "B1ZtjymkYDRd"
      },
      "source": [
        "# There is only one column DEP_DELAY_NEW which has 11473 nulls "
      ],
      "execution_count": null,
      "outputs": []
    },
    {
      "cell_type": "code",
      "metadata": {
        "colab": {
          "base_uri": "https://localhost:8080/",
          "height": 493
        },
        "id": "s0LPAbQkj9CM",
        "outputId": "c44c3894-f351-440d-d4cf-5e82b71ad5ca"
      },
      "source": [
        "%matplotlib inline\r\n",
        "import missingno as msno\r\n",
        "msno.matrix(df)"
      ],
      "execution_count": null,
      "outputs": [
        {
          "output_type": "execute_result",
          "data": {
            "text/plain": [
              "<matplotlib.axes._subplots.AxesSubplot at 0x7f9284382d30>"
            ]
          },
          "metadata": {
            "tags": []
          },
          "execution_count": 3
        },
        {
          "output_type": "display_data",
          "data": {
            "image/png": "[encoded data removed]",
            "text/plain": [
              "<Figure size 1800x720 with 2 Axes>"
            ]
          },
          "metadata": {
            "tags": [],
            "needs_background": "light"
          }
        }
      ]
    },
    {
      "cell_type": "markdown",
      "metadata": {
        "id": "ssAurmQWkWqq"
      },
      "source": [
        "***White lines indicate missing values - This visualization is helpful when more than one columns have missing values. This helps to check if missing values in those columns are from same rows***"
      ]
    },
    {
      "cell_type": "code",
      "metadata": {
        "id": "0tAZCYT_YQDQ"
      },
      "source": [
        "# TO FIND EVERY ROW THAT HAS ATLEAST ONE NULL "
      ],
      "execution_count": null,
      "outputs": []
    },
    {
      "cell_type": "code",
      "metadata": {
        "colab": {
          "base_uri": "https://localhost:8080/",
          "height": 419
        },
        "id": "uSXF8_vXYj1U",
        "outputId": "748eb135-3d8e-40ba-8a67-93207d5d8c2d"
      },
      "source": [
        "df[df.isnull().any(axis = 1)][null_columns]"
      ],
      "execution_count": null,
      "outputs": [
        {
          "output_type": "execute_result",
          "data": {
            "text/html": [
              "<div>\n",
              "<style scoped>\n",
              "    .dataframe tbody tr th:only-of-type {\n",
              "        vertical-align: middle;\n",
              "    }\n",
              "\n",
              "    .dataframe tbody tr th {\n",
              "        vertical-align: top;\n",
              "    }\n",
              "\n",
              "    .dataframe thead th {\n",
              "        text-align: right;\n",
              "    }\n",
              "</style>\n",
              "<table border=\"1\" class=\"dataframe\">\n",
              "  <thead>\n",
              "    <tr style=\"text-align: right;\">\n",
              "      <th></th>\n",
              "      <th>DEP_DELAY_NEW</th>\n",
              "    </tr>\n",
              "  </thead>\n",
              "  <tbody>\n",
              "    <tr>\n",
              "      <th>192</th>\n",
              "      <td>NaN</td>\n",
              "    </tr>\n",
              "    <tr>\n",
              "      <th>344</th>\n",
              "      <td>NaN</td>\n",
              "    </tr>\n",
              "    <tr>\n",
              "      <th>532</th>\n",
              "      <td>NaN</td>\n",
              "    </tr>\n",
              "    <tr>\n",
              "      <th>687</th>\n",
              "      <td>NaN</td>\n",
              "    </tr>\n",
              "    <tr>\n",
              "      <th>2059</th>\n",
              "      <td>NaN</td>\n",
              "    </tr>\n",
              "    <tr>\n",
              "      <th>...</th>\n",
              "      <td>...</td>\n",
              "    </tr>\n",
              "    <tr>\n",
              "      <th>445189</th>\n",
              "      <td>NaN</td>\n",
              "    </tr>\n",
              "    <tr>\n",
              "      <th>445200</th>\n",
              "      <td>NaN</td>\n",
              "    </tr>\n",
              "    <tr>\n",
              "      <th>445212</th>\n",
              "      <td>NaN</td>\n",
              "    </tr>\n",
              "    <tr>\n",
              "      <th>445240</th>\n",
              "      <td>NaN</td>\n",
              "    </tr>\n",
              "    <tr>\n",
              "      <th>445399</th>\n",
              "      <td>NaN</td>\n",
              "    </tr>\n",
              "  </tbody>\n",
              "</table>\n",
              "<p>11473 rows × 1 columns</p>\n",
              "</div>"
            ],
            "text/plain": [
              "        DEP_DELAY_NEW\n",
              "192               NaN\n",
              "344               NaN\n",
              "532               NaN\n",
              "687               NaN\n",
              "2059              NaN\n",
              "...               ...\n",
              "445189            NaN\n",
              "445200            NaN\n",
              "445212            NaN\n",
              "445240            NaN\n",
              "445399            NaN\n",
              "\n",
              "[11473 rows x 1 columns]"
            ]
          },
          "metadata": {
            "tags": []
          },
          "execution_count": 22
        }
      ]
    },
    {
      "cell_type": "markdown",
      "metadata": {
        "id": "PwwdeF6raUSi"
      },
      "source": [
        "***Cleaning the data - getting rid of null values***"
      ]
    },
    {
      "cell_type": "code",
      "metadata": {
        "id": "4i8NcpqZaZmH"
      },
      "source": [
        "# DROP ROWS WITH THE MISSING VALUES"
      ],
      "execution_count": null,
      "outputs": []
    },
    {
      "cell_type": "code",
      "metadata": {
        "colab": {
          "base_uri": "https://localhost:8080/",
          "height": 439
        },
        "id": "EUYySiiZahNJ",
        "outputId": "0398d819-7674-4dbb-a081-28f7784cccb0"
      },
      "source": [
        "dff = df.dropna()\r\n",
        "dff"
      ],
      "execution_count": null,
      "outputs": [
        {
          "output_type": "execute_result",
          "data": {
            "text/html": [
              "<div>\n",
              "<style scoped>\n",
              "    .dataframe tbody tr th:only-of-type {\n",
              "        vertical-align: middle;\n",
              "    }\n",
              "\n",
              "    .dataframe tbody tr th {\n",
              "        vertical-align: top;\n",
              "    }\n",
              "\n",
              "    .dataframe thead th {\n",
              "        text-align: right;\n",
              "    }\n",
              "</style>\n",
              "<table border=\"1\" class=\"dataframe\">\n",
              "  <thead>\n",
              "    <tr style=\"text-align: right;\">\n",
              "      <th></th>\n",
              "      <th>OP_CARRIER_AIRLINE_ID</th>\n",
              "      <th>ORIGIN_AIRPORT_ID</th>\n",
              "      <th>ORIGIN_AIRPORT_SEQ_ID</th>\n",
              "      <th>ORIGIN_CITY_MARKET_ID</th>\n",
              "      <th>DEST_AIRPORT_ID</th>\n",
              "      <th>DEST_AIRPORT_SEQ_ID</th>\n",
              "      <th>DEST_CITY_MARKET_ID</th>\n",
              "      <th>DEP_DELAY_NEW</th>\n",
              "    </tr>\n",
              "  </thead>\n",
              "  <tbody>\n",
              "    <tr>\n",
              "      <th>0</th>\n",
              "      <td>19393</td>\n",
              "      <td>10821</td>\n",
              "      <td>1082103</td>\n",
              "      <td>30852</td>\n",
              "      <td>14122</td>\n",
              "      <td>1412202</td>\n",
              "      <td>30198</td>\n",
              "      <td>0.0</td>\n",
              "    </tr>\n",
              "    <tr>\n",
              "      <th>1</th>\n",
              "      <td>19393</td>\n",
              "      <td>10821</td>\n",
              "      <td>1082103</td>\n",
              "      <td>30852</td>\n",
              "      <td>14122</td>\n",
              "      <td>1412202</td>\n",
              "      <td>30198</td>\n",
              "      <td>1.0</td>\n",
              "    </tr>\n",
              "    <tr>\n",
              "      <th>2</th>\n",
              "      <td>19393</td>\n",
              "      <td>10821</td>\n",
              "      <td>1082103</td>\n",
              "      <td>30852</td>\n",
              "      <td>14122</td>\n",
              "      <td>1412202</td>\n",
              "      <td>30198</td>\n",
              "      <td>11.0</td>\n",
              "    </tr>\n",
              "    <tr>\n",
              "      <th>3</th>\n",
              "      <td>19393</td>\n",
              "      <td>10821</td>\n",
              "      <td>1082103</td>\n",
              "      <td>30852</td>\n",
              "      <td>14122</td>\n",
              "      <td>1412202</td>\n",
              "      <td>30198</td>\n",
              "      <td>29.0</td>\n",
              "    </tr>\n",
              "    <tr>\n",
              "      <th>4</th>\n",
              "      <td>19393</td>\n",
              "      <td>10821</td>\n",
              "      <td>1082103</td>\n",
              "      <td>30852</td>\n",
              "      <td>14307</td>\n",
              "      <td>1430702</td>\n",
              "      <td>30721</td>\n",
              "      <td>0.0</td>\n",
              "    </tr>\n",
              "    <tr>\n",
              "      <th>...</th>\n",
              "      <td>...</td>\n",
              "      <td>...</td>\n",
              "      <td>...</td>\n",
              "      <td>...</td>\n",
              "      <td>...</td>\n",
              "      <td>...</td>\n",
              "      <td>...</td>\n",
              "      <td>...</td>\n",
              "    </tr>\n",
              "    <tr>\n",
              "      <th>445822</th>\n",
              "      <td>21171</td>\n",
              "      <td>12892</td>\n",
              "      <td>1289203</td>\n",
              "      <td>32575</td>\n",
              "      <td>11259</td>\n",
              "      <td>1125903</td>\n",
              "      <td>30194</td>\n",
              "      <td>0.0</td>\n",
              "    </tr>\n",
              "    <tr>\n",
              "      <th>445823</th>\n",
              "      <td>21171</td>\n",
              "      <td>11259</td>\n",
              "      <td>1125903</td>\n",
              "      <td>30194</td>\n",
              "      <td>12892</td>\n",
              "      <td>1289203</td>\n",
              "      <td>32575</td>\n",
              "      <td>8.0</td>\n",
              "    </tr>\n",
              "    <tr>\n",
              "      <th>445824</th>\n",
              "      <td>21171</td>\n",
              "      <td>12892</td>\n",
              "      <td>1289203</td>\n",
              "      <td>32575</td>\n",
              "      <td>11259</td>\n",
              "      <td>1125903</td>\n",
              "      <td>30194</td>\n",
              "      <td>0.0</td>\n",
              "    </tr>\n",
              "    <tr>\n",
              "      <th>445825</th>\n",
              "      <td>21171</td>\n",
              "      <td>11259</td>\n",
              "      <td>1125903</td>\n",
              "      <td>30194</td>\n",
              "      <td>12892</td>\n",
              "      <td>1289203</td>\n",
              "      <td>32575</td>\n",
              "      <td>0.0</td>\n",
              "    </tr>\n",
              "    <tr>\n",
              "      <th>445826</th>\n",
              "      <td>21171</td>\n",
              "      <td>11259</td>\n",
              "      <td>1125903</td>\n",
              "      <td>30194</td>\n",
              "      <td>12892</td>\n",
              "      <td>1289203</td>\n",
              "      <td>32575</td>\n",
              "      <td>0.0</td>\n",
              "    </tr>\n",
              "  </tbody>\n",
              "</table>\n",
              "<p>434354 rows × 8 columns</p>\n",
              "</div>"
            ],
            "text/plain": [
              "        OP_CARRIER_AIRLINE_ID  ...  DEP_DELAY_NEW\n",
              "0                       19393  ...            0.0\n",
              "1                       19393  ...            1.0\n",
              "2                       19393  ...           11.0\n",
              "3                       19393  ...           29.0\n",
              "4                       19393  ...            0.0\n",
              "...                       ...  ...            ...\n",
              "445822                  21171  ...            0.0\n",
              "445823                  21171  ...            8.0\n",
              "445824                  21171  ...            0.0\n",
              "445825                  21171  ...            0.0\n",
              "445826                  21171  ...            0.0\n",
              "\n",
              "[434354 rows x 8 columns]"
            ]
          },
          "metadata": {
            "tags": []
          },
          "execution_count": 29
        }
      ]
    },
    {
      "cell_type": "markdown",
      "metadata": {
        "id": "F35iLB8Wa_sd"
      },
      "source": [
        "*** TO REMOVE All origin airports that have less than 5 airlines***"
      ]
    },
    {
      "cell_type": "code",
      "metadata": {
        "id": "wHsXSUSxfb__"
      },
      "source": [
        "# MINIMUM IN EACH COLUMN DISPLAYED"
      ],
      "execution_count": null,
      "outputs": []
    },
    {
      "cell_type": "code",
      "metadata": {
        "colab": {
          "base_uri": "https://localhost:8080/"
        },
        "id": "-LwqVHN4bClK",
        "outputId": "dfa76660-45e5-4a0a-ff9d-73a81fa8ddde"
      },
      "source": [
        "dff.min()"
      ],
      "execution_count": null,
      "outputs": [
        {
          "output_type": "execute_result",
          "data": {
            "text/plain": [
              "OP_CARRIER_AIRLINE_ID      19393.0\n",
              "ORIGIN_AIRPORT_ID          10135.0\n",
              "ORIGIN_AIRPORT_SEQ_ID    1013503.0\n",
              "ORIGIN_CITY_MARKET_ID      30070.0\n",
              "DEST_AIRPORT_ID            10135.0\n",
              "DEST_AIRPORT_SEQ_ID      1013503.0\n",
              "DEST_CITY_MARKET_ID        30070.0\n",
              "DEP_DELAY_NEW                  0.0\n",
              "dtype: float64"
            ]
          },
          "metadata": {
            "tags": []
          },
          "execution_count": 30
        }
      ]
    },
    {
      "cell_type": "code",
      "metadata": {
        "id": "LgqGwmzifflr"
      },
      "source": [
        "#LENGTH OF UNIQUE ENTRY IN ONE PARTICULATR COLUMN i.e. NO REPETITION OF ENTRY "
      ],
      "execution_count": null,
      "outputs": []
    },
    {
      "cell_type": "code",
      "metadata": {
        "colab": {
          "base_uri": "https://localhost:8080/"
        },
        "id": "CfUd9V7Fb_w0",
        "outputId": "9e2e1810-9402-459f-ddbb-b3b92f511e25"
      },
      "source": [
        "len(dff['ORIGIN_AIRPORT_ID'].unique())"
      ],
      "execution_count": null,
      "outputs": [
        {
          "output_type": "execute_result",
          "data": {
            "text/plain": [
              "294"
            ]
          },
          "metadata": {
            "tags": []
          },
          "execution_count": 46
        }
      ]
    },
    {
      "cell_type": "code",
      "metadata": {
        "id": "ogk574Ayfwhx"
      },
      "source": [
        "# NAME/ID OF EACH UNIQUE ENTRY IN THAT PARTICULAR COLUMN "
      ],
      "execution_count": null,
      "outputs": []
    },
    {
      "cell_type": "code",
      "metadata": {
        "colab": {
          "base_uri": "https://localhost:8080/"
        },
        "id": "3E-oqr6nfKY_",
        "outputId": "89f692b6-8825-4b27-e8e3-e3737c54cd33"
      },
      "source": [
        "dff['ORIGIN_AIRPORT_ID'].unique()"
      ],
      "execution_count": null,
      "outputs": [
        {
          "output_type": "execute_result",
          "data": {
            "text/plain": [
              "array([10821, 10874, 10994, 11042, 11057, 11066, 11140, 11259, 11267,\n",
              "       11278, 11292, 14321, 14492, 14524, 14570, 14576, 14635, 14679,\n",
              "       14683, 14730, 14747, 14771, 14831, 14843, 14869, 14893, 14908,\n",
              "       15016, 15304, 15370, 15376, 10140, 10257, 10279, 10397, 10423,\n",
              "       13232, 13244, 13296, 13342, 13487, 13495, 13158, 13198, 11697,\n",
              "       11721, 11884, 11986, 11996, 12191, 12206, 12264, 12278, 12339,\n",
              "       12391, 12451, 12889, 12892, 12896, 12953, 12992, 13204, 10693,\n",
              "       10713, 10721, 10792, 10800, 11423, 11433, 11481, 11540, 11618,\n",
              "       13796, 13851, 13871, 13891, 13931, 14027, 14057, 14100, 14107,\n",
              "       14122, 14193, 14307, 10529, 10599, 12982, 12173, 13830, 12402,\n",
              "       12758, 14222, 12478, 11995, 11775, 12266, 14986, 11503, 11193,\n",
              "       11641, 10620, 13930, 13485, 15249, 11298, 15323, 12448, 15412,\n",
              "       13303, 10431, 14685, 12217, 14783, 13360, 13486, 15024, 14814,\n",
              "       10208, 15096, 10299, 11624, 10408, 11109, 13230, 11953, 12441,\n",
              "       10868, 11252, 10990, 12523, 12951, 14574, 15624, 15919, 10135,\n",
              "       11637, 11612, 10685, 11146, 10434, 12945, 13577, 13422, 11973,\n",
              "       14262, 10849, 12323, 14098, 10980, 14252, 10627, 12094, 11648,\n",
              "       15027, 13502, 11977, 13256, 12012, 11638, 10666, 10551, 10754,\n",
              "       14709, 11630, 12819, 15991, 10926, 14828, 14256, 15841, 13873,\n",
              "       13970, 10170, 10165, 10732, 10785, 12016, 10781, 11921, 16218,\n",
              "       11337, 12884, 10372, 11003, 12389, 10747, 15380, 11865, 14543,\n",
              "       11471, 11823, 14952, 14696, 14633, 13184, 11413, 11603, 13388,\n",
              "       14689, 11447, 12519, 13476, 13344, 11076, 14698, 12954, 12003,\n",
              "       13433, 14457, 12280, 10561, 13264, 14489, 11898, 13029, 12255,\n",
              "       14006, 13367, 13076, 11695, 10469, 13377, 11122, 14905, 15389,\n",
              "       15041, 10157, 14108, 14150, 11525, 12156, 11013, 12397, 10141,\n",
              "       10577, 14520, 13127, 12335, 13459, 10739, 12343, 14113, 14794,\n",
              "       12129, 11587, 10631, 10779, 10918, 11097, 13964, 14487, 10333,\n",
              "       12888, 13061, 12915, 12177, 12197, 15411, 11537, 14711, 11982,\n",
              "       11203, 11577, 10155, 11778, 12891, 10728, 12511, 10185, 15401,\n",
              "       11049, 12007, 13277, 11150, 15607, 13795, 10731, 11308, 11617,\n",
              "       10581, 10146, 14674, 13241, 14109, 14588, 13933, 15070, 14254,\n",
              "       12898, 10158, 14025, 12265, 15356, 15497])"
            ]
          },
          "metadata": {
            "tags": []
          },
          "execution_count": 47
        }
      ]
    },
    {
      "cell_type": "code",
      "metadata": {
        "id": "kftjGinef2Tz"
      },
      "source": [
        "# TOTAL COUNT OF EACH OF THE UNIQUE ENTRY IN THAT PARTICULAR COLUMN "
      ],
      "execution_count": null,
      "outputs": []
    },
    {
      "cell_type": "code",
      "metadata": {
        "id": "PJ-xAH8AheRf"
      },
      "source": [
        "# IF YOU ADD COUNTS OF EACH UNIQUE ENTRY, IT WILL SUM UPTO TOTAL NUMBER 434354"
      ],
      "execution_count": null,
      "outputs": []
    },
    {
      "cell_type": "code",
      "metadata": {
        "colab": {
          "base_uri": "https://localhost:8080/"
        },
        "id": "Y3tci57qd0rw",
        "outputId": "b4736384-2843-40c5-db81-31682545ac35"
      },
      "source": [
        "pd.set_option('display.max_rows', 500) \r\n",
        "dff['ORIGIN_AIRPORT_ID'].value_counts()"
      ],
      "execution_count": null,
      "outputs": [
        {
          "output_type": "execute_result",
          "data": {
            "text/plain": [
              "10397    29465\n",
              "13930    18269\n",
              "11292    17325\n",
              "11298    16344\n",
              "12892    16131\n",
              "14107    12871\n",
              "14771    12794\n",
              "12889    11988\n",
              "12266    11504\n",
              "13204    10466\n",
              "14747     9674\n",
              "13487     9493\n",
              "11433     9321\n",
              "10721     8814\n",
              "14869     8640\n",
              "11057     8625\n",
              "11618     7704\n",
              "12478     7552\n",
              "12953     7487\n",
              "11697     7452\n",
              "10821     6550\n",
              "13232     6536\n",
              "14679     5911\n",
              "13303     5906\n",
              "15304     5856\n",
              "11278     5840\n",
              "11259     5727\n",
              "14100     5319\n",
              "12191     4473\n",
              "15016     4250\n",
              "14057     4103\n",
              "12173     3860\n",
              "10693     3731\n",
              "13796     3605\n",
              "10423     3542\n",
              "13495     3461\n",
              "14908     3423\n",
              "13198     3264\n",
              "14635     3219\n",
              "14831     3179\n",
              "14893     3119\n",
              "13342     2664\n",
              "11042     2616\n",
              "14492     2398\n",
              "14843     2349\n",
              "14027     2327\n",
              "14683     2324\n",
              "12264     2290\n",
              "12339     2163\n",
              "13830     1905\n",
              "14122     1853\n",
              "11066     1745\n",
              "10800     1723\n",
              "13891     1574\n",
              "10529     1484\n",
              "12451     1455\n",
              "10140     1432\n",
              "15376     1409\n",
              "13871     1392\n",
              "13851     1315\n",
              "10792     1252\n",
              "11193     1230\n",
              "10299     1223\n",
              "15370     1192\n",
              "10713     1164\n",
              "13244     1120\n",
              "14524     1054\n",
              "12982     1004\n",
              "12758      989\n",
              "10994      978\n",
              "14570      975\n",
              "14307      956\n",
              "14262      950\n",
              "10599      876\n",
              "11540      875\n",
              "11884      848\n",
              "13931      802\n",
              "12954      742\n",
              "10257      734\n",
              "11986      734\n",
              "14730      727\n",
              "12278      686\n",
              "11423      654\n",
              "11109      624\n",
              "12992      603\n",
              "11638      589\n",
              "10781      587\n",
              "10372      580\n",
              "13485      564\n",
              "11267      557\n",
              "14576      554\n",
              "12197      526\n",
              "15412      518\n",
              "14685      517\n",
              "11996      506\n",
              "12402      492\n",
              "14689      482\n",
              "10874      482\n",
              "14814      481\n",
              "13158      464\n",
              "14193      438\n",
              "15024      437\n",
              "15096      437\n",
              "12448      427\n",
              "13296      424\n",
              "10868      424\n",
              "12441      400\n",
              "12896      395\n",
              "11995      394\n",
              "14696      388\n",
              "11637      364\n",
              "15919      363\n",
              "15624      357\n",
              "14321      355\n",
              "12945      352\n",
              "13422      351\n",
              "12391      350\n",
              "10980      340\n",
              "11775      338\n",
              "12523      334\n",
              "14986      324\n",
              "11481      320\n",
              "12217      313\n",
              "11823      302\n",
              "11503      300\n",
              "14252      297\n",
              "10158      294\n",
              "11721      291\n",
              "11603      284\n",
              "10620      282\n",
              "10849      268\n",
              "12951      267\n",
              "10408      264\n",
              "11973      262\n",
              "14108      247\n",
              "13377      246\n",
              "12884      246\n",
              "10785      245\n",
              "10279      242\n",
              "11140      241\n",
              "12206      240\n",
              "11977      236\n",
              "11003      235\n",
              "13029      230\n",
              "13264      228\n",
              "14783      228\n",
              "13577      219\n",
              "14457      216\n",
              "13367      215\n",
              "11982      214\n",
              "11612      212\n",
              "15249      208\n",
              "10185      206\n",
              "14698      206\n",
              "10627      205\n",
              "13476      205\n",
              "12280      204\n",
              "10469      203\n",
              "10208      195\n",
              "10431      195\n",
              "13256      194\n",
              "12323      193\n",
              "11953      193\n",
              "13277      190\n",
              "11921      186\n",
              "11146      185\n",
              "11624      184\n",
              "10561      184\n",
              "13184      184\n",
              "10747      183\n",
              "12819      181\n",
              "12094      179\n",
              "13486      178\n",
              "14489      178\n",
              "16218      177\n",
              "11537      177\n",
              "13230      176\n",
              "14574      173\n",
              "11630      172\n",
              "10135      172\n",
              "11337      170\n",
              "15411      170\n",
              "12389      168\n",
              "10732      163\n",
              "15356      161\n",
              "13061      161\n",
              "15323      160\n",
              "10990      158\n",
              "14794      153\n",
              "12003      151\n",
              "13502      151\n",
              "13433      149\n",
              "11778      148\n",
              "11641      146\n",
              "10434      146\n",
              "11695      146\n",
              "10155      145\n",
              "11252      145\n",
              "14952      140\n",
              "11122      139\n",
              "11648      138\n",
              "15389      121\n",
              "10157      119\n",
              "12156      118\n",
              "13360      117\n",
              "11308      116\n",
              "11413      101\n",
              "15027       98\n",
              "15380       94\n",
              "11898       94\n",
              "10666       94\n",
              "10685       90\n",
              "14828       90\n",
              "13795       89\n",
              "11865       88\n",
              "12891       87\n",
              "14520       86\n",
              "14098       85\n",
              "12898       85\n",
              "10731       85\n",
              "15607       84\n",
              "10728       82\n",
              "15401       82\n",
              "10551       81\n",
              "11150       81\n",
              "12129       81\n",
              "13241       81\n",
              "12007       80\n",
              "10146       79\n",
              "10754       79\n",
              "14709       79\n",
              "14633       76\n",
              "10577       75\n",
              "12915       74\n",
              "15041       74\n",
              "14254       71\n",
              "12519       69\n",
              "15070       65\n",
              "10631       62\n",
              "11471       62\n",
              "10141       62\n",
              "13970       61\n",
              "12511       61\n",
              "15841       60\n",
              "15991       60\n",
              "14256       60\n",
              "13873       60\n",
              "12397       59\n",
              "10926       59\n",
              "13344       59\n",
              "14006       58\n",
              "13933       58\n",
              "14487       58\n",
              "10779       57\n",
              "14905       57\n",
              "14674       57\n",
              "11076       57\n",
              "11013       56\n",
              "14543       56\n",
              "14711       56\n",
              "14113       55\n",
              "13127       55\n",
              "11617       55\n",
              "12335       54\n",
              "11203       54\n",
              "11577       54\n",
              "11049       53\n",
              "13459       53\n",
              "10739       52\n",
              "12888       52\n",
              "12343       52\n",
              "11587       51\n",
              "10918       51\n",
              "14109       50\n",
              "14150       50\n",
              "12255       50\n",
              "13076       49\n",
              "12012       48\n",
              "10333       48\n",
              "11525       47\n",
              "12177       46\n",
              "11447       44\n",
              "10170       39\n",
              "11097       33\n",
              "14025       31\n",
              "12016       31\n",
              "12265       29\n",
              "13388       22\n",
              "13964       17\n",
              "14222       10\n",
              "10165        9\n",
              "10581        6\n",
              "14588        4\n",
              "15497        3\n",
              "Name: ORIGIN_AIRPORT_ID, dtype: int64"
            ]
          },
          "metadata": {
            "tags": []
          },
          "execution_count": 71
        }
      ]
    },
    {
      "cell_type": "code",
      "metadata": {
        "id": "FIEI3beCorvp"
      },
      "source": [
        "# CONCLUSION - AS SHOWN ABOVE, AIRPORT ID = 14588 & 15497 HAVE ENTRIES LESS THAN 5 - 4 AND 3 RESPECTIVELY\r\n",
        "# LETS GET RID OF THESE "
      ],
      "execution_count": null,
      "outputs": []
    },
    {
      "cell_type": "code",
      "metadata": {
        "colab": {
          "base_uri": "https://localhost:8080/"
        },
        "id": "CiI7KWKfe2xI",
        "outputId": "6abfd309-ee3e-4827-9030-68539c9f536b"
      },
      "source": [
        "df['OP_CARRIER_AIRLINE_ID'].nunique()"
      ],
      "execution_count": null,
      "outputs": [
        {
          "output_type": "execute_result",
          "data": {
            "text/plain": [
              "3"
            ]
          },
          "metadata": {
            "tags": []
          },
          "execution_count": 58
        }
      ]
    },
    {
      "cell_type": "code",
      "metadata": {
        "colab": {
          "base_uri": "https://localhost:8080/"
        },
        "id": "gBn-ZrNZpSof",
        "outputId": "62abc3f6-553d-40cc-92a0-4924b834542b"
      },
      "source": [
        "i = dff[(dff.ORIGIN_AIRPORT_ID == 15497)].index\r\n",
        "i"
      ],
      "execution_count": null,
      "outputs": [
        {
          "output_type": "execute_result",
          "data": {
            "text/plain": [
              "Int64Index([435124, 438011, 439699], dtype='int64')"
            ]
          },
          "metadata": {
            "tags": []
          },
          "execution_count": 80
        }
      ]
    },
    {
      "cell_type": "code",
      "metadata": {
        "id": "XRaaJzbUqfn6"
      },
      "source": [
        "# 3 ROWS AS ABOVE"
      ],
      "execution_count": null,
      "outputs": []
    },
    {
      "cell_type": "code",
      "metadata": {
        "colab": {
          "base_uri": "https://localhost:8080/"
        },
        "id": "I7IrDZkwpp6h",
        "outputId": "84063e6b-327d-4f0b-ee72-977cc30860ab"
      },
      "source": [
        "j = dff[(dff.ORIGIN_AIRPORT_ID == 14588)].index\r\n",
        "j"
      ],
      "execution_count": null,
      "outputs": [
        {
          "output_type": "execute_result",
          "data": {
            "text/plain": [
              "Int64Index([388838, 388839, 388840, 388841], dtype='int64')"
            ]
          },
          "metadata": {
            "tags": []
          },
          "execution_count": 81
        }
      ]
    },
    {
      "cell_type": "code",
      "metadata": {
        "id": "IzcTO-Qhqihj"
      },
      "source": [
        "# 4 ROWS AS ABOVE"
      ],
      "execution_count": null,
      "outputs": []
    },
    {
      "cell_type": "code",
      "metadata": {
        "colab": {
          "base_uri": "https://localhost:8080/",
          "height": 439
        },
        "id": "NnLru__ppySa",
        "outputId": "658c4b5f-5048-45b3-93b2-e184df2f6095"
      },
      "source": [
        "df_1 = dff.drop(i)\r\n",
        "df_2 = df_1.drop(j)\r\n",
        "\r\n",
        "df_2"
      ],
      "execution_count": null,
      "outputs": [
        {
          "output_type": "execute_result",
          "data": {
            "text/html": [
              "<div>\n",
              "<style scoped>\n",
              "    .dataframe tbody tr th:only-of-type {\n",
              "        vertical-align: middle;\n",
              "    }\n",
              "\n",
              "    .dataframe tbody tr th {\n",
              "        vertical-align: top;\n",
              "    }\n",
              "\n",
              "    .dataframe thead th {\n",
              "        text-align: right;\n",
              "    }\n",
              "</style>\n",
              "<table border=\"1\" class=\"dataframe\">\n",
              "  <thead>\n",
              "    <tr style=\"text-align: right;\">\n",
              "      <th></th>\n",
              "      <th>OP_CARRIER_AIRLINE_ID</th>\n",
              "      <th>ORIGIN_AIRPORT_ID</th>\n",
              "      <th>ORIGIN_AIRPORT_SEQ_ID</th>\n",
              "      <th>ORIGIN_CITY_MARKET_ID</th>\n",
              "      <th>DEST_AIRPORT_ID</th>\n",
              "      <th>DEST_AIRPORT_SEQ_ID</th>\n",
              "      <th>DEST_CITY_MARKET_ID</th>\n",
              "      <th>DEP_DELAY_NEW</th>\n",
              "    </tr>\n",
              "  </thead>\n",
              "  <tbody>\n",
              "    <tr>\n",
              "      <th>0</th>\n",
              "      <td>19393</td>\n",
              "      <td>10821</td>\n",
              "      <td>1082103</td>\n",
              "      <td>30852</td>\n",
              "      <td>14122</td>\n",
              "      <td>1412202</td>\n",
              "      <td>30198</td>\n",
              "      <td>0.0</td>\n",
              "    </tr>\n",
              "    <tr>\n",
              "      <th>1</th>\n",
              "      <td>19393</td>\n",
              "      <td>10821</td>\n",
              "      <td>1082103</td>\n",
              "      <td>30852</td>\n",
              "      <td>14122</td>\n",
              "      <td>1412202</td>\n",
              "      <td>30198</td>\n",
              "      <td>1.0</td>\n",
              "    </tr>\n",
              "    <tr>\n",
              "      <th>2</th>\n",
              "      <td>19393</td>\n",
              "      <td>10821</td>\n",
              "      <td>1082103</td>\n",
              "      <td>30852</td>\n",
              "      <td>14122</td>\n",
              "      <td>1412202</td>\n",
              "      <td>30198</td>\n",
              "      <td>11.0</td>\n",
              "    </tr>\n",
              "    <tr>\n",
              "      <th>3</th>\n",
              "      <td>19393</td>\n",
              "      <td>10821</td>\n",
              "      <td>1082103</td>\n",
              "      <td>30852</td>\n",
              "      <td>14122</td>\n",
              "      <td>1412202</td>\n",
              "      <td>30198</td>\n",
              "      <td>29.0</td>\n",
              "    </tr>\n",
              "    <tr>\n",
              "      <th>4</th>\n",
              "      <td>19393</td>\n",
              "      <td>10821</td>\n",
              "      <td>1082103</td>\n",
              "      <td>30852</td>\n",
              "      <td>14307</td>\n",
              "      <td>1430702</td>\n",
              "      <td>30721</td>\n",
              "      <td>0.0</td>\n",
              "    </tr>\n",
              "    <tr>\n",
              "      <th>...</th>\n",
              "      <td>...</td>\n",
              "      <td>...</td>\n",
              "      <td>...</td>\n",
              "      <td>...</td>\n",
              "      <td>...</td>\n",
              "      <td>...</td>\n",
              "      <td>...</td>\n",
              "      <td>...</td>\n",
              "    </tr>\n",
              "    <tr>\n",
              "      <th>445822</th>\n",
              "      <td>21171</td>\n",
              "      <td>12892</td>\n",
              "      <td>1289203</td>\n",
              "      <td>32575</td>\n",
              "      <td>11259</td>\n",
              "      <td>1125903</td>\n",
              "      <td>30194</td>\n",
              "      <td>0.0</td>\n",
              "    </tr>\n",
              "    <tr>\n",
              "      <th>445823</th>\n",
              "      <td>21171</td>\n",
              "      <td>11259</td>\n",
              "      <td>1125903</td>\n",
              "      <td>30194</td>\n",
              "      <td>12892</td>\n",
              "      <td>1289203</td>\n",
              "      <td>32575</td>\n",
              "      <td>8.0</td>\n",
              "    </tr>\n",
              "    <tr>\n",
              "      <th>445824</th>\n",
              "      <td>21171</td>\n",
              "      <td>12892</td>\n",
              "      <td>1289203</td>\n",
              "      <td>32575</td>\n",
              "      <td>11259</td>\n",
              "      <td>1125903</td>\n",
              "      <td>30194</td>\n",
              "      <td>0.0</td>\n",
              "    </tr>\n",
              "    <tr>\n",
              "      <th>445825</th>\n",
              "      <td>21171</td>\n",
              "      <td>11259</td>\n",
              "      <td>1125903</td>\n",
              "      <td>30194</td>\n",
              "      <td>12892</td>\n",
              "      <td>1289203</td>\n",
              "      <td>32575</td>\n",
              "      <td>0.0</td>\n",
              "    </tr>\n",
              "    <tr>\n",
              "      <th>445826</th>\n",
              "      <td>21171</td>\n",
              "      <td>11259</td>\n",
              "      <td>1125903</td>\n",
              "      <td>30194</td>\n",
              "      <td>12892</td>\n",
              "      <td>1289203</td>\n",
              "      <td>32575</td>\n",
              "      <td>0.0</td>\n",
              "    </tr>\n",
              "  </tbody>\n",
              "</table>\n",
              "<p>434347 rows × 8 columns</p>\n",
              "</div>"
            ],
            "text/plain": [
              "        OP_CARRIER_AIRLINE_ID  ...  DEP_DELAY_NEW\n",
              "0                       19393  ...            0.0\n",
              "1                       19393  ...            1.0\n",
              "2                       19393  ...           11.0\n",
              "3                       19393  ...           29.0\n",
              "4                       19393  ...            0.0\n",
              "...                       ...  ...            ...\n",
              "445822                  21171  ...            0.0\n",
              "445823                  21171  ...            8.0\n",
              "445824                  21171  ...            0.0\n",
              "445825                  21171  ...            0.0\n",
              "445826                  21171  ...            0.0\n",
              "\n",
              "[434347 rows x 8 columns]"
            ]
          },
          "metadata": {
            "tags": []
          },
          "execution_count": 86
        }
      ]
    },
    {
      "cell_type": "code",
      "metadata": {
        "id": "iwdYam6uqx8o"
      },
      "source": [
        "# 434354 - 7 rows as above = 434347 "
      ],
      "execution_count": null,
      "outputs": []
    },
    {
      "cell_type": "markdown",
      "metadata": {
        "id": "Xr6qrZAkrKnp"
      },
      "source": [
        "***TO LIST the code of the airlines most at fault in the origin airports that exceed the 90th percentile of\r\n",
        "overall delays in 2016 for the month of January***"
      ]
    },
    {
      "cell_type": "code",
      "metadata": {
        "id": "ahARWQnm2wte"
      },
      "source": [
        "# 90th PERCENTILE - IF VALUE n IS AT THE 90TH PERCENTILE, THEN n IS GREATER THAN k% OF THE VALUES USED IN THE SET"
      ],
      "execution_count": null,
      "outputs": []
    },
    {
      "cell_type": "code",
      "metadata": {
        "colab": {
          "base_uri": "https://localhost:8080/"
        },
        "id": "I9hFnXSnrNXL",
        "outputId": "dd188265-ae6f-4334-e166-5b2a111a17af"
      },
      "source": [
        "df_2.quantile(.9)"
      ],
      "execution_count": null,
      "outputs": [
        {
          "output_type": "execute_result",
          "data": {
            "text/plain": [
              "OP_CARRIER_AIRLINE_ID      20409.0\n",
              "ORIGIN_AIRPORT_ID          14771.0\n",
              "ORIGIN_AIRPORT_SEQ_ID    1477102.0\n",
              "ORIGIN_CITY_MARKET_ID      33570.0\n",
              "DEST_AIRPORT_ID            14771.0\n",
              "DEST_AIRPORT_SEQ_ID      1477102.0\n",
              "DEST_CITY_MARKET_ID        33570.0\n",
              "DEP_DELAY_NEW                 29.0\n",
              "Name: 0.9, dtype: float64"
            ]
          },
          "metadata": {
            "tags": []
          },
          "execution_count": 92
        }
      ]
    },
    {
      "cell_type": "code",
      "metadata": {
        "colab": {
          "base_uri": "https://localhost:8080/"
        },
        "id": "NhFIo4VfyRDb",
        "outputId": "a01c82a9-6a93-484b-ebab-fe4f87be9def"
      },
      "source": [
        "k = df_2[(df_2.DEP_DELAY_NEW > 29)].index\r\n",
        "k"
      ],
      "execution_count": null,
      "outputs": [
        {
          "output_type": "execute_result",
          "data": {
            "text/plain": [
              "Int64Index([    13,     16,     19,     28,     29,     32,     35,     38,\n",
              "                41,     42,\n",
              "            ...\n",
              "            445667, 445687, 445749, 445755, 445760, 445763, 445765, 445776,\n",
              "            445806, 445808],\n",
              "           dtype='int64', length=43121)"
            ]
          },
          "metadata": {
            "tags": []
          },
          "execution_count": 125
        }
      ]
    },
    {
      "cell_type": "code",
      "metadata": {
        "colab": {
          "base_uri": "https://localhost:8080/",
          "height": 439
        },
        "id": "xeOoRH9FCGH0",
        "outputId": "7dca20fa-dafb-4224-cc3a-701d564bb474"
      },
      "source": [
        "data = df_2.loc[df_2['DEP_DELAY_NEW'] > 29]\r\n",
        "data"
      ],
      "execution_count": null,
      "outputs": [
        {
          "output_type": "execute_result",
          "data": {
            "text/html": [
              "<div>\n",
              "<style scoped>\n",
              "    .dataframe tbody tr th:only-of-type {\n",
              "        vertical-align: middle;\n",
              "    }\n",
              "\n",
              "    .dataframe tbody tr th {\n",
              "        vertical-align: top;\n",
              "    }\n",
              "\n",
              "    .dataframe thead th {\n",
              "        text-align: right;\n",
              "    }\n",
              "</style>\n",
              "<table border=\"1\" class=\"dataframe\">\n",
              "  <thead>\n",
              "    <tr style=\"text-align: right;\">\n",
              "      <th></th>\n",
              "      <th>OP_CARRIER_AIRLINE_ID</th>\n",
              "      <th>ORIGIN_AIRPORT_ID</th>\n",
              "      <th>ORIGIN_AIRPORT_SEQ_ID</th>\n",
              "      <th>ORIGIN_CITY_MARKET_ID</th>\n",
              "      <th>DEST_AIRPORT_ID</th>\n",
              "      <th>DEST_AIRPORT_SEQ_ID</th>\n",
              "      <th>DEST_CITY_MARKET_ID</th>\n",
              "      <th>DEP_DELAY_NEW</th>\n",
              "    </tr>\n",
              "  </thead>\n",
              "  <tbody>\n",
              "    <tr>\n",
              "      <th>13</th>\n",
              "      <td>19393</td>\n",
              "      <td>10821</td>\n",
              "      <td>1082103</td>\n",
              "      <td>30852</td>\n",
              "      <td>14321</td>\n",
              "      <td>1432103</td>\n",
              "      <td>34321</td>\n",
              "      <td>79.0</td>\n",
              "    </tr>\n",
              "    <tr>\n",
              "      <th>16</th>\n",
              "      <td>19393</td>\n",
              "      <td>10821</td>\n",
              "      <td>1082103</td>\n",
              "      <td>30852</td>\n",
              "      <td>14492</td>\n",
              "      <td>1449202</td>\n",
              "      <td>34492</td>\n",
              "      <td>30.0</td>\n",
              "    </tr>\n",
              "    <tr>\n",
              "      <th>19</th>\n",
              "      <td>19393</td>\n",
              "      <td>10821</td>\n",
              "      <td>1082103</td>\n",
              "      <td>30852</td>\n",
              "      <td>14492</td>\n",
              "      <td>1449202</td>\n",
              "      <td>34492</td>\n",
              "      <td>35.0</td>\n",
              "    </tr>\n",
              "    <tr>\n",
              "      <th>28</th>\n",
              "      <td>19393</td>\n",
              "      <td>10821</td>\n",
              "      <td>1082103</td>\n",
              "      <td>30852</td>\n",
              "      <td>14635</td>\n",
              "      <td>1463502</td>\n",
              "      <td>31714</td>\n",
              "      <td>64.0</td>\n",
              "    </tr>\n",
              "    <tr>\n",
              "      <th>29</th>\n",
              "      <td>19393</td>\n",
              "      <td>10821</td>\n",
              "      <td>1082103</td>\n",
              "      <td>30852</td>\n",
              "      <td>14679</td>\n",
              "      <td>1467903</td>\n",
              "      <td>33570</td>\n",
              "      <td>101.0</td>\n",
              "    </tr>\n",
              "    <tr>\n",
              "      <th>...</th>\n",
              "      <td>...</td>\n",
              "      <td>...</td>\n",
              "      <td>...</td>\n",
              "      <td>...</td>\n",
              "      <td>...</td>\n",
              "      <td>...</td>\n",
              "      <td>...</td>\n",
              "      <td>...</td>\n",
              "    </tr>\n",
              "    <tr>\n",
              "      <th>445763</th>\n",
              "      <td>21171</td>\n",
              "      <td>13830</td>\n",
              "      <td>1383002</td>\n",
              "      <td>33830</td>\n",
              "      <td>14771</td>\n",
              "      <td>1477102</td>\n",
              "      <td>32457</td>\n",
              "      <td>79.0</td>\n",
              "    </tr>\n",
              "    <tr>\n",
              "      <th>445765</th>\n",
              "      <td>21171</td>\n",
              "      <td>12889</td>\n",
              "      <td>1288903</td>\n",
              "      <td>32211</td>\n",
              "      <td>12892</td>\n",
              "      <td>1289203</td>\n",
              "      <td>32575</td>\n",
              "      <td>80.0</td>\n",
              "    </tr>\n",
              "    <tr>\n",
              "      <th>445776</th>\n",
              "      <td>21171</td>\n",
              "      <td>12264</td>\n",
              "      <td>1226402</td>\n",
              "      <td>30852</td>\n",
              "      <td>14771</td>\n",
              "      <td>1477102</td>\n",
              "      <td>32457</td>\n",
              "      <td>41.0</td>\n",
              "    </tr>\n",
              "    <tr>\n",
              "      <th>445806</th>\n",
              "      <td>21171</td>\n",
              "      <td>12889</td>\n",
              "      <td>1288903</td>\n",
              "      <td>32211</td>\n",
              "      <td>11259</td>\n",
              "      <td>1125903</td>\n",
              "      <td>30194</td>\n",
              "      <td>31.0</td>\n",
              "    </tr>\n",
              "    <tr>\n",
              "      <th>445808</th>\n",
              "      <td>21171</td>\n",
              "      <td>12264</td>\n",
              "      <td>1226402</td>\n",
              "      <td>30852</td>\n",
              "      <td>14771</td>\n",
              "      <td>1477102</td>\n",
              "      <td>32457</td>\n",
              "      <td>43.0</td>\n",
              "    </tr>\n",
              "  </tbody>\n",
              "</table>\n",
              "<p>43121 rows × 8 columns</p>\n",
              "</div>"
            ],
            "text/plain": [
              "        OP_CARRIER_AIRLINE_ID  ...  DEP_DELAY_NEW\n",
              "13                      19393  ...           79.0\n",
              "16                      19393  ...           30.0\n",
              "19                      19393  ...           35.0\n",
              "28                      19393  ...           64.0\n",
              "29                      19393  ...          101.0\n",
              "...                       ...  ...            ...\n",
              "445763                  21171  ...           79.0\n",
              "445765                  21171  ...           80.0\n",
              "445776                  21171  ...           41.0\n",
              "445806                  21171  ...           31.0\n",
              "445808                  21171  ...           43.0\n",
              "\n",
              "[43121 rows x 8 columns]"
            ]
          },
          "metadata": {
            "tags": []
          },
          "execution_count": 143
        }
      ]
    },
    {
      "cell_type": "code",
      "metadata": {
        "colab": {
          "base_uri": "https://localhost:8080/",
          "height": 419
        },
        "id": "z6LB99G3C-_u",
        "outputId": "0018319d-b657-4db6-ce74-9020c1679f2c"
      },
      "source": [
        "df_3 = df_2[df_2['DEP_DELAY_NEW'] > 29][['OP_CARRIER_AIRLINE_ID','ORIGIN_AIRPORT_ID','DEST_AIRPORT_ID', 'DEP_DELAY_NEW']]\r\n",
        "df_3"
      ],
      "execution_count": null,
      "outputs": [
        {
          "output_type": "execute_result",
          "data": {
            "text/html": [
              "<div>\n",
              "<style scoped>\n",
              "    .dataframe tbody tr th:only-of-type {\n",
              "        vertical-align: middle;\n",
              "    }\n",
              "\n",
              "    .dataframe tbody tr th {\n",
              "        vertical-align: top;\n",
              "    }\n",
              "\n",
              "    .dataframe thead th {\n",
              "        text-align: right;\n",
              "    }\n",
              "</style>\n",
              "<table border=\"1\" class=\"dataframe\">\n",
              "  <thead>\n",
              "    <tr style=\"text-align: right;\">\n",
              "      <th></th>\n",
              "      <th>OP_CARRIER_AIRLINE_ID</th>\n",
              "      <th>ORIGIN_AIRPORT_ID</th>\n",
              "      <th>DEST_AIRPORT_ID</th>\n",
              "      <th>DEP_DELAY_NEW</th>\n",
              "    </tr>\n",
              "  </thead>\n",
              "  <tbody>\n",
              "    <tr>\n",
              "      <th>13</th>\n",
              "      <td>19393</td>\n",
              "      <td>10821</td>\n",
              "      <td>14321</td>\n",
              "      <td>79.0</td>\n",
              "    </tr>\n",
              "    <tr>\n",
              "      <th>16</th>\n",
              "      <td>19393</td>\n",
              "      <td>10821</td>\n",
              "      <td>14492</td>\n",
              "      <td>30.0</td>\n",
              "    </tr>\n",
              "    <tr>\n",
              "      <th>19</th>\n",
              "      <td>19393</td>\n",
              "      <td>10821</td>\n",
              "      <td>14492</td>\n",
              "      <td>35.0</td>\n",
              "    </tr>\n",
              "    <tr>\n",
              "      <th>28</th>\n",
              "      <td>19393</td>\n",
              "      <td>10821</td>\n",
              "      <td>14635</td>\n",
              "      <td>64.0</td>\n",
              "    </tr>\n",
              "    <tr>\n",
              "      <th>29</th>\n",
              "      <td>19393</td>\n",
              "      <td>10821</td>\n",
              "      <td>14679</td>\n",
              "      <td>101.0</td>\n",
              "    </tr>\n",
              "    <tr>\n",
              "      <th>...</th>\n",
              "      <td>...</td>\n",
              "      <td>...</td>\n",
              "      <td>...</td>\n",
              "      <td>...</td>\n",
              "    </tr>\n",
              "    <tr>\n",
              "      <th>445763</th>\n",
              "      <td>21171</td>\n",
              "      <td>13830</td>\n",
              "      <td>14771</td>\n",
              "      <td>79.0</td>\n",
              "    </tr>\n",
              "    <tr>\n",
              "      <th>445765</th>\n",
              "      <td>21171</td>\n",
              "      <td>12889</td>\n",
              "      <td>12892</td>\n",
              "      <td>80.0</td>\n",
              "    </tr>\n",
              "    <tr>\n",
              "      <th>445776</th>\n",
              "      <td>21171</td>\n",
              "      <td>12264</td>\n",
              "      <td>14771</td>\n",
              "      <td>41.0</td>\n",
              "    </tr>\n",
              "    <tr>\n",
              "      <th>445806</th>\n",
              "      <td>21171</td>\n",
              "      <td>12889</td>\n",
              "      <td>11259</td>\n",
              "      <td>31.0</td>\n",
              "    </tr>\n",
              "    <tr>\n",
              "      <th>445808</th>\n",
              "      <td>21171</td>\n",
              "      <td>12264</td>\n",
              "      <td>14771</td>\n",
              "      <td>43.0</td>\n",
              "    </tr>\n",
              "  </tbody>\n",
              "</table>\n",
              "<p>43121 rows × 4 columns</p>\n",
              "</div>"
            ],
            "text/plain": [
              "        OP_CARRIER_AIRLINE_ID  ...  DEP_DELAY_NEW\n",
              "13                      19393  ...           79.0\n",
              "16                      19393  ...           30.0\n",
              "19                      19393  ...           35.0\n",
              "28                      19393  ...           64.0\n",
              "29                      19393  ...          101.0\n",
              "...                       ...  ...            ...\n",
              "445763                  21171  ...           79.0\n",
              "445765                  21171  ...           80.0\n",
              "445776                  21171  ...           41.0\n",
              "445806                  21171  ...           31.0\n",
              "445808                  21171  ...           43.0\n",
              "\n",
              "[43121 rows x 4 columns]"
            ]
          },
          "metadata": {
            "tags": []
          },
          "execution_count": 150
        }
      ]
    },
    {
      "cell_type": "code",
      "metadata": {
        "colab": {
          "base_uri": "https://localhost:8080/"
        },
        "id": "_86IzIxFIylr",
        "outputId": "f38e8401-98be-4c1b-8df6-525079479eb2"
      },
      "source": [
        "delay_total = df_2['DEP_DELAY_NEW'].sum()\r\n",
        "delay_total"
      ],
      "execution_count": null,
      "outputs": [
        {
          "output_type": "execute_result",
          "data": {
            "text/plain": [
              "4679963.0"
            ]
          },
          "metadata": {
            "tags": []
          },
          "execution_count": 163
        }
      ]
    },
    {
      "cell_type": "code",
      "metadata": {
        "colab": {
          "base_uri": "https://localhost:8080/"
        },
        "id": "1ywm1gmiJSJs",
        "outputId": "0e1f57fc-23cb-4201-e04d-562b4ffccf82"
      },
      "source": [
        "delay_ninety = df_3['DEP_DELAY_NEW'].sum()\r\n",
        "delay_ninety"
      ],
      "execution_count": null,
      "outputs": [
        {
          "output_type": "execute_result",
          "data": {
            "text/plain": [
              "3638619.0"
            ]
          },
          "metadata": {
            "tags": []
          },
          "execution_count": 164
        }
      ]
    },
    {
      "cell_type": "code",
      "metadata": {
        "colab": {
          "base_uri": "https://localhost:8080/"
        },
        "id": "RZOJ-sjvJkRg",
        "outputId": "04fa9713-9d62-4c48-dc93-27aa2d8da332"
      },
      "source": [
        "percentage = delay_ninety/delay_total\r\n",
        "percentage"
      ],
      "execution_count": null,
      "outputs": [
        {
          "output_type": "execute_result",
          "data": {
            "text/plain": [
              "0.777488839121164"
            ]
          },
          "metadata": {
            "tags": []
          },
          "execution_count": 165
        }
      ]
    },
    {
      "cell_type": "code",
      "metadata": {
        "id": "HaNSPcZzMpnz"
      },
      "source": [
        "df_4 = df_3.head(100)"
      ],
      "execution_count": null,
      "outputs": []
    },
    {
      "cell_type": "markdown",
      "metadata": {
        "id": "0vSX4-hYKBgq"
      },
      "source": [
        "***VISUALISATIONS***"
      ]
    },
    {
      "cell_type": "code",
      "metadata": {
        "colab": {
          "base_uri": "https://localhost:8080/",
          "height": 280
        },
        "id": "doLwkX0BLbO8",
        "outputId": "edb19689-684f-49ee-9761-09d32ca682e9"
      },
      "source": [
        "#Season with most number of matches(VISUALIZATION)\r\n",
        "sns.countplot(x='DEP_DELAY_NEW', data=df_4)\r\n",
        "plt.show()"
      ],
      "execution_count": null,
      "outputs": [
        {
          "output_type": "display_data",
          "data": {
            "image/png": "[encoded data removed]",
            "text/plain": [
              "<Figure size 432x288 with 1 Axes>"
            ]
          },
          "metadata": {
            "tags": [],
            "needs_background": "light"
          }
        }
      ]
    },
    {
      "cell_type": "code",
      "metadata": {
        "colab": {
          "base_uri": "https://localhost:8080/",
          "height": 456
        },
        "id": "IEuI2g1wyeca",
        "outputId": "73248af6-67ef-4d84-b531-467fe43a5838"
      },
      "source": [
        "import pandas as pd \r\n",
        "\r\n",
        "df = pd.read_csv('/content/Sof_JanData.csv')\r\n",
        "df"
      ],
      "execution_count": null,
      "outputs": [
        {
          "output_type": "execute_result",
          "data": {
            "text/html": [
              "<div>\n",
              "<style scoped>\n",
              "    .dataframe tbody tr th:only-of-type {\n",
              "        vertical-align: middle;\n",
              "    }\n",
              "\n",
              "    .dataframe tbody tr th {\n",
              "        vertical-align: top;\n",
              "    }\n",
              "\n",
              "    .dataframe thead th {\n",
              "        text-align: right;\n",
              "    }\n",
              "</style>\n",
              "<table border=\"1\" class=\"dataframe\">\n",
              "  <thead>\n",
              "    <tr style=\"text-align: right;\">\n",
              "      <th></th>\n",
              "      <th>YEAR</th>\n",
              "      <th>MONTH</th>\n",
              "      <th>ORIGIN_AIRPORT_ID</th>\n",
              "      <th>ORIGIN_AIRPORT_SEQ_ID</th>\n",
              "      <th>ORIGIN_CITY_MARKET_ID</th>\n",
              "      <th>ORIGIN</th>\n",
              "      <th>DEST_AIRPORT_ID</th>\n",
              "      <th>DEST_AIRPORT_SEQ_ID</th>\n",
              "      <th>DEST_CITY_MARKET_ID</th>\n",
              "      <th>DEST</th>\n",
              "      <th>DEP_TIME</th>\n",
              "      <th>DEP_DELAY</th>\n",
              "      <th>DEP_DELAY_NEW</th>\n",
              "      <th>DEP_DEL15</th>\n",
              "      <th>ARR_TIME</th>\n",
              "      <th>ARR_DELAY</th>\n",
              "      <th>ARR_DELAY_NEW</th>\n",
              "      <th>ARR_DEL15</th>\n",
              "      <th>CANCELLED</th>\n",
              "      <th>DIVERTED</th>\n",
              "      <th>CARRIER_DELAY</th>\n",
              "      <th>WEATHER_DELAY</th>\n",
              "      <th>NAS_DELAY</th>\n",
              "      <th>SECURITY_DELAY</th>\n",
              "      <th>LATE_AIRCRAFT_DELAY</th>\n",
              "      <th>Unnamed: 25</th>\n",
              "    </tr>\n",
              "  </thead>\n",
              "  <tbody>\n",
              "    <tr>\n",
              "      <th>0</th>\n",
              "      <td>2016</td>\n",
              "      <td>1</td>\n",
              "      <td>13303</td>\n",
              "      <td>1330303</td>\n",
              "      <td>32467</td>\n",
              "      <td>MIA</td>\n",
              "      <td>11278</td>\n",
              "      <td>1127803</td>\n",
              "      <td>30852</td>\n",
              "      <td>DCA</td>\n",
              "      <td>1436.0</td>\n",
              "      <td>21.0</td>\n",
              "      <td>21.0</td>\n",
              "      <td>1.0</td>\n",
              "      <td>1700.0</td>\n",
              "      <td>15.0</td>\n",
              "      <td>15.0</td>\n",
              "      <td>1.0</td>\n",
              "      <td>0.0</td>\n",
              "      <td>0.0</td>\n",
              "      <td>15.0</td>\n",
              "      <td>0.0</td>\n",
              "      <td>0.0</td>\n",
              "      <td>0.0</td>\n",
              "      <td>0.0</td>\n",
              "      <td>NaN</td>\n",
              "    </tr>\n",
              "    <tr>\n",
              "      <th>1</th>\n",
              "      <td>2016</td>\n",
              "      <td>1</td>\n",
              "      <td>13303</td>\n",
              "      <td>1330303</td>\n",
              "      <td>32467</td>\n",
              "      <td>MIA</td>\n",
              "      <td>11278</td>\n",
              "      <td>1127803</td>\n",
              "      <td>30852</td>\n",
              "      <td>DCA</td>\n",
              "      <td>1414.0</td>\n",
              "      <td>-1.0</td>\n",
              "      <td>0.0</td>\n",
              "      <td>0.0</td>\n",
              "      <td>1642.0</td>\n",
              "      <td>-3.0</td>\n",
              "      <td>0.0</td>\n",
              "      <td>0.0</td>\n",
              "      <td>0.0</td>\n",
              "      <td>0.0</td>\n",
              "      <td>NaN</td>\n",
              "      <td>NaN</td>\n",
              "      <td>NaN</td>\n",
              "      <td>NaN</td>\n",
              "      <td>NaN</td>\n",
              "      <td>NaN</td>\n",
              "    </tr>\n",
              "    <tr>\n",
              "      <th>2</th>\n",
              "      <td>2016</td>\n",
              "      <td>1</td>\n",
              "      <td>13303</td>\n",
              "      <td>1330303</td>\n",
              "      <td>32467</td>\n",
              "      <td>MIA</td>\n",
              "      <td>11278</td>\n",
              "      <td>1127803</td>\n",
              "      <td>30852</td>\n",
              "      <td>DCA</td>\n",
              "      <td>1441.0</td>\n",
              "      <td>26.0</td>\n",
              "      <td>26.0</td>\n",
              "      <td>1.0</td>\n",
              "      <td>1709.0</td>\n",
              "      <td>24.0</td>\n",
              "      <td>24.0</td>\n",
              "      <td>1.0</td>\n",
              "      <td>0.0</td>\n",
              "      <td>0.0</td>\n",
              "      <td>18.0</td>\n",
              "      <td>0.0</td>\n",
              "      <td>0.0</td>\n",
              "      <td>0.0</td>\n",
              "      <td>6.0</td>\n",
              "      <td>NaN</td>\n",
              "    </tr>\n",
              "    <tr>\n",
              "      <th>3</th>\n",
              "      <td>2016</td>\n",
              "      <td>1</td>\n",
              "      <td>13303</td>\n",
              "      <td>1330303</td>\n",
              "      <td>32467</td>\n",
              "      <td>MIA</td>\n",
              "      <td>11278</td>\n",
              "      <td>1127803</td>\n",
              "      <td>30852</td>\n",
              "      <td>DCA</td>\n",
              "      <td>1446.0</td>\n",
              "      <td>31.0</td>\n",
              "      <td>31.0</td>\n",
              "      <td>1.0</td>\n",
              "      <td>1737.0</td>\n",
              "      <td>52.0</td>\n",
              "      <td>52.0</td>\n",
              "      <td>1.0</td>\n",
              "      <td>0.0</td>\n",
              "      <td>0.0</td>\n",
              "      <td>0.0</td>\n",
              "      <td>0.0</td>\n",
              "      <td>52.0</td>\n",
              "      <td>0.0</td>\n",
              "      <td>0.0</td>\n",
              "      <td>NaN</td>\n",
              "    </tr>\n",
              "    <tr>\n",
              "      <th>4</th>\n",
              "      <td>2016</td>\n",
              "      <td>1</td>\n",
              "      <td>13303</td>\n",
              "      <td>1330303</td>\n",
              "      <td>32467</td>\n",
              "      <td>MIA</td>\n",
              "      <td>11278</td>\n",
              "      <td>1127803</td>\n",
              "      <td>30852</td>\n",
              "      <td>DCA</td>\n",
              "      <td>1414.0</td>\n",
              "      <td>-1.0</td>\n",
              "      <td>0.0</td>\n",
              "      <td>0.0</td>\n",
              "      <td>1652.0</td>\n",
              "      <td>7.0</td>\n",
              "      <td>7.0</td>\n",
              "      <td>0.0</td>\n",
              "      <td>0.0</td>\n",
              "      <td>0.0</td>\n",
              "      <td>NaN</td>\n",
              "      <td>NaN</td>\n",
              "      <td>NaN</td>\n",
              "      <td>NaN</td>\n",
              "      <td>NaN</td>\n",
              "      <td>NaN</td>\n",
              "    </tr>\n",
              "    <tr>\n",
              "      <th>...</th>\n",
              "      <td>...</td>\n",
              "      <td>...</td>\n",
              "      <td>...</td>\n",
              "      <td>...</td>\n",
              "      <td>...</td>\n",
              "      <td>...</td>\n",
              "      <td>...</td>\n",
              "      <td>...</td>\n",
              "      <td>...</td>\n",
              "      <td>...</td>\n",
              "      <td>...</td>\n",
              "      <td>...</td>\n",
              "      <td>...</td>\n",
              "      <td>...</td>\n",
              "      <td>...</td>\n",
              "      <td>...</td>\n",
              "      <td>...</td>\n",
              "      <td>...</td>\n",
              "      <td>...</td>\n",
              "      <td>...</td>\n",
              "      <td>...</td>\n",
              "      <td>...</td>\n",
              "      <td>...</td>\n",
              "      <td>...</td>\n",
              "      <td>...</td>\n",
              "      <td>...</td>\n",
              "    </tr>\n",
              "    <tr>\n",
              "      <th>445822</th>\n",
              "      <td>2016</td>\n",
              "      <td>1</td>\n",
              "      <td>15376</td>\n",
              "      <td>1537602</td>\n",
              "      <td>30436</td>\n",
              "      <td>TUS</td>\n",
              "      <td>12892</td>\n",
              "      <td>1289203</td>\n",
              "      <td>32575</td>\n",
              "      <td>LAX</td>\n",
              "      <td>1305.0</td>\n",
              "      <td>0.0</td>\n",
              "      <td>0.0</td>\n",
              "      <td>0.0</td>\n",
              "      <td>1420.0</td>\n",
              "      <td>40.0</td>\n",
              "      <td>40.0</td>\n",
              "      <td>1.0</td>\n",
              "      <td>0.0</td>\n",
              "      <td>0.0</td>\n",
              "      <td>0.0</td>\n",
              "      <td>0.0</td>\n",
              "      <td>40.0</td>\n",
              "      <td>0.0</td>\n",
              "      <td>0.0</td>\n",
              "      <td>NaN</td>\n",
              "    </tr>\n",
              "    <tr>\n",
              "      <th>445823</th>\n",
              "      <td>2016</td>\n",
              "      <td>1</td>\n",
              "      <td>15376</td>\n",
              "      <td>1537602</td>\n",
              "      <td>30436</td>\n",
              "      <td>TUS</td>\n",
              "      <td>12892</td>\n",
              "      <td>1289203</td>\n",
              "      <td>32575</td>\n",
              "      <td>LAX</td>\n",
              "      <td>1947.0</td>\n",
              "      <td>17.0</td>\n",
              "      <td>17.0</td>\n",
              "      <td>1.0</td>\n",
              "      <td>2026.0</td>\n",
              "      <td>26.0</td>\n",
              "      <td>26.0</td>\n",
              "      <td>1.0</td>\n",
              "      <td>0.0</td>\n",
              "      <td>0.0</td>\n",
              "      <td>5.0</td>\n",
              "      <td>0.0</td>\n",
              "      <td>9.0</td>\n",
              "      <td>0.0</td>\n",
              "      <td>12.0</td>\n",
              "      <td>NaN</td>\n",
              "    </tr>\n",
              "    <tr>\n",
              "      <th>445824</th>\n",
              "      <td>2016</td>\n",
              "      <td>1</td>\n",
              "      <td>15376</td>\n",
              "      <td>1537602</td>\n",
              "      <td>30436</td>\n",
              "      <td>TUS</td>\n",
              "      <td>13232</td>\n",
              "      <td>1323202</td>\n",
              "      <td>30977</td>\n",
              "      <td>MDW</td>\n",
              "      <td>827.0</td>\n",
              "      <td>37.0</td>\n",
              "      <td>37.0</td>\n",
              "      <td>1.0</td>\n",
              "      <td>1238.0</td>\n",
              "      <td>28.0</td>\n",
              "      <td>28.0</td>\n",
              "      <td>1.0</td>\n",
              "      <td>0.0</td>\n",
              "      <td>0.0</td>\n",
              "      <td>28.0</td>\n",
              "      <td>0.0</td>\n",
              "      <td>0.0</td>\n",
              "      <td>0.0</td>\n",
              "      <td>0.0</td>\n",
              "      <td>NaN</td>\n",
              "    </tr>\n",
              "    <tr>\n",
              "      <th>445825</th>\n",
              "      <td>2016</td>\n",
              "      <td>1</td>\n",
              "      <td>15376</td>\n",
              "      <td>1537602</td>\n",
              "      <td>30436</td>\n",
              "      <td>TUS</td>\n",
              "      <td>14679</td>\n",
              "      <td>1467903</td>\n",
              "      <td>33570</td>\n",
              "      <td>SAN</td>\n",
              "      <td>1427.0</td>\n",
              "      <td>-3.0</td>\n",
              "      <td>0.0</td>\n",
              "      <td>0.0</td>\n",
              "      <td>1509.0</td>\n",
              "      <td>24.0</td>\n",
              "      <td>24.0</td>\n",
              "      <td>1.0</td>\n",
              "      <td>0.0</td>\n",
              "      <td>0.0</td>\n",
              "      <td>0.0</td>\n",
              "      <td>0.0</td>\n",
              "      <td>24.0</td>\n",
              "      <td>0.0</td>\n",
              "      <td>0.0</td>\n",
              "      <td>NaN</td>\n",
              "    </tr>\n",
              "    <tr>\n",
              "      <th>445826</th>\n",
              "      <td>2016</td>\n",
              "      <td>1</td>\n",
              "      <td>15376</td>\n",
              "      <td>1537602</td>\n",
              "      <td>30436</td>\n",
              "      <td>TUS</td>\n",
              "      <td>14679</td>\n",
              "      <td>1467903</td>\n",
              "      <td>33570</td>\n",
              "      <td>SAN</td>\n",
              "      <td>1405.0</td>\n",
              "      <td>200.0</td>\n",
              "      <td>200.0</td>\n",
              "      <td>1.0</td>\n",
              "      <td>1431.0</td>\n",
              "      <td>211.0</td>\n",
              "      <td>211.0</td>\n",
              "      <td>1.0</td>\n",
              "      <td>0.0</td>\n",
              "      <td>0.0</td>\n",
              "      <td>200.0</td>\n",
              "      <td>0.0</td>\n",
              "      <td>11.0</td>\n",
              "      <td>0.0</td>\n",
              "      <td>0.0</td>\n",
              "      <td>NaN</td>\n",
              "    </tr>\n",
              "  </tbody>\n",
              "</table>\n",
              "<p>445827 rows × 26 columns</p>\n",
              "</div>"
            ],
            "text/plain": [
              "        YEAR  MONTH  ...  LATE_AIRCRAFT_DELAY  Unnamed: 25\n",
              "0       2016      1  ...                  0.0          NaN\n",
              "1       2016      1  ...                  NaN          NaN\n",
              "2       2016      1  ...                  6.0          NaN\n",
              "3       2016      1  ...                  0.0          NaN\n",
              "4       2016      1  ...                  NaN          NaN\n",
              "...      ...    ...  ...                  ...          ...\n",
              "445822  2016      1  ...                  0.0          NaN\n",
              "445823  2016      1  ...                 12.0          NaN\n",
              "445824  2016      1  ...                  0.0          NaN\n",
              "445825  2016      1  ...                  0.0          NaN\n",
              "445826  2016      1  ...                  0.0          NaN\n",
              "\n",
              "[445827 rows x 26 columns]"
            ]
          },
          "metadata": {
            "tags": []
          },
          "execution_count": 3
        }
      ]
    },
    {
      "cell_type": "code",
      "metadata": {
        "colab": {
          "base_uri": "https://localhost:8080/"
        },
        "id": "qS1ax0gCyxZ-",
        "outputId": "e953f842-027f-47dc-de34-311d47e250fd"
      },
      "source": [
        "df.shape"
      ],
      "execution_count": null,
      "outputs": [
        {
          "output_type": "execute_result",
          "data": {
            "text/plain": [
              "(445827, 26)"
            ]
          },
          "metadata": {
            "tags": []
          },
          "execution_count": 4
        }
      ]
    },
    {
      "cell_type": "code",
      "metadata": {
        "colab": {
          "base_uri": "https://localhost:8080/"
        },
        "id": "8jaflqP0y4Ov",
        "outputId": "62138e9f-d239-48e9-afda-f259a2b3b8d6"
      },
      "source": [
        "df.info"
      ],
      "execution_count": null,
      "outputs": [
        {
          "output_type": "execute_result",
          "data": {
            "text/plain": [
              "<bound method DataFrame.info of         YEAR  MONTH  ...  LATE_AIRCRAFT_DELAY  Unnamed: 25\n",
              "0       2016      1  ...                  0.0          NaN\n",
              "1       2016      1  ...                  NaN          NaN\n",
              "2       2016      1  ...                  6.0          NaN\n",
              "3       2016      1  ...                  0.0          NaN\n",
              "4       2016      1  ...                  NaN          NaN\n",
              "...      ...    ...  ...                  ...          ...\n",
              "445822  2016      1  ...                  0.0          NaN\n",
              "445823  2016      1  ...                 12.0          NaN\n",
              "445824  2016      1  ...                  0.0          NaN\n",
              "445825  2016      1  ...                  0.0          NaN\n",
              "445826  2016      1  ...                  0.0          NaN\n",
              "\n",
              "[445827 rows x 26 columns]>"
            ]
          },
          "metadata": {
            "tags": []
          },
          "execution_count": 5
        }
      ]
    },
    {
      "cell_type": "code",
      "metadata": {
        "colab": {
          "base_uri": "https://localhost:8080/"
        },
        "id": "ptjhZYpzy686",
        "outputId": "f6f632ff-2a90-4395-cdf0-1e5f3ff4e1fb"
      },
      "source": [
        "df.isna().sum()"
      ],
      "execution_count": null,
      "outputs": [
        {
          "output_type": "execute_result",
          "data": {
            "text/plain": [
              "YEAR                          0\n",
              "MONTH                         0\n",
              "ORIGIN_AIRPORT_ID             0\n",
              "ORIGIN_AIRPORT_SEQ_ID         0\n",
              "ORIGIN_CITY_MARKET_ID         0\n",
              "ORIGIN                        0\n",
              "DEST_AIRPORT_ID               0\n",
              "DEST_AIRPORT_SEQ_ID           0\n",
              "DEST_CITY_MARKET_ID           0\n",
              "DEST                          0\n",
              "DEP_TIME                  11473\n",
              "DEP_DELAY                 11473\n",
              "DEP_DELAY_NEW             11473\n",
              "DEP_DEL15                 11473\n",
              "ARR_TIME                  11907\n",
              "ARR_DELAY                 12529\n",
              "ARR_DELAY_NEW             12529\n",
              "ARR_DEL15                 12529\n",
              "CANCELLED                     0\n",
              "DIVERTED                      0\n",
              "CARRIER_DELAY            374945\n",
              "WEATHER_DELAY            374945\n",
              "NAS_DELAY                374945\n",
              "SECURITY_DELAY           374945\n",
              "LATE_AIRCRAFT_DELAY      374945\n",
              "Unnamed: 25              445827\n",
              "dtype: int64"
            ]
          },
          "metadata": {
            "tags": []
          },
          "execution_count": 8
        }
      ]
    },
    {
      "cell_type": "code",
      "metadata": {
        "id": "JJu910SuzZTf"
      },
      "source": [
        "del df[\"Unnamed: 25\"]"
      ],
      "execution_count": null,
      "outputs": []
    },
    {
      "cell_type": "markdown",
      "metadata": {
        "id": "_UEXrrXN601e"
      },
      "source": [
        "***PROJECT - 2***"
      ]
    },
    {
      "cell_type": "code",
      "metadata": {
        "colab": {
          "base_uri": "https://localhost:8080/",
          "height": 439
        },
        "id": "6PmozM5S0oJk",
        "outputId": "1d56f61f-a468-406d-c283-17ee3f69019c"
      },
      "source": [
        "df"
      ],
      "execution_count": null,
      "outputs": [
        {
          "output_type": "execute_result",
          "data": {
            "text/html": [
              "<div>\n",
              "<style scoped>\n",
              "    .dataframe tbody tr th:only-of-type {\n",
              "        vertical-align: middle;\n",
              "    }\n",
              "\n",
              "    .dataframe tbody tr th {\n",
              "        vertical-align: top;\n",
              "    }\n",
              "\n",
              "    .dataframe thead th {\n",
              "        text-align: right;\n",
              "    }\n",
              "</style>\n",
              "<table border=\"1\" class=\"dataframe\">\n",
              "  <thead>\n",
              "    <tr style=\"text-align: right;\">\n",
              "      <th></th>\n",
              "      <th>YEAR</th>\n",
              "      <th>MONTH</th>\n",
              "      <th>ORIGIN_AIRPORT_ID</th>\n",
              "      <th>ORIGIN_AIRPORT_SEQ_ID</th>\n",
              "      <th>ORIGIN_CITY_MARKET_ID</th>\n",
              "      <th>ORIGIN</th>\n",
              "      <th>DEST_AIRPORT_ID</th>\n",
              "      <th>DEST_AIRPORT_SEQ_ID</th>\n",
              "      <th>DEST_CITY_MARKET_ID</th>\n",
              "      <th>DEST</th>\n",
              "      <th>DEP_TIME</th>\n",
              "      <th>DEP_DELAY</th>\n",
              "      <th>DEP_DELAY_NEW</th>\n",
              "      <th>DEP_DEL15</th>\n",
              "      <th>ARR_TIME</th>\n",
              "      <th>ARR_DELAY</th>\n",
              "      <th>ARR_DELAY_NEW</th>\n",
              "      <th>ARR_DEL15</th>\n",
              "      <th>CANCELLED</th>\n",
              "      <th>DIVERTED</th>\n",
              "    </tr>\n",
              "  </thead>\n",
              "  <tbody>\n",
              "    <tr>\n",
              "      <th>0</th>\n",
              "      <td>2016</td>\n",
              "      <td>1</td>\n",
              "      <td>13303</td>\n",
              "      <td>1330303</td>\n",
              "      <td>32467</td>\n",
              "      <td>MIA</td>\n",
              "      <td>11278</td>\n",
              "      <td>1127803</td>\n",
              "      <td>30852</td>\n",
              "      <td>DCA</td>\n",
              "      <td>1436.0</td>\n",
              "      <td>21.0</td>\n",
              "      <td>21.0</td>\n",
              "      <td>1.0</td>\n",
              "      <td>1700.0</td>\n",
              "      <td>15.0</td>\n",
              "      <td>15.0</td>\n",
              "      <td>1.0</td>\n",
              "      <td>0.0</td>\n",
              "      <td>0.0</td>\n",
              "    </tr>\n",
              "    <tr>\n",
              "      <th>1</th>\n",
              "      <td>2016</td>\n",
              "      <td>1</td>\n",
              "      <td>13303</td>\n",
              "      <td>1330303</td>\n",
              "      <td>32467</td>\n",
              "      <td>MIA</td>\n",
              "      <td>11278</td>\n",
              "      <td>1127803</td>\n",
              "      <td>30852</td>\n",
              "      <td>DCA</td>\n",
              "      <td>1414.0</td>\n",
              "      <td>-1.0</td>\n",
              "      <td>0.0</td>\n",
              "      <td>0.0</td>\n",
              "      <td>1642.0</td>\n",
              "      <td>-3.0</td>\n",
              "      <td>0.0</td>\n",
              "      <td>0.0</td>\n",
              "      <td>0.0</td>\n",
              "      <td>0.0</td>\n",
              "    </tr>\n",
              "    <tr>\n",
              "      <th>2</th>\n",
              "      <td>2016</td>\n",
              "      <td>1</td>\n",
              "      <td>13303</td>\n",
              "      <td>1330303</td>\n",
              "      <td>32467</td>\n",
              "      <td>MIA</td>\n",
              "      <td>11278</td>\n",
              "      <td>1127803</td>\n",
              "      <td>30852</td>\n",
              "      <td>DCA</td>\n",
              "      <td>1441.0</td>\n",
              "      <td>26.0</td>\n",
              "      <td>26.0</td>\n",
              "      <td>1.0</td>\n",
              "      <td>1709.0</td>\n",
              "      <td>24.0</td>\n",
              "      <td>24.0</td>\n",
              "      <td>1.0</td>\n",
              "      <td>0.0</td>\n",
              "      <td>0.0</td>\n",
              "    </tr>\n",
              "    <tr>\n",
              "      <th>3</th>\n",
              "      <td>2016</td>\n",
              "      <td>1</td>\n",
              "      <td>13303</td>\n",
              "      <td>1330303</td>\n",
              "      <td>32467</td>\n",
              "      <td>MIA</td>\n",
              "      <td>11278</td>\n",
              "      <td>1127803</td>\n",
              "      <td>30852</td>\n",
              "      <td>DCA</td>\n",
              "      <td>1446.0</td>\n",
              "      <td>31.0</td>\n",
              "      <td>31.0</td>\n",
              "      <td>1.0</td>\n",
              "      <td>1737.0</td>\n",
              "      <td>52.0</td>\n",
              "      <td>52.0</td>\n",
              "      <td>1.0</td>\n",
              "      <td>0.0</td>\n",
              "      <td>0.0</td>\n",
              "    </tr>\n",
              "    <tr>\n",
              "      <th>4</th>\n",
              "      <td>2016</td>\n",
              "      <td>1</td>\n",
              "      <td>13303</td>\n",
              "      <td>1330303</td>\n",
              "      <td>32467</td>\n",
              "      <td>MIA</td>\n",
              "      <td>11278</td>\n",
              "      <td>1127803</td>\n",
              "      <td>30852</td>\n",
              "      <td>DCA</td>\n",
              "      <td>1414.0</td>\n",
              "      <td>-1.0</td>\n",
              "      <td>0.0</td>\n",
              "      <td>0.0</td>\n",
              "      <td>1652.0</td>\n",
              "      <td>7.0</td>\n",
              "      <td>7.0</td>\n",
              "      <td>0.0</td>\n",
              "      <td>0.0</td>\n",
              "      <td>0.0</td>\n",
              "    </tr>\n",
              "    <tr>\n",
              "      <th>...</th>\n",
              "      <td>...</td>\n",
              "      <td>...</td>\n",
              "      <td>...</td>\n",
              "      <td>...</td>\n",
              "      <td>...</td>\n",
              "      <td>...</td>\n",
              "      <td>...</td>\n",
              "      <td>...</td>\n",
              "      <td>...</td>\n",
              "      <td>...</td>\n",
              "      <td>...</td>\n",
              "      <td>...</td>\n",
              "      <td>...</td>\n",
              "      <td>...</td>\n",
              "      <td>...</td>\n",
              "      <td>...</td>\n",
              "      <td>...</td>\n",
              "      <td>...</td>\n",
              "      <td>...</td>\n",
              "      <td>...</td>\n",
              "    </tr>\n",
              "    <tr>\n",
              "      <th>445822</th>\n",
              "      <td>2016</td>\n",
              "      <td>1</td>\n",
              "      <td>15376</td>\n",
              "      <td>1537602</td>\n",
              "      <td>30436</td>\n",
              "      <td>TUS</td>\n",
              "      <td>12892</td>\n",
              "      <td>1289203</td>\n",
              "      <td>32575</td>\n",
              "      <td>LAX</td>\n",
              "      <td>1305.0</td>\n",
              "      <td>0.0</td>\n",
              "      <td>0.0</td>\n",
              "      <td>0.0</td>\n",
              "      <td>1420.0</td>\n",
              "      <td>40.0</td>\n",
              "      <td>40.0</td>\n",
              "      <td>1.0</td>\n",
              "      <td>0.0</td>\n",
              "      <td>0.0</td>\n",
              "    </tr>\n",
              "    <tr>\n",
              "      <th>445823</th>\n",
              "      <td>2016</td>\n",
              "      <td>1</td>\n",
              "      <td>15376</td>\n",
              "      <td>1537602</td>\n",
              "      <td>30436</td>\n",
              "      <td>TUS</td>\n",
              "      <td>12892</td>\n",
              "      <td>1289203</td>\n",
              "      <td>32575</td>\n",
              "      <td>LAX</td>\n",
              "      <td>1947.0</td>\n",
              "      <td>17.0</td>\n",
              "      <td>17.0</td>\n",
              "      <td>1.0</td>\n",
              "      <td>2026.0</td>\n",
              "      <td>26.0</td>\n",
              "      <td>26.0</td>\n",
              "      <td>1.0</td>\n",
              "      <td>0.0</td>\n",
              "      <td>0.0</td>\n",
              "    </tr>\n",
              "    <tr>\n",
              "      <th>445824</th>\n",
              "      <td>2016</td>\n",
              "      <td>1</td>\n",
              "      <td>15376</td>\n",
              "      <td>1537602</td>\n",
              "      <td>30436</td>\n",
              "      <td>TUS</td>\n",
              "      <td>13232</td>\n",
              "      <td>1323202</td>\n",
              "      <td>30977</td>\n",
              "      <td>MDW</td>\n",
              "      <td>827.0</td>\n",
              "      <td>37.0</td>\n",
              "      <td>37.0</td>\n",
              "      <td>1.0</td>\n",
              "      <td>1238.0</td>\n",
              "      <td>28.0</td>\n",
              "      <td>28.0</td>\n",
              "      <td>1.0</td>\n",
              "      <td>0.0</td>\n",
              "      <td>0.0</td>\n",
              "    </tr>\n",
              "    <tr>\n",
              "      <th>445825</th>\n",
              "      <td>2016</td>\n",
              "      <td>1</td>\n",
              "      <td>15376</td>\n",
              "      <td>1537602</td>\n",
              "      <td>30436</td>\n",
              "      <td>TUS</td>\n",
              "      <td>14679</td>\n",
              "      <td>1467903</td>\n",
              "      <td>33570</td>\n",
              "      <td>SAN</td>\n",
              "      <td>1427.0</td>\n",
              "      <td>-3.0</td>\n",
              "      <td>0.0</td>\n",
              "      <td>0.0</td>\n",
              "      <td>1509.0</td>\n",
              "      <td>24.0</td>\n",
              "      <td>24.0</td>\n",
              "      <td>1.0</td>\n",
              "      <td>0.0</td>\n",
              "      <td>0.0</td>\n",
              "    </tr>\n",
              "    <tr>\n",
              "      <th>445826</th>\n",
              "      <td>2016</td>\n",
              "      <td>1</td>\n",
              "      <td>15376</td>\n",
              "      <td>1537602</td>\n",
              "      <td>30436</td>\n",
              "      <td>TUS</td>\n",
              "      <td>14679</td>\n",
              "      <td>1467903</td>\n",
              "      <td>33570</td>\n",
              "      <td>SAN</td>\n",
              "      <td>1405.0</td>\n",
              "      <td>200.0</td>\n",
              "      <td>200.0</td>\n",
              "      <td>1.0</td>\n",
              "      <td>1431.0</td>\n",
              "      <td>211.0</td>\n",
              "      <td>211.0</td>\n",
              "      <td>1.0</td>\n",
              "      <td>0.0</td>\n",
              "      <td>0.0</td>\n",
              "    </tr>\n",
              "  </tbody>\n",
              "</table>\n",
              "<p>445827 rows × 20 columns</p>\n",
              "</div>"
            ],
            "text/plain": [
              "        YEAR  MONTH  ORIGIN_AIRPORT_ID  ...  ARR_DEL15  CANCELLED DIVERTED\n",
              "0       2016      1              13303  ...        1.0        0.0      0.0\n",
              "1       2016      1              13303  ...        0.0        0.0      0.0\n",
              "2       2016      1              13303  ...        1.0        0.0      0.0\n",
              "3       2016      1              13303  ...        1.0        0.0      0.0\n",
              "4       2016      1              13303  ...        0.0        0.0      0.0\n",
              "...      ...    ...                ...  ...        ...        ...      ...\n",
              "445822  2016      1              15376  ...        1.0        0.0      0.0\n",
              "445823  2016      1              15376  ...        1.0        0.0      0.0\n",
              "445824  2016      1              15376  ...        1.0        0.0      0.0\n",
              "445825  2016      1              15376  ...        1.0        0.0      0.0\n",
              "445826  2016      1              15376  ...        1.0        0.0      0.0\n",
              "\n",
              "[445827 rows x 20 columns]"
            ]
          },
          "metadata": {
            "tags": []
          },
          "execution_count": 21
        }
      ]
    },
    {
      "cell_type": "markdown",
      "metadata": {
        "id": "b587O-a05MI-"
      },
      "source": [
        "***TASK - Lets find the missing values***"
      ]
    },
    {
      "cell_type": "code",
      "metadata": {
        "colab": {
          "base_uri": "https://localhost:8080/"
        },
        "id": "BkL-pT3d0xZV",
        "outputId": "8adbe620-2513-4e40-cb8d-939661e1d566"
      },
      "source": [
        "df.isna().sum()"
      ],
      "execution_count": null,
      "outputs": [
        {
          "output_type": "execute_result",
          "data": {
            "text/plain": [
              "YEAR                         0\n",
              "MONTH                        0\n",
              "ORIGIN_AIRPORT_ID            0\n",
              "ORIGIN_AIRPORT_SEQ_ID        0\n",
              "ORIGIN_CITY_MARKET_ID        0\n",
              "ORIGIN                       0\n",
              "DEST_AIRPORT_ID              0\n",
              "DEST_AIRPORT_SEQ_ID          0\n",
              "DEST_CITY_MARKET_ID          0\n",
              "DEST                         0\n",
              "DEP_TIME                 11473\n",
              "DEP_DELAY                11473\n",
              "DEP_DELAY_NEW            11473\n",
              "DEP_DEL15                11473\n",
              "ARR_TIME                 11907\n",
              "ARR_DELAY                12529\n",
              "ARR_DELAY_NEW            12529\n",
              "ARR_DEL15                12529\n",
              "CANCELLED                    0\n",
              "DIVERTED                     0\n",
              "dtype: int64"
            ]
          },
          "metadata": {
            "tags": []
          },
          "execution_count": 22
        }
      ]
    },
    {
      "cell_type": "markdown",
      "metadata": {
        "id": "UpDoQkio3W0Y"
      },
      "source": [
        "***We have missing values in 8 columns. The missing values in all DEP columns are the same. But, the missing values in ARR columns are mostly same. Lets confirm it by a visualization.***"
      ]
    },
    {
      "cell_type": "code",
      "metadata": {
        "colab": {
          "base_uri": "https://localhost:8080/",
          "height": 490
        },
        "id": "P2E65MsBzUeH",
        "outputId": "2f0c7d87-24f0-4ed0-de0b-0fb2de1449c6"
      },
      "source": [
        "%matplotlib inline\r\n",
        "import missingno as msno\r\n",
        "msno.matrix(df)"
      ],
      "execution_count": null,
      "outputs": [
        {
          "output_type": "execute_result",
          "data": {
            "text/plain": [
              "<matplotlib.axes._subplots.AxesSubplot at 0x7ff33d684940>"
            ]
          },
          "metadata": {
            "tags": []
          },
          "execution_count": 24
        },
        {
          "output_type": "display_data",
          "data": {
            "image/png": "[encoded data removed]",
            "text/plain": [
              "<Figure size 1800x720 with 2 Axes>"
            ]
          },
          "metadata": {
            "tags": [],
            "needs_background": "light"
          }
        }
      ]
    },
    {
      "cell_type": "markdown",
      "metadata": {
        "id": "4MUXH3Wv4kGU"
      },
      "source": [
        "***CONCLUSION - Most of the missing values (white lines) are in the same rows in all 8 columns. Probably, the missing values are due to cancelled or diverted flights.***"
      ]
    },
    {
      "cell_type": "markdown",
      "metadata": {
        "id": "1vSJ5BLP5ZG7"
      },
      "source": [
        "***TASK - Lets find out if there is a correlation between cancelled, diverted flights and missing values***"
      ]
    },
    {
      "cell_type": "code",
      "metadata": {
        "colab": {
          "base_uri": "https://localhost:8080/"
        },
        "id": "Bq4pwQBI23tN",
        "outputId": "00e15841-5536-4fa1-9894-12e849c3d8be"
      },
      "source": [
        "df['CANCELLED'].value_counts()"
      ],
      "execution_count": null,
      "outputs": [
        {
          "output_type": "execute_result",
          "data": {
            "text/plain": [
              "0.0    434162\n",
              "1.0     11665\n",
              "Name: CANCELLED, dtype: int64"
            ]
          },
          "metadata": {
            "tags": []
          },
          "execution_count": 25
        }
      ]
    },
    {
      "cell_type": "code",
      "metadata": {
        "colab": {
          "base_uri": "https://localhost:8080/"
        },
        "id": "F-mNZT_m7Cfy",
        "outputId": "4f21439d-a7c8-48f3-a9aa-2a068f179ada"
      },
      "source": [
        "df[df['CANCELLED']==1].isna().sum()"
      ],
      "execution_count": null,
      "outputs": [
        {
          "output_type": "execute_result",
          "data": {
            "text/plain": [
              "YEAR                         0\n",
              "MONTH                        0\n",
              "ORIGIN_AIRPORT_ID            0\n",
              "ORIGIN_AIRPORT_SEQ_ID        0\n",
              "ORIGIN_CITY_MARKET_ID        0\n",
              "ORIGIN                       0\n",
              "DEST_AIRPORT_ID              0\n",
              "DEST_AIRPORT_SEQ_ID          0\n",
              "DEST_CITY_MARKET_ID          0\n",
              "DEST                         0\n",
              "DEP_TIME                 11473\n",
              "DEP_DELAY                11473\n",
              "DEP_DELAY_NEW            11473\n",
              "DEP_DEL15                11473\n",
              "ARR_TIME                 11665\n",
              "ARR_DELAY                11665\n",
              "ARR_DELAY_NEW            11665\n",
              "ARR_DEL15                11665\n",
              "CANCELLED                    0\n",
              "DIVERTED                     0\n",
              "dtype: int64"
            ]
          },
          "metadata": {
            "tags": []
          },
          "execution_count": 26
        }
      ]
    },
    {
      "cell_type": "markdown",
      "metadata": {
        "id": "S7ogLqx2883G"
      },
      "source": [
        "***The number of cancelled flights are the same as the number of missing values in DEP column. However,the number for ARR columns are different***"
      ]
    },
    {
      "cell_type": "code",
      "metadata": {
        "colab": {
          "base_uri": "https://localhost:8080/"
        },
        "id": "Ptfvjey_9PU6",
        "outputId": "fc268653-8870-4615-bfa4-fdc23b62332c"
      },
      "source": [
        "df['DIVERTED'].value_counts()"
      ],
      "execution_count": null,
      "outputs": [
        {
          "output_type": "execute_result",
          "data": {
            "text/plain": [
              "0.0    444963\n",
              "1.0       864\n",
              "Name: DIVERTED, dtype: int64"
            ]
          },
          "metadata": {
            "tags": []
          },
          "execution_count": 28
        }
      ]
    },
    {
      "cell_type": "code",
      "metadata": {
        "colab": {
          "base_uri": "https://localhost:8080/"
        },
        "id": "q_99JLKD9clA",
        "outputId": "efd76a14-4134-4a7b-cf79-2c2e39b7c8a3"
      },
      "source": [
        "df[df['DIVERTED']==1].isna().sum()"
      ],
      "execution_count": null,
      "outputs": [
        {
          "output_type": "execute_result",
          "data": {
            "text/plain": [
              "YEAR                       0\n",
              "MONTH                      0\n",
              "ORIGIN_AIRPORT_ID          0\n",
              "ORIGIN_AIRPORT_SEQ_ID      0\n",
              "ORIGIN_CITY_MARKET_ID      0\n",
              "ORIGIN                     0\n",
              "DEST_AIRPORT_ID            0\n",
              "DEST_AIRPORT_SEQ_ID        0\n",
              "DEST_CITY_MARKET_ID        0\n",
              "DEST                       0\n",
              "DEP_TIME                   0\n",
              "DEP_DELAY                  0\n",
              "DEP_DELAY_NEW              0\n",
              "DEP_DEL15                  0\n",
              "ARR_TIME                 242\n",
              "ARR_DELAY                864\n",
              "ARR_DELAY_NEW            864\n",
              "ARR_DEL15                864\n",
              "CANCELLED                  0\n",
              "DIVERTED                   0\n",
              "dtype: int64"
            ]
          },
          "metadata": {
            "tags": []
          },
          "execution_count": 29
        }
      ]
    },
    {
      "cell_type": "markdown",
      "metadata": {
        "id": "48-wLStF_DxG"
      },
      "source": [
        "***The number of diverted flights are the same as the missing number of values in ARR column.***"
      ]
    },
    {
      "cell_type": "markdown",
      "metadata": {
        "id": "7zt8gu6Z_ScP"
      },
      "source": [
        "***CONCLUSION - The missing values are due to cancelled and/or diverted flights. At this point, it is okay to get rid of them***"
      ]
    },
    {
      "cell_type": "markdown",
      "metadata": {
        "id": "tC9wYaoZ_1lb"
      },
      "source": [
        "***TASK - To remove the null values***"
      ]
    },
    {
      "cell_type": "code",
      "metadata": {
        "id": "rsbTi5AX_8s8"
      },
      "source": [
        "df.dropna(axis = 0, how = 'any', inplace = True)"
      ],
      "execution_count": null,
      "outputs": []
    },
    {
      "cell_type": "code",
      "metadata": {
        "colab": {
          "base_uri": "https://localhost:8080/"
        },
        "id": "zsoA83AFAMIX",
        "outputId": "23a303a4-c204-4aea-d151-6db6b810088d"
      },
      "source": [
        "df.isna().sum()"
      ],
      "execution_count": null,
      "outputs": [
        {
          "output_type": "execute_result",
          "data": {
            "text/plain": [
              "YEAR                     0\n",
              "MONTH                    0\n",
              "ORIGIN_AIRPORT_ID        0\n",
              "ORIGIN_AIRPORT_SEQ_ID    0\n",
              "ORIGIN_CITY_MARKET_ID    0\n",
              "ORIGIN                   0\n",
              "DEST_AIRPORT_ID          0\n",
              "DEST_AIRPORT_SEQ_ID      0\n",
              "DEST_CITY_MARKET_ID      0\n",
              "DEST                     0\n",
              "DEP_TIME                 0\n",
              "DEP_DELAY                0\n",
              "DEP_DELAY_NEW            0\n",
              "DEP_DEL15                0\n",
              "ARR_TIME                 0\n",
              "ARR_DELAY                0\n",
              "ARR_DELAY_NEW            0\n",
              "ARR_DEL15                0\n",
              "CANCELLED                0\n",
              "DIVERTED                 0\n",
              "dtype: int64"
            ]
          },
          "metadata": {
            "tags": []
          },
          "execution_count": 32
        }
      ]
    },
    {
      "cell_type": "code",
      "metadata": {
        "colab": {
          "base_uri": "https://localhost:8080/"
        },
        "id": "L9CHyy2JAVEN",
        "outputId": "850d54ab-1330-453c-a0a7-2519c94fa828"
      },
      "source": [
        "df['CANCELLED'].value_counts()"
      ],
      "execution_count": null,
      "outputs": [
        {
          "output_type": "execute_result",
          "data": {
            "text/plain": [
              "0.0    433298\n",
              "Name: CANCELLED, dtype: int64"
            ]
          },
          "metadata": {
            "tags": []
          },
          "execution_count": 33
        }
      ]
    },
    {
      "cell_type": "code",
      "metadata": {
        "colab": {
          "base_uri": "https://localhost:8080/"
        },
        "id": "F0bidPrwAfOi",
        "outputId": "02594106-6f0f-4e94-a5aa-90eef5a88f12"
      },
      "source": [
        "df['DIVERTED'].value_counts()"
      ],
      "execution_count": null,
      "outputs": [
        {
          "output_type": "execute_result",
          "data": {
            "text/plain": [
              "0.0    433298\n",
              "Name: DIVERTED, dtype: int64"
            ]
          },
          "metadata": {
            "tags": []
          },
          "execution_count": 34
        }
      ]
    },
    {
      "cell_type": "code",
      "metadata": {
        "id": "wiGMPE6aAtmy"
      },
      "source": [
        "df.drop(['CANCELLED','DIVERTED'], axis=1, inplace=True)"
      ],
      "execution_count": null,
      "outputs": []
    },
    {
      "cell_type": "markdown",
      "metadata": {
        "id": "UZHwS56eAzxK"
      },
      "source": [
        "***All values in Cancelled and Diverted are full of 0 now, because all 1s that corresponded to Nulls in ARR & DEP are dropped now, so Cancelled & Diverted can be dropped now***"
      ]
    },
    {
      "cell_type": "code",
      "metadata": {
        "colab": {
          "base_uri": "https://localhost:8080/"
        },
        "id": "upAgbeLtA8ZN",
        "outputId": "fb914b76-3c62-4821-a953-eb59977879b6"
      },
      "source": [
        "df['ARR_DEL15'].value_counts()"
      ],
      "execution_count": null,
      "outputs": [
        {
          "output_type": "execute_result",
          "data": {
            "text/plain": [
              "0.0    362416\n",
              "1.0     70882\n",
              "Name: ARR_DEL15, dtype: int64"
            ]
          },
          "metadata": {
            "tags": []
          },
          "execution_count": 38
        }
      ]
    },
    {
      "cell_type": "markdown",
      "metadata": {
        "id": "nXpLnmjMD44T"
      },
      "source": [
        "***ARRIVALS: 1 - Delayed, 0 - Not Delayed***"
      ]
    },
    {
      "cell_type": "code",
      "metadata": {
        "colab": {
          "base_uri": "https://localhost:8080/"
        },
        "id": "XCQkgjzhDtcf",
        "outputId": "255e7a0e-eb04-4373-bc48-c4ee4321200e"
      },
      "source": [
        "df['DEP_DEL15'].value_counts()"
      ],
      "execution_count": null,
      "outputs": [
        {
          "output_type": "execute_result",
          "data": {
            "text/plain": [
              "0.0    362556\n",
              "1.0     70742\n",
              "Name: DEP_DEL15, dtype: int64"
            ]
          },
          "metadata": {
            "tags": []
          },
          "execution_count": 39
        }
      ]
    },
    {
      "cell_type": "markdown",
      "metadata": {
        "id": "ONZvItEoEINZ"
      },
      "source": [
        "***DEPARTURES: 1 - Delayed, 0 - Not Delayed***"
      ]
    },
    {
      "cell_type": "markdown",
      "metadata": {
        "id": "ur1Ml4YeESBs"
      },
      "source": [
        "***CONCLUSION - Delays on Arrival are more than delays on departure. Lets make a comparison here***"
      ]
    },
    {
      "cell_type": "code",
      "metadata": {
        "colab": {
          "base_uri": "https://localhost:8080/",
          "height": 204
        },
        "id": "bSYuVVWsEQQ4",
        "outputId": "6924a91b-a20a-467f-d802-97de74bff9e4"
      },
      "source": [
        "df[['ARR_DEL15','DEP_DEL15', 'DEST']].groupby(['DEP_DEL15',\r\n",
        "'ARR_DEL15']).count()"
      ],
      "execution_count": null,
      "outputs": [
        {
          "output_type": "execute_result",
          "data": {
            "text/html": [
              "<div>\n",
              "<style scoped>\n",
              "    .dataframe tbody tr th:only-of-type {\n",
              "        vertical-align: middle;\n",
              "    }\n",
              "\n",
              "    .dataframe tbody tr th {\n",
              "        vertical-align: top;\n",
              "    }\n",
              "\n",
              "    .dataframe thead th {\n",
              "        text-align: right;\n",
              "    }\n",
              "</style>\n",
              "<table border=\"1\" class=\"dataframe\">\n",
              "  <thead>\n",
              "    <tr style=\"text-align: right;\">\n",
              "      <th></th>\n",
              "      <th></th>\n",
              "      <th>DEST</th>\n",
              "    </tr>\n",
              "    <tr>\n",
              "      <th>DEP_DEL15</th>\n",
              "      <th>ARR_DEL15</th>\n",
              "      <th></th>\n",
              "    </tr>\n",
              "  </thead>\n",
              "  <tbody>\n",
              "    <tr>\n",
              "      <th rowspan=\"2\" valign=\"top\">0.0</th>\n",
              "      <th>0.0</th>\n",
              "      <td>345391</td>\n",
              "    </tr>\n",
              "    <tr>\n",
              "      <th>1.0</th>\n",
              "      <td>17165</td>\n",
              "    </tr>\n",
              "    <tr>\n",
              "      <th rowspan=\"2\" valign=\"top\">1.0</th>\n",
              "      <th>0.0</th>\n",
              "      <td>17025</td>\n",
              "    </tr>\n",
              "    <tr>\n",
              "      <th>1.0</th>\n",
              "      <td>53717</td>\n",
              "    </tr>\n",
              "  </tbody>\n",
              "</table>\n",
              "</div>"
            ],
            "text/plain": [
              "                       DEST\n",
              "DEP_DEL15 ARR_DEL15        \n",
              "0.0       0.0        345391\n",
              "          1.0         17165\n",
              "1.0       0.0         17025\n",
              "          1.0         53717"
            ]
          },
          "metadata": {
            "tags": []
          },
          "execution_count": 42
        }
      ]
    },
    {
      "cell_type": "markdown",
      "metadata": {
        "id": "58XdcFYSGSyB"
      },
      "source": [
        "***It is clear that when DEP_DEL15 is 1, ARR_DEL15 is MORE as compared to when DEP_DEL15 is 0***"
      ]
    },
    {
      "cell_type": "code",
      "metadata": {
        "colab": {
          "base_uri": "https://localhost:8080/"
        },
        "id": "SZBMXMaGGpzY",
        "outputId": "ca37d2d6-9f8a-48af-d46b-86eb54b1f228"
      },
      "source": [
        "print(\"There are {} unique origin city\".format(df['ORIGIN'].nunique()))\r\n",
        "\r\n",
        "print(\"There are {} unique destination city\".format(df['DEST'].nunique()))"
      ],
      "execution_count": null,
      "outputs": [
        {
          "output_type": "stream",
          "text": [
            "There are 294 unique origin city\n",
            "There are 294 unique destination city\n"
          ],
          "name": "stdout"
        }
      ]
    },
    {
      "cell_type": "code",
      "metadata": {
        "colab": {
          "base_uri": "https://localhost:8080/",
          "height": 421
        },
        "id": "_dl6-4WYJrIU",
        "outputId": "71e52fa3-9c61-43cf-9b0c-c94c17c9c1f3"
      },
      "source": [
        "df[['ORIGIN','DEP_DEL15']].groupby('ORIGIN').agg(['mean','count']).sort_values(by=('DEP_DEL15','mean'), ascending=False)[:10]"
      ],
      "execution_count": null,
      "outputs": [
        {
          "output_type": "execute_result",
          "data": {
            "text/html": [
              "<div>\n",
              "<style scoped>\n",
              "    .dataframe tbody tr th:only-of-type {\n",
              "        vertical-align: middle;\n",
              "    }\n",
              "\n",
              "    .dataframe tbody tr th {\n",
              "        vertical-align: top;\n",
              "    }\n",
              "\n",
              "    .dataframe thead tr th {\n",
              "        text-align: left;\n",
              "    }\n",
              "\n",
              "    .dataframe thead tr:last-of-type th {\n",
              "        text-align: right;\n",
              "    }\n",
              "</style>\n",
              "<table border=\"1\" class=\"dataframe\">\n",
              "  <thead>\n",
              "    <tr>\n",
              "      <th></th>\n",
              "      <th colspan=\"2\" halign=\"left\">DEP_DEL15</th>\n",
              "    </tr>\n",
              "    <tr>\n",
              "      <th></th>\n",
              "      <th>mean</th>\n",
              "      <th>count</th>\n",
              "    </tr>\n",
              "    <tr>\n",
              "      <th>ORIGIN</th>\n",
              "      <th></th>\n",
              "      <th></th>\n",
              "    </tr>\n",
              "  </thead>\n",
              "  <tbody>\n",
              "    <tr>\n",
              "      <th>ROW</th>\n",
              "      <td>0.500000</td>\n",
              "      <td>4</td>\n",
              "    </tr>\n",
              "    <tr>\n",
              "      <th>OTH</th>\n",
              "      <td>0.470588</td>\n",
              "      <td>17</td>\n",
              "    </tr>\n",
              "    <tr>\n",
              "      <th>ACV</th>\n",
              "      <td>0.336134</td>\n",
              "      <td>119</td>\n",
              "    </tr>\n",
              "    <tr>\n",
              "      <th>ADK</th>\n",
              "      <td>0.333333</td>\n",
              "      <td>9</td>\n",
              "    </tr>\n",
              "    <tr>\n",
              "      <th>SWF</th>\n",
              "      <td>0.292308</td>\n",
              "      <td>65</td>\n",
              "    </tr>\n",
              "    <tr>\n",
              "      <th>PBI</th>\n",
              "      <td>0.277347</td>\n",
              "      <td>2322</td>\n",
              "    </tr>\n",
              "    <tr>\n",
              "      <th>MKG</th>\n",
              "      <td>0.271186</td>\n",
              "      <td>59</td>\n",
              "    </tr>\n",
              "    <tr>\n",
              "      <th>MIA</th>\n",
              "      <td>0.270908</td>\n",
              "      <td>5895</td>\n",
              "    </tr>\n",
              "    <tr>\n",
              "      <th>SMX</th>\n",
              "      <td>0.263158</td>\n",
              "      <td>57</td>\n",
              "    </tr>\n",
              "    <tr>\n",
              "      <th>LGB</th>\n",
              "      <td>0.262162</td>\n",
              "      <td>740</td>\n",
              "    </tr>\n",
              "  </tbody>\n",
              "</table>\n",
              "</div>"
            ],
            "text/plain": [
              "       DEP_DEL15      \n",
              "            mean count\n",
              "ORIGIN                \n",
              "ROW     0.500000     4\n",
              "OTH     0.470588    17\n",
              "ACV     0.336134   119\n",
              "ADK     0.333333     9\n",
              "SWF     0.292308    65\n",
              "PBI     0.277347  2322\n",
              "MKG     0.271186    59\n",
              "MIA     0.270908  5895\n",
              "SMX     0.263158    57\n",
              "LGB     0.262162   740"
            ]
          },
          "metadata": {
            "tags": []
          },
          "execution_count": 44
        }
      ]
    },
    {
      "cell_type": "code",
      "metadata": {
        "colab": {
          "base_uri": "https://localhost:8080/",
          "height": 421
        },
        "id": "xqEkHInPKh_M",
        "outputId": "61ff8f1c-3e30-4a34-aaf3-f8a59d73206c"
      },
      "source": [
        "df[['DEST','ARR_DEL15']].groupby('DEST').agg(['mean','count']).sort_values(by=('ARR_DEL15','mean'), ascending = False)[:10]"
      ],
      "execution_count": null,
      "outputs": [
        {
          "output_type": "execute_result",
          "data": {
            "text/html": [
              "<div>\n",
              "<style scoped>\n",
              "    .dataframe tbody tr th:only-of-type {\n",
              "        vertical-align: middle;\n",
              "    }\n",
              "\n",
              "    .dataframe tbody tr th {\n",
              "        vertical-align: top;\n",
              "    }\n",
              "\n",
              "    .dataframe thead tr th {\n",
              "        text-align: left;\n",
              "    }\n",
              "\n",
              "    .dataframe thead tr:last-of-type th {\n",
              "        text-align: right;\n",
              "    }\n",
              "</style>\n",
              "<table border=\"1\" class=\"dataframe\">\n",
              "  <thead>\n",
              "    <tr>\n",
              "      <th></th>\n",
              "      <th colspan=\"2\" halign=\"left\">ARR_DEL15</th>\n",
              "    </tr>\n",
              "    <tr>\n",
              "      <th></th>\n",
              "      <th>mean</th>\n",
              "      <th>count</th>\n",
              "    </tr>\n",
              "    <tr>\n",
              "      <th>DEST</th>\n",
              "      <th></th>\n",
              "      <th></th>\n",
              "    </tr>\n",
              "  </thead>\n",
              "  <tbody>\n",
              "    <tr>\n",
              "      <th>OTH</th>\n",
              "      <td>0.400000</td>\n",
              "      <td>15</td>\n",
              "    </tr>\n",
              "    <tr>\n",
              "      <th>SMX</th>\n",
              "      <td>0.385965</td>\n",
              "      <td>57</td>\n",
              "    </tr>\n",
              "    <tr>\n",
              "      <th>PSE</th>\n",
              "      <td>0.328571</td>\n",
              "      <td>70</td>\n",
              "    </tr>\n",
              "    <tr>\n",
              "      <th>ACV</th>\n",
              "      <td>0.319328</td>\n",
              "      <td>119</td>\n",
              "    </tr>\n",
              "    <tr>\n",
              "      <th>LSE</th>\n",
              "      <td>0.306122</td>\n",
              "      <td>49</td>\n",
              "    </tr>\n",
              "    <tr>\n",
              "      <th>BQN</th>\n",
              "      <td>0.304878</td>\n",
              "      <td>164</td>\n",
              "    </tr>\n",
              "    <tr>\n",
              "      <th>SFO</th>\n",
              "      <td>0.300306</td>\n",
              "      <td>12737</td>\n",
              "    </tr>\n",
              "    <tr>\n",
              "      <th>SWF</th>\n",
              "      <td>0.300000</td>\n",
              "      <td>60</td>\n",
              "    </tr>\n",
              "    <tr>\n",
              "      <th>LBE</th>\n",
              "      <td>0.294118</td>\n",
              "      <td>85</td>\n",
              "    </tr>\n",
              "    <tr>\n",
              "      <th>EWN</th>\n",
              "      <td>0.290909</td>\n",
              "      <td>55</td>\n",
              "    </tr>\n",
              "  </tbody>\n",
              "</table>\n",
              "</div>"
            ],
            "text/plain": [
              "     ARR_DEL15       \n",
              "          mean  count\n",
              "DEST                 \n",
              "OTH   0.400000     15\n",
              "SMX   0.385965     57\n",
              "PSE   0.328571     70\n",
              "ACV   0.319328    119\n",
              "LSE   0.306122     49\n",
              "BQN   0.304878    164\n",
              "SFO   0.300306  12737\n",
              "SWF   0.300000     60\n",
              "LBE   0.294118     85\n",
              "EWN   0.290909     55"
            ]
          },
          "metadata": {
            "tags": []
          },
          "execution_count": 51
        }
      ]
    },
    {
      "cell_type": "markdown",
      "metadata": {
        "id": "PhKHh4FcN93c"
      },
      "source": [
        "***In each airport code, number of flights are given as count, in Descending order through mean***"
      ]
    },
    {
      "cell_type": "code",
      "metadata": {
        "colab": {
          "base_uri": "https://localhost:8080/"
        },
        "id": "ifhmrWz-NXjw",
        "outputId": "fc2c156a-f6a7-4cf4-cfe4-51145f7ff055"
      },
      "source": [
        "df.ORIGIN.value_counts().mean()"
      ],
      "execution_count": null,
      "outputs": [
        {
          "output_type": "execute_result",
          "data": {
            "text/plain": [
              "1473.8027210884354"
            ]
          },
          "metadata": {
            "tags": []
          },
          "execution_count": 46
        }
      ]
    },
    {
      "cell_type": "markdown",
      "metadata": {
        "id": "Io08h-wAP2Nl"
      },
      "source": [
        "***Average number of flights per locations is 1474***"
      ]
    },
    {
      "cell_type": "markdown",
      "metadata": {
        "id": "XNsrZU81Ud0n"
      },
      "source": [
        "***Getting rid of org where number of flights are less than 500 since they could be potential outliers***"
      ]
    },
    {
      "cell_type": "code",
      "metadata": {
        "colab": {
          "base_uri": "https://localhost:8080/",
          "height": 421
        },
        "id": "fxabS0mOTdHm",
        "outputId": "8db71266-5a58-411b-8c4d-22a507a00b69"
      },
      "source": [
        "origin_delays = df[['ORIGIN','DEP_DEL15']].groupby('ORIGIN').agg(['mean','count'])\r\n",
        "origin_delays[origin_delays[('DEP_DEL15','count')] > 500].sort_values(by=('DEP_DEL15','mean'), ascending=False)[:10]"
      ],
      "execution_count": null,
      "outputs": [
        {
          "output_type": "execute_result",
          "data": {
            "text/html": [
              "<div>\n",
              "<style scoped>\n",
              "    .dataframe tbody tr th:only-of-type {\n",
              "        vertical-align: middle;\n",
              "    }\n",
              "\n",
              "    .dataframe tbody tr th {\n",
              "        vertical-align: top;\n",
              "    }\n",
              "\n",
              "    .dataframe thead tr th {\n",
              "        text-align: left;\n",
              "    }\n",
              "\n",
              "    .dataframe thead tr:last-of-type th {\n",
              "        text-align: right;\n",
              "    }\n",
              "</style>\n",
              "<table border=\"1\" class=\"dataframe\">\n",
              "  <thead>\n",
              "    <tr>\n",
              "      <th></th>\n",
              "      <th colspan=\"2\" halign=\"left\">DEP_DEL15</th>\n",
              "    </tr>\n",
              "    <tr>\n",
              "      <th></th>\n",
              "      <th>mean</th>\n",
              "      <th>count</th>\n",
              "    </tr>\n",
              "    <tr>\n",
              "      <th>ORIGIN</th>\n",
              "      <th></th>\n",
              "      <th></th>\n",
              "    </tr>\n",
              "  </thead>\n",
              "  <tbody>\n",
              "    <tr>\n",
              "      <th>PBI</th>\n",
              "      <td>0.277347</td>\n",
              "      <td>2322</td>\n",
              "    </tr>\n",
              "    <tr>\n",
              "      <th>MIA</th>\n",
              "      <td>0.270908</td>\n",
              "      <td>5895</td>\n",
              "    </tr>\n",
              "    <tr>\n",
              "      <th>LGB</th>\n",
              "      <td>0.262162</td>\n",
              "      <td>740</td>\n",
              "    </tr>\n",
              "    <tr>\n",
              "      <th>FLL</th>\n",
              "      <td>0.255313</td>\n",
              "      <td>7434</td>\n",
              "    </tr>\n",
              "    <tr>\n",
              "      <th>ASE</th>\n",
              "      <td>0.240484</td>\n",
              "      <td>578</td>\n",
              "    </tr>\n",
              "    <tr>\n",
              "      <th>SJU</th>\n",
              "      <td>0.239539</td>\n",
              "      <td>2342</td>\n",
              "    </tr>\n",
              "    <tr>\n",
              "      <th>ORD</th>\n",
              "      <td>0.233885</td>\n",
              "      <td>18197</td>\n",
              "    </tr>\n",
              "    <tr>\n",
              "      <th>SFO</th>\n",
              "      <td>0.233401</td>\n",
              "      <td>12742</td>\n",
              "    </tr>\n",
              "    <tr>\n",
              "      <th>HPN</th>\n",
              "      <td>0.216730</td>\n",
              "      <td>526</td>\n",
              "    </tr>\n",
              "    <tr>\n",
              "      <th>JFK</th>\n",
              "      <td>0.215897</td>\n",
              "      <td>7536</td>\n",
              "    </tr>\n",
              "  </tbody>\n",
              "</table>\n",
              "</div>"
            ],
            "text/plain": [
              "       DEP_DEL15       \n",
              "            mean  count\n",
              "ORIGIN                 \n",
              "PBI     0.277347   2322\n",
              "MIA     0.270908   5895\n",
              "LGB     0.262162    740\n",
              "FLL     0.255313   7434\n",
              "ASE     0.240484    578\n",
              "SJU     0.239539   2342\n",
              "ORD     0.233885  18197\n",
              "SFO     0.233401  12742\n",
              "HPN     0.216730    526\n",
              "JFK     0.215897   7536"
            ]
          },
          "metadata": {
            "tags": []
          },
          "execution_count": 52
        }
      ]
    },
    {
      "cell_type": "markdown",
      "metadata": {
        "id": "YhT0YHRkUXYP"
      },
      "source": [
        "***Lets combine the delays***"
      ]
    },
    {
      "cell_type": "code",
      "metadata": {
        "colab": {
          "base_uri": "https://localhost:8080/"
        },
        "id": "BiSmkrE_UU8G",
        "outputId": "de5a6d22-11a1-4e61-bd67-bfac8034926a"
      },
      "source": [
        "df['DEL15'] = df['ARR_DEL15'] + df['DEP_DEL15']\r\n",
        "df['DEL15']\r\n"
      ],
      "execution_count": null,
      "outputs": [
        {
          "output_type": "execute_result",
          "data": {
            "text/plain": [
              "0         2.0\n",
              "1         0.0\n",
              "2         2.0\n",
              "3         2.0\n",
              "4         0.0\n",
              "         ... \n",
              "445822    1.0\n",
              "445823    2.0\n",
              "445824    2.0\n",
              "445825    1.0\n",
              "445826    2.0\n",
              "Name: DEL15, Length: 433298, dtype: float64"
            ]
          },
          "metadata": {
            "tags": []
          },
          "execution_count": 56
        }
      ]
    },
    {
      "cell_type": "code",
      "metadata": {
        "colab": {
          "base_uri": "https://localhost:8080/"
        },
        "id": "CgdLN8z2qdF9",
        "outputId": "db349b2e-b1c6-47df-8d2d-4bfb2572fa25"
      },
      "source": [
        "name = 'Lizz'\r\n",
        "print(name[0:2])"
      ],
      "execution_count": null,
      "outputs": [
        {
          "output_type": "stream",
          "text": [
            "Li\n"
          ],
          "name": "stdout"
        }
      ]
    },
    {
      "cell_type": "code",
      "metadata": {
        "colab": {
          "base_uri": "https://localhost:8080/",
          "height": 35
        },
        "id": "uFoHcfOGrVPN",
        "outputId": "49ca81e2-3271-4c23-bd20-e5b177e2b110"
      },
      "source": [
        "A='1934567'\r\n",
        "A[1::2]"
      ],
      "execution_count": null,
      "outputs": [
        {
          "output_type": "execute_result",
          "data": {
            "application/vnd.google.colaboratory.intrinsic+json": {
              "type": "string"
            },
            "text/plain": [
              "'946'"
            ]
          },
          "metadata": {
            "tags": []
          },
          "execution_count": 4
        }
      ]
    },
    {
      "cell_type": "code",
      "metadata": {
        "colab": {
          "base_uri": "https://localhost:8080/",
          "height": 35
        },
        "id": "kgG_2Ti2rhy0",
        "outputId": "c330f17a-721b-4fab-a1aa-95731a81a54e"
      },
      "source": [
        "'1'+'2'"
      ],
      "execution_count": null,
      "outputs": [
        {
          "output_type": "execute_result",
          "data": {
            "application/vnd.google.colaboratory.intrinsic+json": {
              "type": "string"
            },
            "text/plain": [
              "'12'"
            ]
          },
          "metadata": {
            "tags": []
          },
          "execution_count": 5
        }
      ]
    },
    {
      "cell_type": "code",
      "metadata": {
        "colab": {
          "base_uri": "https://localhost:8080/",
          "height": 35
        },
        "id": "5eWzirAWrnTl",
        "outputId": "665f5050-834d-4b3f-d0dc-97921882b75e"
      },
      "source": [
        " 'hello'.upper() "
      ],
      "execution_count": null,
      "outputs": [
        {
          "output_type": "execute_result",
          "data": {
            "application/vnd.google.colaboratory.intrinsic+json": {
              "type": "string"
            },
            "text/plain": [
              "'HELLO'"
            ]
          },
          "metadata": {
            "tags": []
          },
          "execution_count": 6
        }
      ]
    },
    {
      "cell_type": "code",
      "metadata": {
        "colab": {
          "base_uri": "https://localhost:8080/"
        },
        "id": "5K937m-orsM_",
        "outputId": "5bcaf1d5-6d4b-47e1-9806-e7b60385c62f"
      },
      "source": [
        "Name=\"ABCDE\"\r\n",
        "Name.find(\"B\")"
      ],
      "execution_count": null,
      "outputs": [
        {
          "output_type": "execute_result",
          "data": {
            "text/plain": [
              "1"
            ]
          },
          "metadata": {
            "tags": []
          },
          "execution_count": 7
        }
      ]
    },
    {
      "cell_type": "code",
      "metadata": {
        "colab": {
          "base_uri": "https://localhost:8080/",
          "height": 35
        },
        "id": "INPzlu9kr3XZ",
        "outputId": "a5581e66-d205-441b-8d63-8e1ef5db4053"
      },
      "source": [
        " str(1+1)"
      ],
      "execution_count": null,
      "outputs": [
        {
          "output_type": "execute_result",
          "data": {
            "application/vnd.google.colaboratory.intrinsic+json": {
              "type": "string"
            },
            "text/plain": [
              "'2'"
            ]
          },
          "metadata": {
            "tags": []
          },
          "execution_count": 8
        }
      ]
    },
    {
      "cell_type": "code",
      "metadata": {
        "id": "nEgVL_DCr78q",
        "colab": {
          "base_uri": "https://localhost:8080/",
          "height": 35
        },
        "outputId": "186ae366-f477-468b-cd81-c4d2baa51669"
      },
      "source": [
        "\"123\".replace(\"12\", \"ab\")"
      ],
      "execution_count": null,
      "outputs": [
        {
          "output_type": "execute_result",
          "data": {
            "application/vnd.google.colaboratory.intrinsic+json": {
              "type": "string"
            },
            "text/plain": [
              "'ab3'"
            ]
          },
          "metadata": {
            "tags": []
          },
          "execution_count": 9
        }
      ]
    }
  ]
}