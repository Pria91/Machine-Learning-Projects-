{
  "nbformat": 4,
  "nbformat_minor": 0,
  "metadata": {
    "colab": {
      "name": "AirlinesDataAnalysis.ipynb",
      "provenance": [],
      "authorship_tag": "ABX9TyMS0LMeqqJH2GtZ34h0v7e3",
      "include_colab_link": true
    },
    "kernelspec": {
      "name": "python3",
      "display_name": "Python 3"
    }
  },
  "cells": [
    {
      "cell_type": "markdown",
      "metadata": {
        "id": "view-in-github",
        "colab_type": "text"
      },
      "source": [
        "<a href=\"https://colab.research.google.com/github/Pria91/Machine-Learning-Projects-/blob/main/AirlinesDataAnalysis.ipynb\" target=\"_parent\"><img src=\"https://colab.research.google.com/assets/colab-badge.svg\" alt=\"Open In Colab\"/></a>"
      ]
    },
    {
      "cell_type": "markdown",
      "metadata": {
        "id": "NMRo6Bd1Xa8s"
      },
      "source": [
        "***Lets import the libraries and input data file***"
      ]
    },
    {
      "cell_type": "code",
      "metadata": {
        "colab": {
          "base_uri": "https://localhost:8080/",
          "height": 439
        },
        "id": "ZXHFH2JeUFXa",
        "outputId": "a4bd867d-02bc-4ea6-8255-b3ca84b81342"
      },
      "source": [
        "import pandas as pd \r\n",
        "import numpy as np \r\n",
        "import seaborn as sns\r\n",
        "import matplotlib.pyplot as plt  \r\n",
        "\r\n",
        "df = pd.read_csv('/content/data_sof.csv')\r\n",
        "df"
      ],
      "execution_count": 42,
      "outputs": [
        {
          "output_type": "execute_result",
          "data": {
            "text/html": [
              "<div>\n",
              "<style scoped>\n",
              "    .dataframe tbody tr th:only-of-type {\n",
              "        vertical-align: middle;\n",
              "    }\n",
              "\n",
              "    .dataframe tbody tr th {\n",
              "        vertical-align: top;\n",
              "    }\n",
              "\n",
              "    .dataframe thead th {\n",
              "        text-align: right;\n",
              "    }\n",
              "</style>\n",
              "<table border=\"1\" class=\"dataframe\">\n",
              "  <thead>\n",
              "    <tr style=\"text-align: right;\">\n",
              "      <th></th>\n",
              "      <th>OP_CARRIER_AIRLINE_ID</th>\n",
              "      <th>ORIGIN_AIRPORT_ID</th>\n",
              "      <th>ORIGIN_AIRPORT_SEQ_ID</th>\n",
              "      <th>ORIGIN_CITY_MARKET_ID</th>\n",
              "      <th>DEST_AIRPORT_ID</th>\n",
              "      <th>DEST_AIRPORT_SEQ_ID</th>\n",
              "      <th>DEST_CITY_MARKET_ID</th>\n",
              "      <th>DEP_DELAY_NEW</th>\n",
              "    </tr>\n",
              "  </thead>\n",
              "  <tbody>\n",
              "    <tr>\n",
              "      <th>0</th>\n",
              "      <td>19393</td>\n",
              "      <td>10821</td>\n",
              "      <td>1082103</td>\n",
              "      <td>30852</td>\n",
              "      <td>14122</td>\n",
              "      <td>1412202</td>\n",
              "      <td>30198</td>\n",
              "      <td>0.0</td>\n",
              "    </tr>\n",
              "    <tr>\n",
              "      <th>1</th>\n",
              "      <td>19393</td>\n",
              "      <td>10821</td>\n",
              "      <td>1082103</td>\n",
              "      <td>30852</td>\n",
              "      <td>14122</td>\n",
              "      <td>1412202</td>\n",
              "      <td>30198</td>\n",
              "      <td>1.0</td>\n",
              "    </tr>\n",
              "    <tr>\n",
              "      <th>2</th>\n",
              "      <td>19393</td>\n",
              "      <td>10821</td>\n",
              "      <td>1082103</td>\n",
              "      <td>30852</td>\n",
              "      <td>14122</td>\n",
              "      <td>1412202</td>\n",
              "      <td>30198</td>\n",
              "      <td>11.0</td>\n",
              "    </tr>\n",
              "    <tr>\n",
              "      <th>3</th>\n",
              "      <td>19393</td>\n",
              "      <td>10821</td>\n",
              "      <td>1082103</td>\n",
              "      <td>30852</td>\n",
              "      <td>14122</td>\n",
              "      <td>1412202</td>\n",
              "      <td>30198</td>\n",
              "      <td>29.0</td>\n",
              "    </tr>\n",
              "    <tr>\n",
              "      <th>4</th>\n",
              "      <td>19393</td>\n",
              "      <td>10821</td>\n",
              "      <td>1082103</td>\n",
              "      <td>30852</td>\n",
              "      <td>14307</td>\n",
              "      <td>1430702</td>\n",
              "      <td>30721</td>\n",
              "      <td>0.0</td>\n",
              "    </tr>\n",
              "    <tr>\n",
              "      <th>...</th>\n",
              "      <td>...</td>\n",
              "      <td>...</td>\n",
              "      <td>...</td>\n",
              "      <td>...</td>\n",
              "      <td>...</td>\n",
              "      <td>...</td>\n",
              "      <td>...</td>\n",
              "      <td>...</td>\n",
              "    </tr>\n",
              "    <tr>\n",
              "      <th>445822</th>\n",
              "      <td>21171</td>\n",
              "      <td>12892</td>\n",
              "      <td>1289203</td>\n",
              "      <td>32575</td>\n",
              "      <td>11259</td>\n",
              "      <td>1125903</td>\n",
              "      <td>30194</td>\n",
              "      <td>0.0</td>\n",
              "    </tr>\n",
              "    <tr>\n",
              "      <th>445823</th>\n",
              "      <td>21171</td>\n",
              "      <td>11259</td>\n",
              "      <td>1125903</td>\n",
              "      <td>30194</td>\n",
              "      <td>12892</td>\n",
              "      <td>1289203</td>\n",
              "      <td>32575</td>\n",
              "      <td>8.0</td>\n",
              "    </tr>\n",
              "    <tr>\n",
              "      <th>445824</th>\n",
              "      <td>21171</td>\n",
              "      <td>12892</td>\n",
              "      <td>1289203</td>\n",
              "      <td>32575</td>\n",
              "      <td>11259</td>\n",
              "      <td>1125903</td>\n",
              "      <td>30194</td>\n",
              "      <td>0.0</td>\n",
              "    </tr>\n",
              "    <tr>\n",
              "      <th>445825</th>\n",
              "      <td>21171</td>\n",
              "      <td>11259</td>\n",
              "      <td>1125903</td>\n",
              "      <td>30194</td>\n",
              "      <td>12892</td>\n",
              "      <td>1289203</td>\n",
              "      <td>32575</td>\n",
              "      <td>0.0</td>\n",
              "    </tr>\n",
              "    <tr>\n",
              "      <th>445826</th>\n",
              "      <td>21171</td>\n",
              "      <td>11259</td>\n",
              "      <td>1125903</td>\n",
              "      <td>30194</td>\n",
              "      <td>12892</td>\n",
              "      <td>1289203</td>\n",
              "      <td>32575</td>\n",
              "      <td>0.0</td>\n",
              "    </tr>\n",
              "  </tbody>\n",
              "</table>\n",
              "<p>445827 rows × 8 columns</p>\n",
              "</div>"
            ],
            "text/plain": [
              "        OP_CARRIER_AIRLINE_ID  ...  DEP_DELAY_NEW\n",
              "0                       19393  ...            0.0\n",
              "1                       19393  ...            1.0\n",
              "2                       19393  ...           11.0\n",
              "3                       19393  ...           29.0\n",
              "4                       19393  ...            0.0\n",
              "...                       ...  ...            ...\n",
              "445822                  21171  ...            0.0\n",
              "445823                  21171  ...            8.0\n",
              "445824                  21171  ...            0.0\n",
              "445825                  21171  ...            0.0\n",
              "445826                  21171  ...            0.0\n",
              "\n",
              "[445827 rows x 8 columns]"
            ]
          },
          "metadata": {
            "tags": []
          },
          "execution_count": 42
        }
      ]
    },
    {
      "cell_type": "code",
      "metadata": {
        "colab": {
          "base_uri": "https://localhost:8080/"
        },
        "id": "vbpPzpXBX4OJ",
        "outputId": "a5db2cb7-efda-4658-bab7-ce1ff2ed115f"
      },
      "source": [
        "df.info"
      ],
      "execution_count": 9,
      "outputs": [
        {
          "output_type": "execute_result",
          "data": {
            "text/plain": [
              "<bound method DataFrame.info of         OP_CARRIER_AIRLINE_ID  ...  DEP_DELAY_NEW\n",
              "0                       19393  ...            0.0\n",
              "1                       19393  ...            1.0\n",
              "2                       19393  ...           11.0\n",
              "3                       19393  ...           29.0\n",
              "4                       19393  ...            0.0\n",
              "...                       ...  ...            ...\n",
              "445822                  21171  ...            0.0\n",
              "445823                  21171  ...            8.0\n",
              "445824                  21171  ...            0.0\n",
              "445825                  21171  ...            0.0\n",
              "445826                  21171  ...            0.0\n",
              "\n",
              "[445827 rows x 8 columns]>"
            ]
          },
          "metadata": {
            "tags": []
          },
          "execution_count": 9
        }
      ]
    },
    {
      "cell_type": "code",
      "metadata": {
        "colab": {
          "base_uri": "https://localhost:8080/"
        },
        "id": "xgS8gQjkX8Bz",
        "outputId": "7f95e212-e78b-4ea3-c74a-0fc5727dce42"
      },
      "source": [
        "df.shape"
      ],
      "execution_count": 10,
      "outputs": [
        {
          "output_type": "execute_result",
          "data": {
            "text/plain": [
              "(445827, 8)"
            ]
          },
          "metadata": {
            "tags": []
          },
          "execution_count": 10
        }
      ]
    },
    {
      "cell_type": "code",
      "metadata": {
        "colab": {
          "base_uri": "https://localhost:8080/"
        },
        "id": "A-jJEmdgX-0P",
        "outputId": "5f02c8de-d8fc-4100-861f-a52b188486f1"
      },
      "source": [
        "df.columns"
      ],
      "execution_count": 11,
      "outputs": [
        {
          "output_type": "execute_result",
          "data": {
            "text/plain": [
              "Index(['OP_CARRIER_AIRLINE_ID', 'ORIGIN_AIRPORT_ID', 'ORIGIN_AIRPORT_SEQ_ID',\n",
              "       'ORIGIN_CITY_MARKET_ID', 'DEST_AIRPORT_ID', 'DEST_AIRPORT_SEQ_ID',\n",
              "       'DEST_CITY_MARKET_ID', 'DEP_DELAY_NEW'],\n",
              "      dtype='object')"
            ]
          },
          "metadata": {
            "tags": []
          },
          "execution_count": 11
        }
      ]
    },
    {
      "cell_type": "markdown",
      "metadata": {
        "id": "vrxWlY7gXsz4"
      },
      "source": [
        "***Lets find the null values, if any, in data set***"
      ]
    },
    {
      "cell_type": "code",
      "metadata": {
        "id": "3lSGcPwDXr7R"
      },
      "source": [
        "# TO FIND OUT TOTAL NUMBER OF NULL VALUES IN EVERY COLUMN "
      ],
      "execution_count": null,
      "outputs": []
    },
    {
      "cell_type": "code",
      "metadata": {
        "colab": {
          "base_uri": "https://localhost:8080/"
        },
        "id": "5DOoTNs5WAmB",
        "outputId": "a20da9b5-c737-4d68-9f75-fb3c5d412fa0"
      },
      "source": [
        "null_columns = df.columns[df.isnull().any()]\r\n",
        "df[null_columns].isnull().sum()"
      ],
      "execution_count": 16,
      "outputs": [
        {
          "output_type": "execute_result",
          "data": {
            "text/plain": [
              "DEP_DELAY_NEW    11473\n",
              "dtype: int64"
            ]
          },
          "metadata": {
            "tags": []
          },
          "execution_count": 16
        }
      ]
    },
    {
      "cell_type": "code",
      "metadata": {
        "colab": {
          "base_uri": "https://localhost:8080/"
        },
        "id": "AuNkDWlWZXyw",
        "outputId": "d34b6b2e-99d7-4682-a133-4dc11331a705"
      },
      "source": [
        "df.isnull().sum()"
      ],
      "execution_count": 17,
      "outputs": [
        {
          "output_type": "execute_result",
          "data": {
            "text/plain": [
              "OP_CARRIER_AIRLINE_ID        0\n",
              "ORIGIN_AIRPORT_ID            0\n",
              "ORIGIN_AIRPORT_SEQ_ID        0\n",
              "ORIGIN_CITY_MARKET_ID        0\n",
              "DEST_AIRPORT_ID              0\n",
              "DEST_AIRPORT_SEQ_ID          0\n",
              "DEST_CITY_MARKET_ID          0\n",
              "DEP_DELAY_NEW            11473\n",
              "dtype: int64"
            ]
          },
          "metadata": {
            "tags": []
          },
          "execution_count": 17
        }
      ]
    },
    {
      "cell_type": "code",
      "metadata": {
        "id": "B1ZtjymkYDRd"
      },
      "source": [
        "# There is only one column DEP_DELAY_NEW which has 11473 nulls "
      ],
      "execution_count": null,
      "outputs": []
    },
    {
      "cell_type": "code",
      "metadata": {
        "id": "0tAZCYT_YQDQ"
      },
      "source": [
        "# TO FIND EVERY ROW THAT HAS ATLEAST ONE NULL "
      ],
      "execution_count": null,
      "outputs": []
    },
    {
      "cell_type": "code",
      "metadata": {
        "colab": {
          "base_uri": "https://localhost:8080/",
          "height": 419
        },
        "id": "uSXF8_vXYj1U",
        "outputId": "748eb135-3d8e-40ba-8a67-93207d5d8c2d"
      },
      "source": [
        "df[df.isnull().any(axis = 1)][null_columns]"
      ],
      "execution_count": 22,
      "outputs": [
        {
          "output_type": "execute_result",
          "data": {
            "text/html": [
              "<div>\n",
              "<style scoped>\n",
              "    .dataframe tbody tr th:only-of-type {\n",
              "        vertical-align: middle;\n",
              "    }\n",
              "\n",
              "    .dataframe tbody tr th {\n",
              "        vertical-align: top;\n",
              "    }\n",
              "\n",
              "    .dataframe thead th {\n",
              "        text-align: right;\n",
              "    }\n",
              "</style>\n",
              "<table border=\"1\" class=\"dataframe\">\n",
              "  <thead>\n",
              "    <tr style=\"text-align: right;\">\n",
              "      <th></th>\n",
              "      <th>DEP_DELAY_NEW</th>\n",
              "    </tr>\n",
              "  </thead>\n",
              "  <tbody>\n",
              "    <tr>\n",
              "      <th>192</th>\n",
              "      <td>NaN</td>\n",
              "    </tr>\n",
              "    <tr>\n",
              "      <th>344</th>\n",
              "      <td>NaN</td>\n",
              "    </tr>\n",
              "    <tr>\n",
              "      <th>532</th>\n",
              "      <td>NaN</td>\n",
              "    </tr>\n",
              "    <tr>\n",
              "      <th>687</th>\n",
              "      <td>NaN</td>\n",
              "    </tr>\n",
              "    <tr>\n",
              "      <th>2059</th>\n",
              "      <td>NaN</td>\n",
              "    </tr>\n",
              "    <tr>\n",
              "      <th>...</th>\n",
              "      <td>...</td>\n",
              "    </tr>\n",
              "    <tr>\n",
              "      <th>445189</th>\n",
              "      <td>NaN</td>\n",
              "    </tr>\n",
              "    <tr>\n",
              "      <th>445200</th>\n",
              "      <td>NaN</td>\n",
              "    </tr>\n",
              "    <tr>\n",
              "      <th>445212</th>\n",
              "      <td>NaN</td>\n",
              "    </tr>\n",
              "    <tr>\n",
              "      <th>445240</th>\n",
              "      <td>NaN</td>\n",
              "    </tr>\n",
              "    <tr>\n",
              "      <th>445399</th>\n",
              "      <td>NaN</td>\n",
              "    </tr>\n",
              "  </tbody>\n",
              "</table>\n",
              "<p>11473 rows × 1 columns</p>\n",
              "</div>"
            ],
            "text/plain": [
              "        DEP_DELAY_NEW\n",
              "192               NaN\n",
              "344               NaN\n",
              "532               NaN\n",
              "687               NaN\n",
              "2059              NaN\n",
              "...               ...\n",
              "445189            NaN\n",
              "445200            NaN\n",
              "445212            NaN\n",
              "445240            NaN\n",
              "445399            NaN\n",
              "\n",
              "[11473 rows x 1 columns]"
            ]
          },
          "metadata": {
            "tags": []
          },
          "execution_count": 22
        }
      ]
    },
    {
      "cell_type": "markdown",
      "metadata": {
        "id": "PwwdeF6raUSi"
      },
      "source": [
        "***Cleaning the data - getting rid of null values***"
      ]
    },
    {
      "cell_type": "code",
      "metadata": {
        "id": "4i8NcpqZaZmH"
      },
      "source": [
        "# DROP ROWS WITH THE MISSING VALUES"
      ],
      "execution_count": null,
      "outputs": []
    },
    {
      "cell_type": "code",
      "metadata": {
        "colab": {
          "base_uri": "https://localhost:8080/",
          "height": 439
        },
        "id": "EUYySiiZahNJ",
        "outputId": "0398d819-7674-4dbb-a081-28f7784cccb0"
      },
      "source": [
        "dff = df.dropna()\r\n",
        "dff"
      ],
      "execution_count": 29,
      "outputs": [
        {
          "output_type": "execute_result",
          "data": {
            "text/html": [
              "<div>\n",
              "<style scoped>\n",
              "    .dataframe tbody tr th:only-of-type {\n",
              "        vertical-align: middle;\n",
              "    }\n",
              "\n",
              "    .dataframe tbody tr th {\n",
              "        vertical-align: top;\n",
              "    }\n",
              "\n",
              "    .dataframe thead th {\n",
              "        text-align: right;\n",
              "    }\n",
              "</style>\n",
              "<table border=\"1\" class=\"dataframe\">\n",
              "  <thead>\n",
              "    <tr style=\"text-align: right;\">\n",
              "      <th></th>\n",
              "      <th>OP_CARRIER_AIRLINE_ID</th>\n",
              "      <th>ORIGIN_AIRPORT_ID</th>\n",
              "      <th>ORIGIN_AIRPORT_SEQ_ID</th>\n",
              "      <th>ORIGIN_CITY_MARKET_ID</th>\n",
              "      <th>DEST_AIRPORT_ID</th>\n",
              "      <th>DEST_AIRPORT_SEQ_ID</th>\n",
              "      <th>DEST_CITY_MARKET_ID</th>\n",
              "      <th>DEP_DELAY_NEW</th>\n",
              "    </tr>\n",
              "  </thead>\n",
              "  <tbody>\n",
              "    <tr>\n",
              "      <th>0</th>\n",
              "      <td>19393</td>\n",
              "      <td>10821</td>\n",
              "      <td>1082103</td>\n",
              "      <td>30852</td>\n",
              "      <td>14122</td>\n",
              "      <td>1412202</td>\n",
              "      <td>30198</td>\n",
              "      <td>0.0</td>\n",
              "    </tr>\n",
              "    <tr>\n",
              "      <th>1</th>\n",
              "      <td>19393</td>\n",
              "      <td>10821</td>\n",
              "      <td>1082103</td>\n",
              "      <td>30852</td>\n",
              "      <td>14122</td>\n",
              "      <td>1412202</td>\n",
              "      <td>30198</td>\n",
              "      <td>1.0</td>\n",
              "    </tr>\n",
              "    <tr>\n",
              "      <th>2</th>\n",
              "      <td>19393</td>\n",
              "      <td>10821</td>\n",
              "      <td>1082103</td>\n",
              "      <td>30852</td>\n",
              "      <td>14122</td>\n",
              "      <td>1412202</td>\n",
              "      <td>30198</td>\n",
              "      <td>11.0</td>\n",
              "    </tr>\n",
              "    <tr>\n",
              "      <th>3</th>\n",
              "      <td>19393</td>\n",
              "      <td>10821</td>\n",
              "      <td>1082103</td>\n",
              "      <td>30852</td>\n",
              "      <td>14122</td>\n",
              "      <td>1412202</td>\n",
              "      <td>30198</td>\n",
              "      <td>29.0</td>\n",
              "    </tr>\n",
              "    <tr>\n",
              "      <th>4</th>\n",
              "      <td>19393</td>\n",
              "      <td>10821</td>\n",
              "      <td>1082103</td>\n",
              "      <td>30852</td>\n",
              "      <td>14307</td>\n",
              "      <td>1430702</td>\n",
              "      <td>30721</td>\n",
              "      <td>0.0</td>\n",
              "    </tr>\n",
              "    <tr>\n",
              "      <th>...</th>\n",
              "      <td>...</td>\n",
              "      <td>...</td>\n",
              "      <td>...</td>\n",
              "      <td>...</td>\n",
              "      <td>...</td>\n",
              "      <td>...</td>\n",
              "      <td>...</td>\n",
              "      <td>...</td>\n",
              "    </tr>\n",
              "    <tr>\n",
              "      <th>445822</th>\n",
              "      <td>21171</td>\n",
              "      <td>12892</td>\n",
              "      <td>1289203</td>\n",
              "      <td>32575</td>\n",
              "      <td>11259</td>\n",
              "      <td>1125903</td>\n",
              "      <td>30194</td>\n",
              "      <td>0.0</td>\n",
              "    </tr>\n",
              "    <tr>\n",
              "      <th>445823</th>\n",
              "      <td>21171</td>\n",
              "      <td>11259</td>\n",
              "      <td>1125903</td>\n",
              "      <td>30194</td>\n",
              "      <td>12892</td>\n",
              "      <td>1289203</td>\n",
              "      <td>32575</td>\n",
              "      <td>8.0</td>\n",
              "    </tr>\n",
              "    <tr>\n",
              "      <th>445824</th>\n",
              "      <td>21171</td>\n",
              "      <td>12892</td>\n",
              "      <td>1289203</td>\n",
              "      <td>32575</td>\n",
              "      <td>11259</td>\n",
              "      <td>1125903</td>\n",
              "      <td>30194</td>\n",
              "      <td>0.0</td>\n",
              "    </tr>\n",
              "    <tr>\n",
              "      <th>445825</th>\n",
              "      <td>21171</td>\n",
              "      <td>11259</td>\n",
              "      <td>1125903</td>\n",
              "      <td>30194</td>\n",
              "      <td>12892</td>\n",
              "      <td>1289203</td>\n",
              "      <td>32575</td>\n",
              "      <td>0.0</td>\n",
              "    </tr>\n",
              "    <tr>\n",
              "      <th>445826</th>\n",
              "      <td>21171</td>\n",
              "      <td>11259</td>\n",
              "      <td>1125903</td>\n",
              "      <td>30194</td>\n",
              "      <td>12892</td>\n",
              "      <td>1289203</td>\n",
              "      <td>32575</td>\n",
              "      <td>0.0</td>\n",
              "    </tr>\n",
              "  </tbody>\n",
              "</table>\n",
              "<p>434354 rows × 8 columns</p>\n",
              "</div>"
            ],
            "text/plain": [
              "        OP_CARRIER_AIRLINE_ID  ...  DEP_DELAY_NEW\n",
              "0                       19393  ...            0.0\n",
              "1                       19393  ...            1.0\n",
              "2                       19393  ...           11.0\n",
              "3                       19393  ...           29.0\n",
              "4                       19393  ...            0.0\n",
              "...                       ...  ...            ...\n",
              "445822                  21171  ...            0.0\n",
              "445823                  21171  ...            8.0\n",
              "445824                  21171  ...            0.0\n",
              "445825                  21171  ...            0.0\n",
              "445826                  21171  ...            0.0\n",
              "\n",
              "[434354 rows x 8 columns]"
            ]
          },
          "metadata": {
            "tags": []
          },
          "execution_count": 29
        }
      ]
    },
    {
      "cell_type": "markdown",
      "metadata": {
        "id": "F35iLB8Wa_sd"
      },
      "source": [
        "*** TO REMOVE All origin airports that have less than 5 airlines***"
      ]
    },
    {
      "cell_type": "code",
      "metadata": {
        "id": "wHsXSUSxfb__"
      },
      "source": [
        "# MINIMUM IN EACH COLUMN DISPLAYED"
      ],
      "execution_count": null,
      "outputs": []
    },
    {
      "cell_type": "code",
      "metadata": {
        "colab": {
          "base_uri": "https://localhost:8080/"
        },
        "id": "-LwqVHN4bClK",
        "outputId": "dfa76660-45e5-4a0a-ff9d-73a81fa8ddde"
      },
      "source": [
        "dff.min()"
      ],
      "execution_count": 30,
      "outputs": [
        {
          "output_type": "execute_result",
          "data": {
            "text/plain": [
              "OP_CARRIER_AIRLINE_ID      19393.0\n",
              "ORIGIN_AIRPORT_ID          10135.0\n",
              "ORIGIN_AIRPORT_SEQ_ID    1013503.0\n",
              "ORIGIN_CITY_MARKET_ID      30070.0\n",
              "DEST_AIRPORT_ID            10135.0\n",
              "DEST_AIRPORT_SEQ_ID      1013503.0\n",
              "DEST_CITY_MARKET_ID        30070.0\n",
              "DEP_DELAY_NEW                  0.0\n",
              "dtype: float64"
            ]
          },
          "metadata": {
            "tags": []
          },
          "execution_count": 30
        }
      ]
    },
    {
      "cell_type": "code",
      "metadata": {
        "id": "LgqGwmzifflr"
      },
      "source": [
        "#LENGTH OF UNIQUE ENTRY IN ONE PARTICULATR COLUMN i.e. NO REPETITION OF ENTRY "
      ],
      "execution_count": null,
      "outputs": []
    },
    {
      "cell_type": "code",
      "metadata": {
        "colab": {
          "base_uri": "https://localhost:8080/"
        },
        "id": "CfUd9V7Fb_w0",
        "outputId": "9e2e1810-9402-459f-ddbb-b3b92f511e25"
      },
      "source": [
        "len(dff['ORIGIN_AIRPORT_ID'].unique())"
      ],
      "execution_count": 46,
      "outputs": [
        {
          "output_type": "execute_result",
          "data": {
            "text/plain": [
              "294"
            ]
          },
          "metadata": {
            "tags": []
          },
          "execution_count": 46
        }
      ]
    },
    {
      "cell_type": "code",
      "metadata": {
        "id": "ogk574Ayfwhx"
      },
      "source": [
        "# NAME/ID OF EACH UNIQUE ENTRY IN THAT PARTICULAR COLUMN "
      ],
      "execution_count": null,
      "outputs": []
    },
    {
      "cell_type": "code",
      "metadata": {
        "colab": {
          "base_uri": "https://localhost:8080/"
        },
        "id": "3E-oqr6nfKY_",
        "outputId": "89f692b6-8825-4b27-e8e3-e3737c54cd33"
      },
      "source": [
        "dff['ORIGIN_AIRPORT_ID'].unique()"
      ],
      "execution_count": 47,
      "outputs": [
        {
          "output_type": "execute_result",
          "data": {
            "text/plain": [
              "array([10821, 10874, 10994, 11042, 11057, 11066, 11140, 11259, 11267,\n",
              "       11278, 11292, 14321, 14492, 14524, 14570, 14576, 14635, 14679,\n",
              "       14683, 14730, 14747, 14771, 14831, 14843, 14869, 14893, 14908,\n",
              "       15016, 15304, 15370, 15376, 10140, 10257, 10279, 10397, 10423,\n",
              "       13232, 13244, 13296, 13342, 13487, 13495, 13158, 13198, 11697,\n",
              "       11721, 11884, 11986, 11996, 12191, 12206, 12264, 12278, 12339,\n",
              "       12391, 12451, 12889, 12892, 12896, 12953, 12992, 13204, 10693,\n",
              "       10713, 10721, 10792, 10800, 11423, 11433, 11481, 11540, 11618,\n",
              "       13796, 13851, 13871, 13891, 13931, 14027, 14057, 14100, 14107,\n",
              "       14122, 14193, 14307, 10529, 10599, 12982, 12173, 13830, 12402,\n",
              "       12758, 14222, 12478, 11995, 11775, 12266, 14986, 11503, 11193,\n",
              "       11641, 10620, 13930, 13485, 15249, 11298, 15323, 12448, 15412,\n",
              "       13303, 10431, 14685, 12217, 14783, 13360, 13486, 15024, 14814,\n",
              "       10208, 15096, 10299, 11624, 10408, 11109, 13230, 11953, 12441,\n",
              "       10868, 11252, 10990, 12523, 12951, 14574, 15624, 15919, 10135,\n",
              "       11637, 11612, 10685, 11146, 10434, 12945, 13577, 13422, 11973,\n",
              "       14262, 10849, 12323, 14098, 10980, 14252, 10627, 12094, 11648,\n",
              "       15027, 13502, 11977, 13256, 12012, 11638, 10666, 10551, 10754,\n",
              "       14709, 11630, 12819, 15991, 10926, 14828, 14256, 15841, 13873,\n",
              "       13970, 10170, 10165, 10732, 10785, 12016, 10781, 11921, 16218,\n",
              "       11337, 12884, 10372, 11003, 12389, 10747, 15380, 11865, 14543,\n",
              "       11471, 11823, 14952, 14696, 14633, 13184, 11413, 11603, 13388,\n",
              "       14689, 11447, 12519, 13476, 13344, 11076, 14698, 12954, 12003,\n",
              "       13433, 14457, 12280, 10561, 13264, 14489, 11898, 13029, 12255,\n",
              "       14006, 13367, 13076, 11695, 10469, 13377, 11122, 14905, 15389,\n",
              "       15041, 10157, 14108, 14150, 11525, 12156, 11013, 12397, 10141,\n",
              "       10577, 14520, 13127, 12335, 13459, 10739, 12343, 14113, 14794,\n",
              "       12129, 11587, 10631, 10779, 10918, 11097, 13964, 14487, 10333,\n",
              "       12888, 13061, 12915, 12177, 12197, 15411, 11537, 14711, 11982,\n",
              "       11203, 11577, 10155, 11778, 12891, 10728, 12511, 10185, 15401,\n",
              "       11049, 12007, 13277, 11150, 15607, 13795, 10731, 11308, 11617,\n",
              "       10581, 10146, 14674, 13241, 14109, 14588, 13933, 15070, 14254,\n",
              "       12898, 10158, 14025, 12265, 15356, 15497])"
            ]
          },
          "metadata": {
            "tags": []
          },
          "execution_count": 47
        }
      ]
    },
    {
      "cell_type": "code",
      "metadata": {
        "id": "kftjGinef2Tz"
      },
      "source": [
        "# TOTAL COUNT OF EACH OF THE UNIQUE ENTRY IN THAT PARTICULAR COLUMN "
      ],
      "execution_count": 38,
      "outputs": []
    },
    {
      "cell_type": "code",
      "metadata": {
        "id": "PJ-xAH8AheRf"
      },
      "source": [
        "# IF YOU ADD COUNTS OF EACH UNIQUE ENTRY, IT WILL SUM UPTO TOTAL NUMBER 434354"
      ],
      "execution_count": 37,
      "outputs": []
    },
    {
      "cell_type": "code",
      "metadata": {
        "colab": {
          "base_uri": "https://localhost:8080/"
        },
        "id": "Y3tci57qd0rw",
        "outputId": "b4736384-2843-40c5-db81-31682545ac35"
      },
      "source": [
        "pd.set_option('display.max_rows', 500) \r\n",
        "dff['ORIGIN_AIRPORT_ID'].value_counts()"
      ],
      "execution_count": 71,
      "outputs": [
        {
          "output_type": "execute_result",
          "data": {
            "text/plain": [
              "10397    29465\n",
              "13930    18269\n",
              "11292    17325\n",
              "11298    16344\n",
              "12892    16131\n",
              "14107    12871\n",
              "14771    12794\n",
              "12889    11988\n",
              "12266    11504\n",
              "13204    10466\n",
              "14747     9674\n",
              "13487     9493\n",
              "11433     9321\n",
              "10721     8814\n",
              "14869     8640\n",
              "11057     8625\n",
              "11618     7704\n",
              "12478     7552\n",
              "12953     7487\n",
              "11697     7452\n",
              "10821     6550\n",
              "13232     6536\n",
              "14679     5911\n",
              "13303     5906\n",
              "15304     5856\n",
              "11278     5840\n",
              "11259     5727\n",
              "14100     5319\n",
              "12191     4473\n",
              "15016     4250\n",
              "14057     4103\n",
              "12173     3860\n",
              "10693     3731\n",
              "13796     3605\n",
              "10423     3542\n",
              "13495     3461\n",
              "14908     3423\n",
              "13198     3264\n",
              "14635     3219\n",
              "14831     3179\n",
              "14893     3119\n",
              "13342     2664\n",
              "11042     2616\n",
              "14492     2398\n",
              "14843     2349\n",
              "14027     2327\n",
              "14683     2324\n",
              "12264     2290\n",
              "12339     2163\n",
              "13830     1905\n",
              "14122     1853\n",
              "11066     1745\n",
              "10800     1723\n",
              "13891     1574\n",
              "10529     1484\n",
              "12451     1455\n",
              "10140     1432\n",
              "15376     1409\n",
              "13871     1392\n",
              "13851     1315\n",
              "10792     1252\n",
              "11193     1230\n",
              "10299     1223\n",
              "15370     1192\n",
              "10713     1164\n",
              "13244     1120\n",
              "14524     1054\n",
              "12982     1004\n",
              "12758      989\n",
              "10994      978\n",
              "14570      975\n",
              "14307      956\n",
              "14262      950\n",
              "10599      876\n",
              "11540      875\n",
              "11884      848\n",
              "13931      802\n",
              "12954      742\n",
              "10257      734\n",
              "11986      734\n",
              "14730      727\n",
              "12278      686\n",
              "11423      654\n",
              "11109      624\n",
              "12992      603\n",
              "11638      589\n",
              "10781      587\n",
              "10372      580\n",
              "13485      564\n",
              "11267      557\n",
              "14576      554\n",
              "12197      526\n",
              "15412      518\n",
              "14685      517\n",
              "11996      506\n",
              "12402      492\n",
              "14689      482\n",
              "10874      482\n",
              "14814      481\n",
              "13158      464\n",
              "14193      438\n",
              "15024      437\n",
              "15096      437\n",
              "12448      427\n",
              "13296      424\n",
              "10868      424\n",
              "12441      400\n",
              "12896      395\n",
              "11995      394\n",
              "14696      388\n",
              "11637      364\n",
              "15919      363\n",
              "15624      357\n",
              "14321      355\n",
              "12945      352\n",
              "13422      351\n",
              "12391      350\n",
              "10980      340\n",
              "11775      338\n",
              "12523      334\n",
              "14986      324\n",
              "11481      320\n",
              "12217      313\n",
              "11823      302\n",
              "11503      300\n",
              "14252      297\n",
              "10158      294\n",
              "11721      291\n",
              "11603      284\n",
              "10620      282\n",
              "10849      268\n",
              "12951      267\n",
              "10408      264\n",
              "11973      262\n",
              "14108      247\n",
              "13377      246\n",
              "12884      246\n",
              "10785      245\n",
              "10279      242\n",
              "11140      241\n",
              "12206      240\n",
              "11977      236\n",
              "11003      235\n",
              "13029      230\n",
              "13264      228\n",
              "14783      228\n",
              "13577      219\n",
              "14457      216\n",
              "13367      215\n",
              "11982      214\n",
              "11612      212\n",
              "15249      208\n",
              "10185      206\n",
              "14698      206\n",
              "10627      205\n",
              "13476      205\n",
              "12280      204\n",
              "10469      203\n",
              "10208      195\n",
              "10431      195\n",
              "13256      194\n",
              "12323      193\n",
              "11953      193\n",
              "13277      190\n",
              "11921      186\n",
              "11146      185\n",
              "11624      184\n",
              "10561      184\n",
              "13184      184\n",
              "10747      183\n",
              "12819      181\n",
              "12094      179\n",
              "13486      178\n",
              "14489      178\n",
              "16218      177\n",
              "11537      177\n",
              "13230      176\n",
              "14574      173\n",
              "11630      172\n",
              "10135      172\n",
              "11337      170\n",
              "15411      170\n",
              "12389      168\n",
              "10732      163\n",
              "15356      161\n",
              "13061      161\n",
              "15323      160\n",
              "10990      158\n",
              "14794      153\n",
              "12003      151\n",
              "13502      151\n",
              "13433      149\n",
              "11778      148\n",
              "11641      146\n",
              "10434      146\n",
              "11695      146\n",
              "10155      145\n",
              "11252      145\n",
              "14952      140\n",
              "11122      139\n",
              "11648      138\n",
              "15389      121\n",
              "10157      119\n",
              "12156      118\n",
              "13360      117\n",
              "11308      116\n",
              "11413      101\n",
              "15027       98\n",
              "15380       94\n",
              "11898       94\n",
              "10666       94\n",
              "10685       90\n",
              "14828       90\n",
              "13795       89\n",
              "11865       88\n",
              "12891       87\n",
              "14520       86\n",
              "14098       85\n",
              "12898       85\n",
              "10731       85\n",
              "15607       84\n",
              "10728       82\n",
              "15401       82\n",
              "10551       81\n",
              "11150       81\n",
              "12129       81\n",
              "13241       81\n",
              "12007       80\n",
              "10146       79\n",
              "10754       79\n",
              "14709       79\n",
              "14633       76\n",
              "10577       75\n",
              "12915       74\n",
              "15041       74\n",
              "14254       71\n",
              "12519       69\n",
              "15070       65\n",
              "10631       62\n",
              "11471       62\n",
              "10141       62\n",
              "13970       61\n",
              "12511       61\n",
              "15841       60\n",
              "15991       60\n",
              "14256       60\n",
              "13873       60\n",
              "12397       59\n",
              "10926       59\n",
              "13344       59\n",
              "14006       58\n",
              "13933       58\n",
              "14487       58\n",
              "10779       57\n",
              "14905       57\n",
              "14674       57\n",
              "11076       57\n",
              "11013       56\n",
              "14543       56\n",
              "14711       56\n",
              "14113       55\n",
              "13127       55\n",
              "11617       55\n",
              "12335       54\n",
              "11203       54\n",
              "11577       54\n",
              "11049       53\n",
              "13459       53\n",
              "10739       52\n",
              "12888       52\n",
              "12343       52\n",
              "11587       51\n",
              "10918       51\n",
              "14109       50\n",
              "14150       50\n",
              "12255       50\n",
              "13076       49\n",
              "12012       48\n",
              "10333       48\n",
              "11525       47\n",
              "12177       46\n",
              "11447       44\n",
              "10170       39\n",
              "11097       33\n",
              "14025       31\n",
              "12016       31\n",
              "12265       29\n",
              "13388       22\n",
              "13964       17\n",
              "14222       10\n",
              "10165        9\n",
              "10581        6\n",
              "14588        4\n",
              "15497        3\n",
              "Name: ORIGIN_AIRPORT_ID, dtype: int64"
            ]
          },
          "metadata": {
            "tags": []
          },
          "execution_count": 71
        }
      ]
    },
    {
      "cell_type": "code",
      "metadata": {
        "id": "FIEI3beCorvp"
      },
      "source": [
        "# CONCLUSION - AS SHOWN ABOVE, AIRPORT ID = 14588 & 15497 HAVE ENTRIES LESS THAN 5 - 4 AND 3 RESPECTIVELY\r\n",
        "# LETS GET RID OF THESE "
      ],
      "execution_count": 74,
      "outputs": []
    },
    {
      "cell_type": "code",
      "metadata": {
        "colab": {
          "base_uri": "https://localhost:8080/"
        },
        "id": "gBn-ZrNZpSof",
        "outputId": "62abc3f6-553d-40cc-92a0-4924b834542b"
      },
      "source": [
        "i = dff[(dff.ORIGIN_AIRPORT_ID == 15497)].index\r\n",
        "i"
      ],
      "execution_count": 80,
      "outputs": [
        {
          "output_type": "execute_result",
          "data": {
            "text/plain": [
              "Int64Index([435124, 438011, 439699], dtype='int64')"
            ]
          },
          "metadata": {
            "tags": []
          },
          "execution_count": 80
        }
      ]
    },
    {
      "cell_type": "code",
      "metadata": {
        "id": "XRaaJzbUqfn6"
      },
      "source": [
        "# 3 ROWS AS ABOVE"
      ],
      "execution_count": 88,
      "outputs": []
    },
    {
      "cell_type": "code",
      "metadata": {
        "colab": {
          "base_uri": "https://localhost:8080/"
        },
        "id": "I7IrDZkwpp6h",
        "outputId": "84063e6b-327d-4f0b-ee72-977cc30860ab"
      },
      "source": [
        "j = dff[(dff.ORIGIN_AIRPORT_ID == 14588)].index\r\n",
        "j"
      ],
      "execution_count": 81,
      "outputs": [
        {
          "output_type": "execute_result",
          "data": {
            "text/plain": [
              "Int64Index([388838, 388839, 388840, 388841], dtype='int64')"
            ]
          },
          "metadata": {
            "tags": []
          },
          "execution_count": 81
        }
      ]
    },
    {
      "cell_type": "code",
      "metadata": {
        "id": "IzcTO-Qhqihj"
      },
      "source": [
        "# 4 ROWS AS ABOVE"
      ],
      "execution_count": 87,
      "outputs": []
    },
    {
      "cell_type": "code",
      "metadata": {
        "colab": {
          "base_uri": "https://localhost:8080/",
          "height": 439
        },
        "id": "NnLru__ppySa",
        "outputId": "658c4b5f-5048-45b3-93b2-e184df2f6095"
      },
      "source": [
        "df_1 = dff.drop(i)\r\n",
        "df_2 = df_1.drop(j)\r\n",
        "\r\n",
        "df_2"
      ],
      "execution_count": 86,
      "outputs": [
        {
          "output_type": "execute_result",
          "data": {
            "text/html": [
              "<div>\n",
              "<style scoped>\n",
              "    .dataframe tbody tr th:only-of-type {\n",
              "        vertical-align: middle;\n",
              "    }\n",
              "\n",
              "    .dataframe tbody tr th {\n",
              "        vertical-align: top;\n",
              "    }\n",
              "\n",
              "    .dataframe thead th {\n",
              "        text-align: right;\n",
              "    }\n",
              "</style>\n",
              "<table border=\"1\" class=\"dataframe\">\n",
              "  <thead>\n",
              "    <tr style=\"text-align: right;\">\n",
              "      <th></th>\n",
              "      <th>OP_CARRIER_AIRLINE_ID</th>\n",
              "      <th>ORIGIN_AIRPORT_ID</th>\n",
              "      <th>ORIGIN_AIRPORT_SEQ_ID</th>\n",
              "      <th>ORIGIN_CITY_MARKET_ID</th>\n",
              "      <th>DEST_AIRPORT_ID</th>\n",
              "      <th>DEST_AIRPORT_SEQ_ID</th>\n",
              "      <th>DEST_CITY_MARKET_ID</th>\n",
              "      <th>DEP_DELAY_NEW</th>\n",
              "    </tr>\n",
              "  </thead>\n",
              "  <tbody>\n",
              "    <tr>\n",
              "      <th>0</th>\n",
              "      <td>19393</td>\n",
              "      <td>10821</td>\n",
              "      <td>1082103</td>\n",
              "      <td>30852</td>\n",
              "      <td>14122</td>\n",
              "      <td>1412202</td>\n",
              "      <td>30198</td>\n",
              "      <td>0.0</td>\n",
              "    </tr>\n",
              "    <tr>\n",
              "      <th>1</th>\n",
              "      <td>19393</td>\n",
              "      <td>10821</td>\n",
              "      <td>1082103</td>\n",
              "      <td>30852</td>\n",
              "      <td>14122</td>\n",
              "      <td>1412202</td>\n",
              "      <td>30198</td>\n",
              "      <td>1.0</td>\n",
              "    </tr>\n",
              "    <tr>\n",
              "      <th>2</th>\n",
              "      <td>19393</td>\n",
              "      <td>10821</td>\n",
              "      <td>1082103</td>\n",
              "      <td>30852</td>\n",
              "      <td>14122</td>\n",
              "      <td>1412202</td>\n",
              "      <td>30198</td>\n",
              "      <td>11.0</td>\n",
              "    </tr>\n",
              "    <tr>\n",
              "      <th>3</th>\n",
              "      <td>19393</td>\n",
              "      <td>10821</td>\n",
              "      <td>1082103</td>\n",
              "      <td>30852</td>\n",
              "      <td>14122</td>\n",
              "      <td>1412202</td>\n",
              "      <td>30198</td>\n",
              "      <td>29.0</td>\n",
              "    </tr>\n",
              "    <tr>\n",
              "      <th>4</th>\n",
              "      <td>19393</td>\n",
              "      <td>10821</td>\n",
              "      <td>1082103</td>\n",
              "      <td>30852</td>\n",
              "      <td>14307</td>\n",
              "      <td>1430702</td>\n",
              "      <td>30721</td>\n",
              "      <td>0.0</td>\n",
              "    </tr>\n",
              "    <tr>\n",
              "      <th>...</th>\n",
              "      <td>...</td>\n",
              "      <td>...</td>\n",
              "      <td>...</td>\n",
              "      <td>...</td>\n",
              "      <td>...</td>\n",
              "      <td>...</td>\n",
              "      <td>...</td>\n",
              "      <td>...</td>\n",
              "    </tr>\n",
              "    <tr>\n",
              "      <th>445822</th>\n",
              "      <td>21171</td>\n",
              "      <td>12892</td>\n",
              "      <td>1289203</td>\n",
              "      <td>32575</td>\n",
              "      <td>11259</td>\n",
              "      <td>1125903</td>\n",
              "      <td>30194</td>\n",
              "      <td>0.0</td>\n",
              "    </tr>\n",
              "    <tr>\n",
              "      <th>445823</th>\n",
              "      <td>21171</td>\n",
              "      <td>11259</td>\n",
              "      <td>1125903</td>\n",
              "      <td>30194</td>\n",
              "      <td>12892</td>\n",
              "      <td>1289203</td>\n",
              "      <td>32575</td>\n",
              "      <td>8.0</td>\n",
              "    </tr>\n",
              "    <tr>\n",
              "      <th>445824</th>\n",
              "      <td>21171</td>\n",
              "      <td>12892</td>\n",
              "      <td>1289203</td>\n",
              "      <td>32575</td>\n",
              "      <td>11259</td>\n",
              "      <td>1125903</td>\n",
              "      <td>30194</td>\n",
              "      <td>0.0</td>\n",
              "    </tr>\n",
              "    <tr>\n",
              "      <th>445825</th>\n",
              "      <td>21171</td>\n",
              "      <td>11259</td>\n",
              "      <td>1125903</td>\n",
              "      <td>30194</td>\n",
              "      <td>12892</td>\n",
              "      <td>1289203</td>\n",
              "      <td>32575</td>\n",
              "      <td>0.0</td>\n",
              "    </tr>\n",
              "    <tr>\n",
              "      <th>445826</th>\n",
              "      <td>21171</td>\n",
              "      <td>11259</td>\n",
              "      <td>1125903</td>\n",
              "      <td>30194</td>\n",
              "      <td>12892</td>\n",
              "      <td>1289203</td>\n",
              "      <td>32575</td>\n",
              "      <td>0.0</td>\n",
              "    </tr>\n",
              "  </tbody>\n",
              "</table>\n",
              "<p>434347 rows × 8 columns</p>\n",
              "</div>"
            ],
            "text/plain": [
              "        OP_CARRIER_AIRLINE_ID  ...  DEP_DELAY_NEW\n",
              "0                       19393  ...            0.0\n",
              "1                       19393  ...            1.0\n",
              "2                       19393  ...           11.0\n",
              "3                       19393  ...           29.0\n",
              "4                       19393  ...            0.0\n",
              "...                       ...  ...            ...\n",
              "445822                  21171  ...            0.0\n",
              "445823                  21171  ...            8.0\n",
              "445824                  21171  ...            0.0\n",
              "445825                  21171  ...            0.0\n",
              "445826                  21171  ...            0.0\n",
              "\n",
              "[434347 rows x 8 columns]"
            ]
          },
          "metadata": {
            "tags": []
          },
          "execution_count": 86
        }
      ]
    },
    {
      "cell_type": "code",
      "metadata": {
        "id": "iwdYam6uqx8o"
      },
      "source": [
        "# 434354 - 7 rows as above = 434347 "
      ],
      "execution_count": null,
      "outputs": []
    },
    {
      "cell_type": "markdown",
      "metadata": {
        "id": "Xr6qrZAkrKnp"
      },
      "source": [
        "***TO LIST the code of the airlines most at fault in the origin airports that exceed the 90th percentile of\r\n",
        "overall delays in 2016 for the month of January***"
      ]
    },
    {
      "cell_type": "code",
      "metadata": {
        "id": "ahARWQnm2wte"
      },
      "source": [
        "# 90th PERCENTILE - IF VALUE n IS AT THE 90TH PERCENTILE, THEN n IS GREATER THAN k% OF THE VALUES USED IN THE SET"
      ],
      "execution_count": null,
      "outputs": []
    },
    {
      "cell_type": "code",
      "metadata": {
        "colab": {
          "base_uri": "https://localhost:8080/"
        },
        "id": "I9hFnXSnrNXL",
        "outputId": "dd188265-ae6f-4334-e166-5b2a111a17af"
      },
      "source": [
        "df_2.quantile(.9)"
      ],
      "execution_count": 92,
      "outputs": [
        {
          "output_type": "execute_result",
          "data": {
            "text/plain": [
              "OP_CARRIER_AIRLINE_ID      20409.0\n",
              "ORIGIN_AIRPORT_ID          14771.0\n",
              "ORIGIN_AIRPORT_SEQ_ID    1477102.0\n",
              "ORIGIN_CITY_MARKET_ID      33570.0\n",
              "DEST_AIRPORT_ID            14771.0\n",
              "DEST_AIRPORT_SEQ_ID      1477102.0\n",
              "DEST_CITY_MARKET_ID        33570.0\n",
              "DEP_DELAY_NEW                 29.0\n",
              "Name: 0.9, dtype: float64"
            ]
          },
          "metadata": {
            "tags": []
          },
          "execution_count": 92
        }
      ]
    },
    {
      "cell_type": "code",
      "metadata": {
        "colab": {
          "base_uri": "https://localhost:8080/"
        },
        "id": "NhFIo4VfyRDb",
        "outputId": "a01c82a9-6a93-484b-ebab-fe4f87be9def"
      },
      "source": [
        "k = df_2[(df_2.DEP_DELAY_NEW > 29)].index\r\n",
        "k"
      ],
      "execution_count": 125,
      "outputs": [
        {
          "output_type": "execute_result",
          "data": {
            "text/plain": [
              "Int64Index([    13,     16,     19,     28,     29,     32,     35,     38,\n",
              "                41,     42,\n",
              "            ...\n",
              "            445667, 445687, 445749, 445755, 445760, 445763, 445765, 445776,\n",
              "            445806, 445808],\n",
              "           dtype='int64', length=43121)"
            ]
          },
          "metadata": {
            "tags": []
          },
          "execution_count": 125
        }
      ]
    },
    {
      "cell_type": "code",
      "metadata": {
        "colab": {
          "base_uri": "https://localhost:8080/",
          "height": 439
        },
        "id": "xeOoRH9FCGH0",
        "outputId": "7dca20fa-dafb-4224-cc3a-701d564bb474"
      },
      "source": [
        "data = df_2.loc[df_2['DEP_DELAY_NEW'] > 29]\r\n",
        "data"
      ],
      "execution_count": 143,
      "outputs": [
        {
          "output_type": "execute_result",
          "data": {
            "text/html": [
              "<div>\n",
              "<style scoped>\n",
              "    .dataframe tbody tr th:only-of-type {\n",
              "        vertical-align: middle;\n",
              "    }\n",
              "\n",
              "    .dataframe tbody tr th {\n",
              "        vertical-align: top;\n",
              "    }\n",
              "\n",
              "    .dataframe thead th {\n",
              "        text-align: right;\n",
              "    }\n",
              "</style>\n",
              "<table border=\"1\" class=\"dataframe\">\n",
              "  <thead>\n",
              "    <tr style=\"text-align: right;\">\n",
              "      <th></th>\n",
              "      <th>OP_CARRIER_AIRLINE_ID</th>\n",
              "      <th>ORIGIN_AIRPORT_ID</th>\n",
              "      <th>ORIGIN_AIRPORT_SEQ_ID</th>\n",
              "      <th>ORIGIN_CITY_MARKET_ID</th>\n",
              "      <th>DEST_AIRPORT_ID</th>\n",
              "      <th>DEST_AIRPORT_SEQ_ID</th>\n",
              "      <th>DEST_CITY_MARKET_ID</th>\n",
              "      <th>DEP_DELAY_NEW</th>\n",
              "    </tr>\n",
              "  </thead>\n",
              "  <tbody>\n",
              "    <tr>\n",
              "      <th>13</th>\n",
              "      <td>19393</td>\n",
              "      <td>10821</td>\n",
              "      <td>1082103</td>\n",
              "      <td>30852</td>\n",
              "      <td>14321</td>\n",
              "      <td>1432103</td>\n",
              "      <td>34321</td>\n",
              "      <td>79.0</td>\n",
              "    </tr>\n",
              "    <tr>\n",
              "      <th>16</th>\n",
              "      <td>19393</td>\n",
              "      <td>10821</td>\n",
              "      <td>1082103</td>\n",
              "      <td>30852</td>\n",
              "      <td>14492</td>\n",
              "      <td>1449202</td>\n",
              "      <td>34492</td>\n",
              "      <td>30.0</td>\n",
              "    </tr>\n",
              "    <tr>\n",
              "      <th>19</th>\n",
              "      <td>19393</td>\n",
              "      <td>10821</td>\n",
              "      <td>1082103</td>\n",
              "      <td>30852</td>\n",
              "      <td>14492</td>\n",
              "      <td>1449202</td>\n",
              "      <td>34492</td>\n",
              "      <td>35.0</td>\n",
              "    </tr>\n",
              "    <tr>\n",
              "      <th>28</th>\n",
              "      <td>19393</td>\n",
              "      <td>10821</td>\n",
              "      <td>1082103</td>\n",
              "      <td>30852</td>\n",
              "      <td>14635</td>\n",
              "      <td>1463502</td>\n",
              "      <td>31714</td>\n",
              "      <td>64.0</td>\n",
              "    </tr>\n",
              "    <tr>\n",
              "      <th>29</th>\n",
              "      <td>19393</td>\n",
              "      <td>10821</td>\n",
              "      <td>1082103</td>\n",
              "      <td>30852</td>\n",
              "      <td>14679</td>\n",
              "      <td>1467903</td>\n",
              "      <td>33570</td>\n",
              "      <td>101.0</td>\n",
              "    </tr>\n",
              "    <tr>\n",
              "      <th>...</th>\n",
              "      <td>...</td>\n",
              "      <td>...</td>\n",
              "      <td>...</td>\n",
              "      <td>...</td>\n",
              "      <td>...</td>\n",
              "      <td>...</td>\n",
              "      <td>...</td>\n",
              "      <td>...</td>\n",
              "    </tr>\n",
              "    <tr>\n",
              "      <th>445763</th>\n",
              "      <td>21171</td>\n",
              "      <td>13830</td>\n",
              "      <td>1383002</td>\n",
              "      <td>33830</td>\n",
              "      <td>14771</td>\n",
              "      <td>1477102</td>\n",
              "      <td>32457</td>\n",
              "      <td>79.0</td>\n",
              "    </tr>\n",
              "    <tr>\n",
              "      <th>445765</th>\n",
              "      <td>21171</td>\n",
              "      <td>12889</td>\n",
              "      <td>1288903</td>\n",
              "      <td>32211</td>\n",
              "      <td>12892</td>\n",
              "      <td>1289203</td>\n",
              "      <td>32575</td>\n",
              "      <td>80.0</td>\n",
              "    </tr>\n",
              "    <tr>\n",
              "      <th>445776</th>\n",
              "      <td>21171</td>\n",
              "      <td>12264</td>\n",
              "      <td>1226402</td>\n",
              "      <td>30852</td>\n",
              "      <td>14771</td>\n",
              "      <td>1477102</td>\n",
              "      <td>32457</td>\n",
              "      <td>41.0</td>\n",
              "    </tr>\n",
              "    <tr>\n",
              "      <th>445806</th>\n",
              "      <td>21171</td>\n",
              "      <td>12889</td>\n",
              "      <td>1288903</td>\n",
              "      <td>32211</td>\n",
              "      <td>11259</td>\n",
              "      <td>1125903</td>\n",
              "      <td>30194</td>\n",
              "      <td>31.0</td>\n",
              "    </tr>\n",
              "    <tr>\n",
              "      <th>445808</th>\n",
              "      <td>21171</td>\n",
              "      <td>12264</td>\n",
              "      <td>1226402</td>\n",
              "      <td>30852</td>\n",
              "      <td>14771</td>\n",
              "      <td>1477102</td>\n",
              "      <td>32457</td>\n",
              "      <td>43.0</td>\n",
              "    </tr>\n",
              "  </tbody>\n",
              "</table>\n",
              "<p>43121 rows × 8 columns</p>\n",
              "</div>"
            ],
            "text/plain": [
              "        OP_CARRIER_AIRLINE_ID  ...  DEP_DELAY_NEW\n",
              "13                      19393  ...           79.0\n",
              "16                      19393  ...           30.0\n",
              "19                      19393  ...           35.0\n",
              "28                      19393  ...           64.0\n",
              "29                      19393  ...          101.0\n",
              "...                       ...  ...            ...\n",
              "445763                  21171  ...           79.0\n",
              "445765                  21171  ...           80.0\n",
              "445776                  21171  ...           41.0\n",
              "445806                  21171  ...           31.0\n",
              "445808                  21171  ...           43.0\n",
              "\n",
              "[43121 rows x 8 columns]"
            ]
          },
          "metadata": {
            "tags": []
          },
          "execution_count": 143
        }
      ]
    },
    {
      "cell_type": "code",
      "metadata": {
        "colab": {
          "base_uri": "https://localhost:8080/",
          "height": 419
        },
        "id": "z6LB99G3C-_u",
        "outputId": "0018319d-b657-4db6-ce74-9020c1679f2c"
      },
      "source": [
        "df_3 = df_2[df_2['DEP_DELAY_NEW'] > 29][['OP_CARRIER_AIRLINE_ID','ORIGIN_AIRPORT_ID','DEST_AIRPORT_ID', 'DEP_DELAY_NEW']]\r\n",
        "df_3"
      ],
      "execution_count": 150,
      "outputs": [
        {
          "output_type": "execute_result",
          "data": {
            "text/html": [
              "<div>\n",
              "<style scoped>\n",
              "    .dataframe tbody tr th:only-of-type {\n",
              "        vertical-align: middle;\n",
              "    }\n",
              "\n",
              "    .dataframe tbody tr th {\n",
              "        vertical-align: top;\n",
              "    }\n",
              "\n",
              "    .dataframe thead th {\n",
              "        text-align: right;\n",
              "    }\n",
              "</style>\n",
              "<table border=\"1\" class=\"dataframe\">\n",
              "  <thead>\n",
              "    <tr style=\"text-align: right;\">\n",
              "      <th></th>\n",
              "      <th>OP_CARRIER_AIRLINE_ID</th>\n",
              "      <th>ORIGIN_AIRPORT_ID</th>\n",
              "      <th>DEST_AIRPORT_ID</th>\n",
              "      <th>DEP_DELAY_NEW</th>\n",
              "    </tr>\n",
              "  </thead>\n",
              "  <tbody>\n",
              "    <tr>\n",
              "      <th>13</th>\n",
              "      <td>19393</td>\n",
              "      <td>10821</td>\n",
              "      <td>14321</td>\n",
              "      <td>79.0</td>\n",
              "    </tr>\n",
              "    <tr>\n",
              "      <th>16</th>\n",
              "      <td>19393</td>\n",
              "      <td>10821</td>\n",
              "      <td>14492</td>\n",
              "      <td>30.0</td>\n",
              "    </tr>\n",
              "    <tr>\n",
              "      <th>19</th>\n",
              "      <td>19393</td>\n",
              "      <td>10821</td>\n",
              "      <td>14492</td>\n",
              "      <td>35.0</td>\n",
              "    </tr>\n",
              "    <tr>\n",
              "      <th>28</th>\n",
              "      <td>19393</td>\n",
              "      <td>10821</td>\n",
              "      <td>14635</td>\n",
              "      <td>64.0</td>\n",
              "    </tr>\n",
              "    <tr>\n",
              "      <th>29</th>\n",
              "      <td>19393</td>\n",
              "      <td>10821</td>\n",
              "      <td>14679</td>\n",
              "      <td>101.0</td>\n",
              "    </tr>\n",
              "    <tr>\n",
              "      <th>...</th>\n",
              "      <td>...</td>\n",
              "      <td>...</td>\n",
              "      <td>...</td>\n",
              "      <td>...</td>\n",
              "    </tr>\n",
              "    <tr>\n",
              "      <th>445763</th>\n",
              "      <td>21171</td>\n",
              "      <td>13830</td>\n",
              "      <td>14771</td>\n",
              "      <td>79.0</td>\n",
              "    </tr>\n",
              "    <tr>\n",
              "      <th>445765</th>\n",
              "      <td>21171</td>\n",
              "      <td>12889</td>\n",
              "      <td>12892</td>\n",
              "      <td>80.0</td>\n",
              "    </tr>\n",
              "    <tr>\n",
              "      <th>445776</th>\n",
              "      <td>21171</td>\n",
              "      <td>12264</td>\n",
              "      <td>14771</td>\n",
              "      <td>41.0</td>\n",
              "    </tr>\n",
              "    <tr>\n",
              "      <th>445806</th>\n",
              "      <td>21171</td>\n",
              "      <td>12889</td>\n",
              "      <td>11259</td>\n",
              "      <td>31.0</td>\n",
              "    </tr>\n",
              "    <tr>\n",
              "      <th>445808</th>\n",
              "      <td>21171</td>\n",
              "      <td>12264</td>\n",
              "      <td>14771</td>\n",
              "      <td>43.0</td>\n",
              "    </tr>\n",
              "  </tbody>\n",
              "</table>\n",
              "<p>43121 rows × 4 columns</p>\n",
              "</div>"
            ],
            "text/plain": [
              "        OP_CARRIER_AIRLINE_ID  ...  DEP_DELAY_NEW\n",
              "13                      19393  ...           79.0\n",
              "16                      19393  ...           30.0\n",
              "19                      19393  ...           35.0\n",
              "28                      19393  ...           64.0\n",
              "29                      19393  ...          101.0\n",
              "...                       ...  ...            ...\n",
              "445763                  21171  ...           79.0\n",
              "445765                  21171  ...           80.0\n",
              "445776                  21171  ...           41.0\n",
              "445806                  21171  ...           31.0\n",
              "445808                  21171  ...           43.0\n",
              "\n",
              "[43121 rows x 4 columns]"
            ]
          },
          "metadata": {
            "tags": []
          },
          "execution_count": 150
        }
      ]
    },
    {
      "cell_type": "code",
      "metadata": {
        "colab": {
          "base_uri": "https://localhost:8080/"
        },
        "id": "_86IzIxFIylr",
        "outputId": "f38e8401-98be-4c1b-8df6-525079479eb2"
      },
      "source": [
        "delay_total = df_2['DEP_DELAY_NEW'].sum()\r\n",
        "delay_total"
      ],
      "execution_count": 163,
      "outputs": [
        {
          "output_type": "execute_result",
          "data": {
            "text/plain": [
              "4679963.0"
            ]
          },
          "metadata": {
            "tags": []
          },
          "execution_count": 163
        }
      ]
    },
    {
      "cell_type": "code",
      "metadata": {
        "colab": {
          "base_uri": "https://localhost:8080/"
        },
        "id": "1ywm1gmiJSJs",
        "outputId": "0e1f57fc-23cb-4201-e04d-562b4ffccf82"
      },
      "source": [
        "delay_ninety = df_3['DEP_DELAY_NEW'].sum()\r\n",
        "delay_ninety"
      ],
      "execution_count": 164,
      "outputs": [
        {
          "output_type": "execute_result",
          "data": {
            "text/plain": [
              "3638619.0"
            ]
          },
          "metadata": {
            "tags": []
          },
          "execution_count": 164
        }
      ]
    },
    {
      "cell_type": "code",
      "metadata": {
        "colab": {
          "base_uri": "https://localhost:8080/"
        },
        "id": "RZOJ-sjvJkRg",
        "outputId": "04fa9713-9d62-4c48-dc93-27aa2d8da332"
      },
      "source": [
        "percentage = delay_ninety/delay_total\r\n",
        "percentage"
      ],
      "execution_count": 165,
      "outputs": [
        {
          "output_type": "execute_result",
          "data": {
            "text/plain": [
              "0.777488839121164"
            ]
          },
          "metadata": {
            "tags": []
          },
          "execution_count": 165
        }
      ]
    },
    {
      "cell_type": "code",
      "metadata": {
        "id": "HaNSPcZzMpnz"
      },
      "source": [
        "df_4 = df_3.head(100)"
      ],
      "execution_count": 167,
      "outputs": []
    },
    {
      "cell_type": "markdown",
      "metadata": {
        "id": "0vSX4-hYKBgq"
      },
      "source": [
        "***VISUALISATIONS***"
      ]
    },
    {
      "cell_type": "code",
      "metadata": {
        "id": "doLwkX0BLbO8",
        "outputId": "edb19689-684f-49ee-9761-09d32ca682e9",
        "colab": {
          "base_uri": "https://localhost:8080/",
          "height": 280
        }
      },
      "source": [
        "#Season with most number of matches(VISUALIZATION)\r\n",
        "sns.countplot(x='DEP_DELAY_NEW', data=df_4)\r\n",
        "plt.show()"
      ],
      "execution_count": 168,
      "outputs": [
        {
          "output_type": "display_data",
          "data": {
            "image/png": "[encoded data removed]",
            "text/plain": [
              "<Figure size 432x288 with 1 Axes>"
            ]
          },
          "metadata": {
            "tags": [],
            "needs_background": "light"
          }
        }
      ]
    }
  ]
}