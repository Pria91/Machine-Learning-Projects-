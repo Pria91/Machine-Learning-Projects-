{
  "nbformat": 4,
  "nbformat_minor": 0,
  "metadata": {
    "kernelspec": {
      "display_name": "Python 3",
      "language": "python",
      "name": "python3"
    },
    "language_info": {
      "codemirror_mode": {
        "name": "ipython",
        "version": 3
      },
      "file_extension": ".py",
      "mimetype": "text/x-python",
      "name": "python",
      "nbconvert_exporter": "python",
      "pygments_lexer": "ipython3",
      "version": "3.6.3"
    },
    "colab": {
      "name": "ab-tests-with-python.ipynb",
      "provenance": [],
      "collapsed_sections": [],
      "toc_visible": true,
      "include_colab_link": true
    }
  },
  "cells": [
    {
      "cell_type": "markdown",
      "metadata": {
        "id": "view-in-github",
        "colab_type": "text"
      },
      "source": [
        "<a href=\"https://colab.research.google.com/github/Pria91/Machine-Learning-Projects-/blob/main/ab_tests_with_python.ipynb\" target=\"_parent\"><img src=\"https://colab.research.google.com/assets/colab-badge.svg\" alt=\"Open In Colab\"/></a>"
      ]
    },
    {
      "cell_type": "markdown",
      "metadata": {
        "id": "YdIp0bO0p-Jp"
      },
      "source": [
        "***OBJECTIVE - FOR A WEBSITE, DETERMINE IF THE NUMBER OF VISITORS CONVERT INTO NUMBER OF SUBSCRIBERS***"
      ]
    },
    {
      "cell_type": "code",
      "metadata": {
        "_cell_guid": "9a04b6ea-111a-4627-849f-53adf7efd40b",
        "_uuid": "f4949401e2dab760c957525f17e90addf45fc9e8",
        "collapsed": true,
        "id": "vaOMfLG3SzUL"
      },
      "source": [
        "import math as mt\n",
        "import numpy as np\n",
        "import pandas as pd\n",
        "from scipy.stats import norm"
      ],
      "execution_count": 3,
      "outputs": []
    },
    {
      "cell_type": "markdown",
      "metadata": {
        "id": "NnQlEDnyU_nT"
      },
      "source": [
        "***EStimates of the metrics as given in the Project Instrcuctions***"
      ]
    },
    {
      "cell_type": "code",
      "metadata": {
        "_cell_guid": "fc93fbb9-b9f0-4b51-8dad-c4a8ee7b4320",
        "_uuid": "a3b1eab0da4bf7262ff7d98a41bed840d835762a",
        "collapsed": true,
        "id": "OJ8Pmps9SzUO"
      },
      "source": [
        "#Let's place this estimators into a dictionary for ease of use later\n",
        "baseline = {\"Cookies\":40000,\"Clicks\":3200,\"Enrollments\":660,\"CTP\":0.08,\"GConversion\":0.20625,\n",
        "           \"Retention\":0.53,\"NConversion\":0.109313}"
      ],
      "execution_count": 4,
      "outputs": []
    },
    {
      "cell_type": "markdown",
      "metadata": {
        "id": "VFrd8g7IUzGI"
      },
      "source": [
        "***Lets scale our metrics with the sample size***"
      ]
    },
    {
      "cell_type": "code",
      "metadata": {
        "id": "G9ea9aP1VVi9"
      },
      "source": [
        "# Assuming a sample size of 5000 cookies\r\n",
        "# We want to estimate standard deviation, for evaluation metrics only ! "
      ],
      "execution_count": null,
      "outputs": []
    },
    {
      "cell_type": "code",
      "metadata": {
        "_cell_guid": "d99f7ee0-4a65-402b-a709-a949cd549bc3",
        "_uuid": "019536837b5aa146997b693563cfb22af1fb85ee",
        "collapsed": true,
        "colab": {
          "base_uri": "https://localhost:8080/"
        },
        "id": "g914UYj0SzUQ",
        "outputId": "e13ba16f-0c62-4073-fa04-0a89a5cbe133"
      },
      "source": [
        "#Scale The counts estimates\n",
        "\n",
        "baseline[\"Cookies\"] = 5000\n",
        "baseline[\"Clicks\"]=baseline[\"Clicks\"]*(5000/40000)\n",
        "baseline[\"Enrollments\"]=baseline[\"Enrollments\"]*(5000/40000)\n",
        "baseline"
      ],
      "execution_count": 6,
      "outputs": [
        {
          "output_type": "execute_result",
          "data": {
            "text/plain": [
              "{'CTP': 0.08,\n",
              " 'Clicks': 400.0,\n",
              " 'Cookies': 5000,\n",
              " 'Enrollments': 82.5,\n",
              " 'GConversion': 0.20625,\n",
              " 'NConversion': 0.109313,\n",
              " 'Retention': 0.53}"
            ]
          },
          "metadata": {
            "tags": []
          },
          "execution_count": 6
        }
      ]
    },
    {
      "cell_type": "code",
      "metadata": {
        "_cell_guid": "4c47c350-99c8-4990-8456-cbbe014a972f",
        "_uuid": "2c6930584c39024455900fce7e0e92e5812814b3",
        "collapsed": true,
        "colab": {
          "base_uri": "https://localhost:8080/"
        },
        "id": "IvG5SBaTSzUR",
        "outputId": "e435263c-79ce-4795-d1e5-f9f663708505"
      },
      "source": [
        "# Let's get the p and n we need for Gross Conversion (GC)\n",
        "# and compute the Stansard Deviation(sd) rounded to 4 decimal digits.\n",
        "GC={}\n",
        "GC[\"d_min\"]=0.01\n",
        "GC[\"p\"]=baseline[\"GConversion\"]\n",
        "#p is given in this case - or we could calculate it from enrollments/clicks\n",
        "GC[\"n\"]=baseline[\"Clicks\"]\n",
        "GC[\"sd\"]=round(mt.sqrt((GC[\"p\"]*(1-GC[\"p\"]))/GC[\"n\"]),4)\n",
        "GC[\"sd\"]"
      ],
      "execution_count": 7,
      "outputs": [
        {
          "output_type": "execute_result",
          "data": {
            "text/plain": [
              "0.0202"
            ]
          },
          "metadata": {
            "tags": []
          },
          "execution_count": 7
        }
      ]
    },
    {
      "cell_type": "code",
      "metadata": {
        "_cell_guid": "654d08d4-6638-4f9f-a327-6f2f5a6a9365",
        "_uuid": "334e65cddd5a800a396fa630b676ca12bec42114",
        "collapsed": true,
        "colab": {
          "base_uri": "https://localhost:8080/"
        },
        "id": "xOKbRZNzSzUS",
        "outputId": "4fa521e3-b913-4751-e52e-0ae5cb7c3647"
      },
      "source": [
        "# Let's get the p and n we need for Retention(R)\n",
        "# and compute the Stansard Deviation(sd) rounded to 4 decimal digits.\n",
        "R={}\n",
        "R[\"d_min\"]=0.01\n",
        "R[\"p\"]=baseline[\"Retention\"]\n",
        "R[\"n\"]=baseline[\"Enrollments\"]\n",
        "R[\"sd\"]=round(mt.sqrt((R[\"p\"]*(1-R[\"p\"]))/R[\"n\"]),4)\n",
        "R[\"sd\"]"
      ],
      "execution_count": 8,
      "outputs": [
        {
          "output_type": "execute_result",
          "data": {
            "text/plain": [
              "0.0549"
            ]
          },
          "metadata": {
            "tags": []
          },
          "execution_count": 8
        }
      ]
    },
    {
      "cell_type": "code",
      "metadata": {
        "_cell_guid": "162f3d90-467a-41e6-9489-f1ea01f08afa",
        "_uuid": "be4b9c808cf098efde59ea1d17e1a35799873e5f",
        "colab": {
          "base_uri": "https://localhost:8080/"
        },
        "id": "fOoCGqT7SzUS",
        "outputId": "b29b0d3b-6408-4509-86ad-f27a98117a77"
      },
      "source": [
        "# Let's get the p and n we need for Net Conversion (NC)\n",
        "# and compute the Standard Deviation (sd) rounded to 4 decimal digits.\n",
        "NC={}\n",
        "NC[\"d_min\"]=0.0075\n",
        "NC[\"p\"]=baseline[\"NConversion\"]\n",
        "NC[\"n\"]=baseline[\"Clicks\"]\n",
        "NC[\"sd\"]=round(mt.sqrt((NC[\"p\"]*(1-NC[\"p\"]))/NC[\"n\"]),4)\n",
        "NC[\"sd\"]"
      ],
      "execution_count": 12,
      "outputs": [
        {
          "output_type": "execute_result",
          "data": {
            "text/plain": [
              "0.0156"
            ]
          },
          "metadata": {
            "tags": []
          },
          "execution_count": 12
        }
      ]
    },
    {
      "cell_type": "markdown",
      "metadata": {
        "id": "WrLCyXE2kw-Z"
      },
      "source": [
        "***Get z-score critical value and Standard deviations***"
      ]
    },
    {
      "cell_type": "code",
      "metadata": {
        "_cell_guid": "1cedf3ae-f318-4036-b966-a299350fb048",
        "_uuid": "8956f99d8ea1b9bb6d8b294a6e333c86a51d88d7",
        "collapsed": true,
        "id": "bTy0gMoPSzUT"
      },
      "source": [
        "def get_sds(p,d):\n",
        "    sd1=mt.sqrt(2*p*(1-p))\n",
        "    sd2=mt.sqrt(p*(1-p)+(p+d)*(1-(p+d)))\n",
        "    x=[sd1,sd2]\n",
        "    return x"
      ],
      "execution_count": 9,
      "outputs": []
    },
    {
      "cell_type": "code",
      "metadata": {
        "_cell_guid": "230d398f-5692-4f04-a8a9-316c9c661801",
        "_uuid": "c1c7a715d55432c5d19fef049094527cf1f72343",
        "collapsed": true,
        "id": "3-OInwsdSzUT"
      },
      "source": [
        "#Inputs: required alpha value (alpha should already fit the required test)\n",
        "#Returns: z-score for given alpha\n",
        "def get_z_score(alpha):\n",
        "    return norm.ppf(alpha)\n",
        "\n",
        "# Inputs p-baseline conversion rate which is our estimated p and d-minimum detectable change\n",
        "# Returns\n",
        "def get_sds(p,d):\n",
        "    sd1=mt.sqrt(2*p*(1-p))\n",
        "    sd2=mt.sqrt(p*(1-p)+(p+d)*(1-(p+d)))\n",
        "    sds=[sd1,sd2]\n",
        "    return sds\n",
        "\n",
        "# Inputs:sd1-sd for the baseline,sd2-sd for the expected change,alpha,beta,d-d_min,p-baseline estimate p\n",
        "# Returns: the minimum sample size required per group according to metric denominator\n",
        "def get_sampSize(sds,alpha,beta,d):\n",
        "    n=pow((get_z_score(1-alpha/2)*sds[0]+get_z_score(1-beta)*sds[1]),2)/pow(d,2)\n",
        "    return n"
      ],
      "execution_count": 10,
      "outputs": []
    },
    {
      "cell_type": "code",
      "metadata": {
        "_cell_guid": "e9b0d74a-35ba-461e-9b04-7527cc0147f9",
        "_uuid": "f44e06b60b027dd83ec3734c52ed1347d2a80c0c",
        "collapsed": true,
        "id": "lMBvIfgeSzUU"
      },
      "source": [
        "GC[\"d\"]=0.01\n",
        "R[\"d\"]=0.01\n",
        "NC[\"d\"]=0.0075"
      ],
      "execution_count": 13,
      "outputs": []
    },
    {
      "cell_type": "markdown",
      "metadata": {
        "_cell_guid": "eb361734-4ab5-4ba6-800c-0271152b61fd",
        "_uuid": "54336bb19b3564f95a4698903806d4e7edaeb8c4",
        "id": "-XhjBqzvSzUU"
      },
      "source": [
        "Now, for the calculations\n",
        "* **Gross Conversion**\n"
      ]
    },
    {
      "cell_type": "code",
      "metadata": {
        "_cell_guid": "28cf1802-c0ce-4189-b438-86504e53a721",
        "_uuid": "b443cb437954e04ef889ef4b365d8875da2833d1",
        "collapsed": true,
        "colab": {
          "base_uri": "https://localhost:8080/"
        },
        "id": "Ngo09HNaSzUU",
        "outputId": "dfc8da41-a9f7-44a1-9298-e9a8fd6e9dc1"
      },
      "source": [
        "# Let's get an integer value for simplicity\n",
        "GC[\"SampSize\"]=round(get_sampSize(get_sds(GC[\"p\"],GC[\"d\"]),0.05,0.2,GC[\"d\"]))\n",
        "GC[\"SampSize\"]"
      ],
      "execution_count": 14,
      "outputs": [
        {
          "output_type": "execute_result",
          "data": {
            "text/plain": [
              "25835"
            ]
          },
          "metadata": {
            "tags": []
          },
          "execution_count": 14
        }
      ]
    },
    {
      "cell_type": "code",
      "metadata": {
        "_cell_guid": "ba7702c9-b092-404b-a212-8713a517d9bc",
        "_uuid": "530c3e906980568677ce0a7fc5c92f5f9a26302b",
        "collapsed": true,
        "colab": {
          "base_uri": "https://localhost:8080/"
        },
        "id": "qJaLKWW0SzUV",
        "outputId": "12d66a47-90db-4f02-a697-fa0cc3707185"
      },
      "source": [
        "GC[\"SampSize\"]=round(GC[\"SampSize\"]/0.08*2)\n",
        "GC[\"SampSize\"]"
      ],
      "execution_count": 15,
      "outputs": [
        {
          "output_type": "execute_result",
          "data": {
            "text/plain": [
              "645875"
            ]
          },
          "metadata": {
            "tags": []
          },
          "execution_count": 15
        }
      ]
    },
    {
      "cell_type": "markdown",
      "metadata": {
        "_cell_guid": "8a145fe1-7493-4eef-9b3e-99138068d2ae",
        "_uuid": "7e0c0bfc939849712c49611f9392abe154e04179",
        "collapsed": true,
        "id": "gq-0v7CGSzUV"
      },
      "source": [
        "* Retention"
      ]
    },
    {
      "cell_type": "code",
      "metadata": {
        "_cell_guid": "c2c65956-f449-4d28-94b5-c5300aeadb4b",
        "_uuid": "1aa61cc37f8839a44f0773623d41c3684be1a9c7",
        "collapsed": true,
        "colab": {
          "base_uri": "https://localhost:8080/"
        },
        "id": "czkRy-9gSzUV",
        "outputId": "1345204c-2aad-44bc-a3fd-f09049f6fb56"
      },
      "source": [
        "# Getting a nice integer value\n",
        "R[\"SampSize\"]=round(get_sampSize(get_sds(R[\"p\"],R[\"d\"]),0.05,0.2,R[\"d\"]))\n",
        "R[\"SampSize\"]"
      ],
      "execution_count": 16,
      "outputs": [
        {
          "output_type": "execute_result",
          "data": {
            "text/plain": [
              "39087"
            ]
          },
          "metadata": {
            "tags": []
          },
          "execution_count": 16
        }
      ]
    },
    {
      "cell_type": "code",
      "metadata": {
        "_cell_guid": "0281b321-7506-49ba-a33e-29eed30eefbe",
        "_uuid": "16bf69e2a0f6214b91485b736676a1fe7aadfdca",
        "collapsed": true,
        "colab": {
          "base_uri": "https://localhost:8080/"
        },
        "id": "NF0B98ZhSzUW",
        "outputId": "1cfe93f9-0db6-4e78-9933-4eed9437a2e9"
      },
      "source": [
        "R[\"SampSize\"]=R[\"SampSize\"]/0.08/0.20625*2\n",
        "R[\"SampSize\"]"
      ],
      "execution_count": 17,
      "outputs": [
        {
          "output_type": "execute_result",
          "data": {
            "text/plain": [
              "4737818.181818182"
            ]
          },
          "metadata": {
            "tags": []
          },
          "execution_count": 17
        }
      ]
    },
    {
      "cell_type": "code",
      "metadata": {
        "_cell_guid": "56be284a-1c49-4c65-91d2-e007ae5b327d",
        "_uuid": "42607629817a83c2be769165cff7a30d74067320",
        "collapsed": true,
        "colab": {
          "base_uri": "https://localhost:8080/"
        },
        "id": "xaQJYGerSzUW",
        "outputId": "950ab669-a3ce-4f4d-94a4-a4589696f575"
      },
      "source": [
        "# Getting a nice integer value\n",
        "NC[\"SampSize\"]=round(get_sampSize(get_sds(NC[\"p\"],NC[\"d\"]),0.05,0.2,NC[\"d\"]))\n",
        "NC[\"SampSize\"]"
      ],
      "execution_count": 18,
      "outputs": [
        {
          "output_type": "execute_result",
          "data": {
            "text/plain": [
              "27413"
            ]
          },
          "metadata": {
            "tags": []
          },
          "execution_count": 18
        }
      ]
    },
    {
      "cell_type": "markdown",
      "metadata": {
        "_cell_guid": "9ad6d399-8b5f-41d6-be72-ce428e13340d",
        "_uuid": "1ffe24cdbd36a2327cf73dd307fb0900a0f3364c",
        "id": "5Z4djzbOSzUX"
      },
      "source": [
        "So, needing 27,413 cookies who click per group takes us all the way up to:"
      ]
    },
    {
      "cell_type": "code",
      "metadata": {
        "_cell_guid": "e4202dd9-7cb6-455c-9630-dd9277f84da6",
        "_uuid": "38b580f63f9e25fa7e19958d7b12a14d6e2b8838",
        "collapsed": true,
        "colab": {
          "base_uri": "https://localhost:8080/"
        },
        "id": "htcDYyg3SzUX",
        "outputId": "420dffaf-bc3b-40fd-90fa-2ec1d39822f8"
      },
      "source": [
        "NC[\"SampSize\"]=NC[\"SampSize\"]/0.08*2\n",
        "NC[\"SampSize\"]"
      ],
      "execution_count": 19,
      "outputs": [
        {
          "output_type": "execute_result",
          "data": {
            "text/plain": [
              "685325.0"
            ]
          },
          "metadata": {
            "tags": []
          },
          "execution_count": 19
        }
      ]
    },
    {
      "cell_type": "markdown",
      "metadata": {
        "id": "x_BiG8JQldNT"
      },
      "source": [
        "***Analyzing Collected Data***"
      ]
    },
    {
      "cell_type": "code",
      "metadata": {
        "_cell_guid": "58b7a728-3b45-4867-969b-48959085498c",
        "_uuid": "4c29c3bce964e643ef30633cab8b95f268f76abc",
        "collapsed": true,
        "colab": {
          "base_uri": "https://localhost:8080/",
          "height": 204
        },
        "id": "ExCOZIUgSzUX",
        "outputId": "d479808f-cc48-4041-82f7-2e5113c8ff44"
      },
      "source": [
        "# we use pandas to load datasets\n",
        "control=pd.read_csv(\"/content/control_data.csv\")\n",
        "experiment=pd.read_csv(\"/content/experiment_data.csv\")\n",
        "control.head()"
      ],
      "execution_count": 21,
      "outputs": [
        {
          "output_type": "execute_result",
          "data": {
            "text/html": [
              "<div>\n",
              "<style scoped>\n",
              "    .dataframe tbody tr th:only-of-type {\n",
              "        vertical-align: middle;\n",
              "    }\n",
              "\n",
              "    .dataframe tbody tr th {\n",
              "        vertical-align: top;\n",
              "    }\n",
              "\n",
              "    .dataframe thead th {\n",
              "        text-align: right;\n",
              "    }\n",
              "</style>\n",
              "<table border=\"1\" class=\"dataframe\">\n",
              "  <thead>\n",
              "    <tr style=\"text-align: right;\">\n",
              "      <th></th>\n",
              "      <th>Date</th>\n",
              "      <th>Pageviews</th>\n",
              "      <th>Clicks</th>\n",
              "      <th>Enrollments</th>\n",
              "      <th>Payments</th>\n",
              "    </tr>\n",
              "  </thead>\n",
              "  <tbody>\n",
              "    <tr>\n",
              "      <th>0</th>\n",
              "      <td>Sat, Oct 11</td>\n",
              "      <td>7723</td>\n",
              "      <td>687</td>\n",
              "      <td>134.0</td>\n",
              "      <td>70.0</td>\n",
              "    </tr>\n",
              "    <tr>\n",
              "      <th>1</th>\n",
              "      <td>Sun, Oct 12</td>\n",
              "      <td>9102</td>\n",
              "      <td>779</td>\n",
              "      <td>147.0</td>\n",
              "      <td>70.0</td>\n",
              "    </tr>\n",
              "    <tr>\n",
              "      <th>2</th>\n",
              "      <td>Mon, Oct 13</td>\n",
              "      <td>10511</td>\n",
              "      <td>909</td>\n",
              "      <td>167.0</td>\n",
              "      <td>95.0</td>\n",
              "    </tr>\n",
              "    <tr>\n",
              "      <th>3</th>\n",
              "      <td>Tue, Oct 14</td>\n",
              "      <td>9871</td>\n",
              "      <td>836</td>\n",
              "      <td>156.0</td>\n",
              "      <td>105.0</td>\n",
              "    </tr>\n",
              "    <tr>\n",
              "      <th>4</th>\n",
              "      <td>Wed, Oct 15</td>\n",
              "      <td>10014</td>\n",
              "      <td>837</td>\n",
              "      <td>163.0</td>\n",
              "      <td>64.0</td>\n",
              "    </tr>\n",
              "  </tbody>\n",
              "</table>\n",
              "</div>"
            ],
            "text/plain": [
              "          Date  Pageviews  Clicks  Enrollments  Payments\n",
              "0  Sat, Oct 11       7723     687        134.0      70.0\n",
              "1  Sun, Oct 12       9102     779        147.0      70.0\n",
              "2  Mon, Oct 13      10511     909        167.0      95.0\n",
              "3  Tue, Oct 14       9871     836        156.0     105.0\n",
              "4  Wed, Oct 15      10014     837        163.0      64.0"
            ]
          },
          "metadata": {
            "tags": []
          },
          "execution_count": 21
        }
      ]
    },
    {
      "cell_type": "markdown",
      "metadata": {
        "id": "NEurQT3tnDl8"
      },
      "source": [
        "***Sanity Check***"
      ]
    },
    {
      "cell_type": "code",
      "metadata": {
        "_cell_guid": "37ab672f-be1c-46bc-ae53-edf722bef4bc",
        "_uuid": "15652351bc793b528ca853666ddb4b7defe4f4ff",
        "collapsed": true,
        "colab": {
          "base_uri": "https://localhost:8080/"
        },
        "id": "ekDddPaVSzUY",
        "outputId": "1b19436b-d513-4e6d-9071-bf36f359a977"
      },
      "source": [
        "pageviews_cont=control['Pageviews'].sum()\n",
        "pageviews_exp=experiment['Pageviews'].sum()\n",
        "pageviews_total=pageviews_cont+pageviews_exp\n",
        "print (\"number of pageviews in control:\", pageviews_cont)\n",
        "print (\"number of Pageviewsin experiment:\" ,pageviews_exp)"
      ],
      "execution_count": 22,
      "outputs": [
        {
          "output_type": "stream",
          "text": [
            "number of pageviews in control: 345543\n",
            "number of Pageviewsin experiment: 344660\n"
          ],
          "name": "stdout"
        }
      ]
    },
    {
      "cell_type": "code",
      "metadata": {
        "_cell_guid": "e939e7d9-59e6-41a3-b6cf-49e9adeb17a1",
        "_uuid": "e9826a63b91cf63f0f0ab5781cf05b39105a21f8",
        "collapsed": true,
        "colab": {
          "base_uri": "https://localhost:8080/"
        },
        "id": "DZd4SnqzSzUY",
        "outputId": "ea9bfcca-9ab7-4f71-8053-e978ca1e0215"
      },
      "source": [
        "p=0.5\n",
        "alpha=0.05\n",
        "p_hat=round(pageviews_cont/(pageviews_total),4)\n",
        "sd=mt.sqrt(p*(1-p)/(pageviews_total))\n",
        "ME=round(get_z_score(1-(alpha/2))*sd,4)\n",
        "print (\"The confidence interval is between\",p-ME,\"and\",p+ME,\"; Is\",p_hat,\"inside this range?\")"
      ],
      "execution_count": 23,
      "outputs": [
        {
          "output_type": "stream",
          "text": [
            "The confidence interval is between 0.4988 and 0.5012 ; Is 0.5006 inside this range?\n"
          ],
          "name": "stdout"
        }
      ]
    },
    {
      "cell_type": "code",
      "metadata": {
        "_cell_guid": "4b99eec8-db1f-47b6-824b-d9dfa6ddb2de",
        "_uuid": "c60467b13e7411252af75b15c1cec19a7ab175c0",
        "collapsed": true,
        "colab": {
          "base_uri": "https://localhost:8080/"
        },
        "id": "jVFdO4tWSzUZ",
        "outputId": "292e102a-5796-4916-fe2b-7c20e6ca4c65"
      },
      "source": [
        "clicks_cont=control['Clicks'].sum()\n",
        "clicks_exp=experiment['Clicks'].sum()\n",
        "clicks_total=clicks_cont+clicks_exp\n",
        "\n",
        "p_hat=round(clicks_cont/clicks_total,4)\n",
        "sd=mt.sqrt(p*(1-p)/clicks_total)\n",
        "ME=round(get_z_score(1-(alpha/2))*sd,4)\n",
        "print (\"The confidence interval is between\",p-ME,\"and\",p+ME,\"; Is\",p_hat,\"inside this range?\")"
      ],
      "execution_count": 24,
      "outputs": [
        {
          "output_type": "stream",
          "text": [
            "The confidence interval is between 0.4959 and 0.5041 ; Is 0.5005 inside this range?\n"
          ],
          "name": "stdout"
        }
      ]
    },
    {
      "cell_type": "code",
      "metadata": {
        "_cell_guid": "8f1b7453-11b0-47e7-a53d-c28d18eceb0a",
        "_uuid": "1dd583d7d3698e0a1a8281c7f1c6c46ce2964f48",
        "collapsed": true,
        "colab": {
          "base_uri": "https://localhost:8080/"
        },
        "id": "BdnXeiRhSzUZ",
        "outputId": "d30a6c09-22c7-481a-91b9-b269e6bec09c"
      },
      "source": [
        "ctp_cont=clicks_cont/pageviews_cont\n",
        "ctp_exp=clicks_exp/pageviews_exp\n",
        "d_hat=round(ctp_exp-ctp_cont,4)\n",
        "p_pooled=clicks_total/pageviews_total\n",
        "sd_pooled=mt.sqrt(p_pooled*(1-p_pooled)*(1/pageviews_cont+1/pageviews_exp))\n",
        "ME=round(get_z_score(1-(alpha/2))*sd_pooled,4)\n",
        "print (\"The confidence interval is between\",0-ME,\"and\",0+ME,\"; Is\",d_hat,\"within this range?\")"
      ],
      "execution_count": 25,
      "outputs": [
        {
          "output_type": "stream",
          "text": [
            "The confidence interval is between -0.0013 and 0.0013 ; Is 0.0001 within this range?\n"
          ],
          "name": "stdout"
        }
      ]
    },
    {
      "cell_type": "code",
      "metadata": {
        "_cell_guid": "8e13eba4-0daa-4220-a772-e1f371854d60",
        "_uuid": "6d4d94df9e5afdfdf97703292b0ef9ac6c3e4251",
        "collapsed": true,
        "id": "ApU0GxujSzUa"
      },
      "source": [
        "# Count the total clicks from complete records only\n",
        "clicks_cont=control[\"Clicks\"].loc[control[\"Enrollments\"].notnull()].sum()\n",
        "clicks_exp=experiment[\"Clicks\"].loc[experiment[\"Enrollments\"].notnull()].sum()"
      ],
      "execution_count": 26,
      "outputs": []
    },
    {
      "cell_type": "code",
      "metadata": {
        "_cell_guid": "5615673e-529c-452a-ad48-9186cb88f74b",
        "_uuid": "3f17a8086726ee8cc01f150808f88fe8693a95a2",
        "collapsed": true,
        "colab": {
          "base_uri": "https://localhost:8080/"
        },
        "id": "5OTMdgY2SzUa",
        "outputId": "a2d47ce6-b159-48d5-c5ee-69c074d57134"
      },
      "source": [
        "#Gross Conversion - number of enrollments divided by number of clicks\n",
        "enrollments_cont=control[\"Enrollments\"].sum()\n",
        "enrollments_exp=experiment[\"Enrollments\"].sum()\n",
        "\n",
        "GC_cont=enrollments_cont/clicks_cont\n",
        "GC_exp=enrollments_exp/clicks_exp\n",
        "GC_pooled=(enrollments_cont+enrollments_exp)/(clicks_cont+clicks_exp)\n",
        "GC_sd_pooled=mt.sqrt(GC_pooled*(1-GC_pooled)*(1/clicks_cont+1/clicks_exp))\n",
        "GC_ME=round(get_z_score(1-alpha/2)*GC_sd_pooled,4)\n",
        "GC_diff=round(GC_exp-GC_cont,4)\n",
        "print(\"The change due to the experiment is\",GC_diff*100,\"%\")\n",
        "print(\"Confidence Interval: [\",GC_diff-GC_ME,\",\",GC_diff+GC_ME,\"]\")\n",
        "print (\"The change is statistically significant if the CI doesn't include 0. In that case, it is practically significant if\",-GC[\"d_min\"],\"is not in the CI as well.\")"
      ],
      "execution_count": 27,
      "outputs": [
        {
          "output_type": "stream",
          "text": [
            "The change due to the experiment is -2.06 %\n",
            "Confidence Interval: [ -0.0292 , -0.012 ]\n",
            "The change is statistically significant if the CI doesn't include 0. In that case, it is practically significant if -0.01 is not in the CI as well.\n"
          ],
          "name": "stdout"
        }
      ]
    },
    {
      "cell_type": "code",
      "metadata": {
        "_cell_guid": "8cb352ad-fc92-4f21-b939-3874314ba8f4",
        "_uuid": "83e99af5dea50f22629ccbd34faa196d4065172f",
        "collapsed": true,
        "colab": {
          "base_uri": "https://localhost:8080/"
        },
        "id": "UHppHgkySzUa",
        "outputId": "f33c540c-da9f-49c1-a4a0-625921a3b7d2"
      },
      "source": [
        "#Net Conversion - number of payments divided by number of clicks\n",
        "payments_cont=control[\"Payments\"].sum()\n",
        "payments_exp=experiment[\"Payments\"].sum()\n",
        "\n",
        "NC_cont=payments_cont/clicks_cont\n",
        "NC_exp=payments_exp/clicks_exp\n",
        "NC_pooled=(payments_cont+payments_exp)/(clicks_cont+clicks_exp)\n",
        "NC_sd_pooled=mt.sqrt(NC_pooled*(1-NC_pooled)*(1/clicks_cont+1/clicks_exp))\n",
        "NC_ME=round(get_z_score(1-alpha/2)*NC_sd_pooled,4)\n",
        "NC_diff=round(NC_exp-NC_cont,4)\n",
        "print(\"The change due to the experiment is\",NC_diff*100,\"%\")\n",
        "print(\"Confidence Interval: [\",NC_diff-NC_ME,\",\",NC_diff+NC_ME,\"]\")\n",
        "print (\"The change is statistically significant if the CI doesn't include 0. In that case, it is practically significant if\",NC[\"d_min\"],\"is not in the CI as well.\")"
      ],
      "execution_count": 28,
      "outputs": [
        {
          "output_type": "stream",
          "text": [
            "The change due to the experiment is -0.49 %\n",
            "Confidence Interval: [ -0.0116 , 0.0018000000000000004 ]\n",
            "The change is statistically significant if the CI doesn't include 0. In that case, it is practically significant if 0.0075 is not in the CI as well.\n"
          ],
          "name": "stdout"
        }
      ]
    },
    {
      "cell_type": "markdown",
      "metadata": {
        "id": "ALQKaZgJnf-1"
      },
      "source": [
        "***Sign Test - To Double Check ***"
      ]
    },
    {
      "cell_type": "code",
      "metadata": {
        "_cell_guid": "d59fb882-ec0a-4cf9-9fd6-5e0271302ea6",
        "_uuid": "aae6e4d96ac0d06b3bdfece143be74d58c0fade3",
        "collapsed": true,
        "colab": {
          "base_uri": "https://localhost:8080/"
        },
        "id": "CFf0QJbOSzUb",
        "outputId": "e5160b01-1ae8-40a8-c5d3-d4ab77a0db6b"
      },
      "source": [
        "#let's first create the dataset we need for this:\n",
        "# start by merging the two datasets\n",
        "full=control.join(other=experiment,how=\"inner\",lsuffix=\"_cont\",rsuffix=\"_exp\")\n",
        "#Let's look at what we got\n",
        "full.count()"
      ],
      "execution_count": 29,
      "outputs": [
        {
          "output_type": "execute_result",
          "data": {
            "text/plain": [
              "Date_cont           37\n",
              "Pageviews_cont      37\n",
              "Clicks_cont         37\n",
              "Enrollments_cont    23\n",
              "Payments_cont       23\n",
              "Date_exp            37\n",
              "Pageviews_exp       37\n",
              "Clicks_exp          37\n",
              "Enrollments_exp     23\n",
              "Payments_exp        23\n",
              "dtype: int64"
            ]
          },
          "metadata": {
            "tags": []
          },
          "execution_count": 29
        }
      ]
    },
    {
      "cell_type": "code",
      "metadata": {
        "_cell_guid": "97817e5e-9c6b-4347-96f2-ad56a11bc60f",
        "_uuid": "e2302f51793b1fcdb6c671783f0f7ab3ada7f62e",
        "collapsed": true,
        "colab": {
          "base_uri": "https://localhost:8080/"
        },
        "id": "sqPCqG69SzUb",
        "outputId": "f580cfdf-f12d-4c33-afd6-bf11004a62b3"
      },
      "source": [
        "#now we only need the complete data records\n",
        "full=full.loc[full[\"Enrollments_cont\"].notnull()]\n",
        "full.count()"
      ],
      "execution_count": 30,
      "outputs": [
        {
          "output_type": "execute_result",
          "data": {
            "text/plain": [
              "Date_cont           23\n",
              "Pageviews_cont      23\n",
              "Clicks_cont         23\n",
              "Enrollments_cont    23\n",
              "Payments_cont       23\n",
              "Date_exp            23\n",
              "Pageviews_exp       23\n",
              "Clicks_exp          23\n",
              "Enrollments_exp     23\n",
              "Payments_exp        23\n",
              "dtype: int64"
            ]
          },
          "metadata": {
            "tags": []
          },
          "execution_count": 30
        }
      ]
    },
    {
      "cell_type": "code",
      "metadata": {
        "_cell_guid": "09f17781-7a21-4c4b-a239-e8ed2495f147",
        "_uuid": "a5b14c1c27a3e2c78a1313c08824e05da12b2057",
        "collapsed": true,
        "colab": {
          "base_uri": "https://localhost:8080/",
          "height": 309
        },
        "id": "PfSjJA2CSzUb",
        "outputId": "8f915938-44a9-4084-9854-b6cb80736e2a"
      },
      "source": [
        "# Perfect! Now, derive a new column for each metric, so we have it's daily values\n",
        "# We need a 1 if the experiment value is greater than the control value=\n",
        "x=full['Enrollments_cont']/full['Clicks_cont']\n",
        "y=full['Enrollments_exp']/full['Clicks_exp']\n",
        "full['GC'] = np.where(x<y,1,0)\n",
        "# The same now for net conversion\n",
        "z=full['Payments_cont']/full['Clicks_cont']\n",
        "w=full['Payments_exp']/full['Clicks_exp']\n",
        "full['NC'] = np.where(z<w,1,0)\n",
        "full.head()"
      ],
      "execution_count": 31,
      "outputs": [
        {
          "output_type": "execute_result",
          "data": {
            "text/html": [
              "<div>\n",
              "<style scoped>\n",
              "    .dataframe tbody tr th:only-of-type {\n",
              "        vertical-align: middle;\n",
              "    }\n",
              "\n",
              "    .dataframe tbody tr th {\n",
              "        vertical-align: top;\n",
              "    }\n",
              "\n",
              "    .dataframe thead th {\n",
              "        text-align: right;\n",
              "    }\n",
              "</style>\n",
              "<table border=\"1\" class=\"dataframe\">\n",
              "  <thead>\n",
              "    <tr style=\"text-align: right;\">\n",
              "      <th></th>\n",
              "      <th>Date_cont</th>\n",
              "      <th>Pageviews_cont</th>\n",
              "      <th>Clicks_cont</th>\n",
              "      <th>Enrollments_cont</th>\n",
              "      <th>Payments_cont</th>\n",
              "      <th>Date_exp</th>\n",
              "      <th>Pageviews_exp</th>\n",
              "      <th>Clicks_exp</th>\n",
              "      <th>Enrollments_exp</th>\n",
              "      <th>Payments_exp</th>\n",
              "      <th>GC</th>\n",
              "      <th>NC</th>\n",
              "    </tr>\n",
              "  </thead>\n",
              "  <tbody>\n",
              "    <tr>\n",
              "      <th>0</th>\n",
              "      <td>Sat, Oct 11</td>\n",
              "      <td>7723</td>\n",
              "      <td>687</td>\n",
              "      <td>134.0</td>\n",
              "      <td>70.0</td>\n",
              "      <td>Sat, Oct 11</td>\n",
              "      <td>7716</td>\n",
              "      <td>686</td>\n",
              "      <td>105.0</td>\n",
              "      <td>34.0</td>\n",
              "      <td>0</td>\n",
              "      <td>0</td>\n",
              "    </tr>\n",
              "    <tr>\n",
              "      <th>1</th>\n",
              "      <td>Sun, Oct 12</td>\n",
              "      <td>9102</td>\n",
              "      <td>779</td>\n",
              "      <td>147.0</td>\n",
              "      <td>70.0</td>\n",
              "      <td>Sun, Oct 12</td>\n",
              "      <td>9288</td>\n",
              "      <td>785</td>\n",
              "      <td>116.0</td>\n",
              "      <td>91.0</td>\n",
              "      <td>0</td>\n",
              "      <td>1</td>\n",
              "    </tr>\n",
              "    <tr>\n",
              "      <th>2</th>\n",
              "      <td>Mon, Oct 13</td>\n",
              "      <td>10511</td>\n",
              "      <td>909</td>\n",
              "      <td>167.0</td>\n",
              "      <td>95.0</td>\n",
              "      <td>Mon, Oct 13</td>\n",
              "      <td>10480</td>\n",
              "      <td>884</td>\n",
              "      <td>145.0</td>\n",
              "      <td>79.0</td>\n",
              "      <td>0</td>\n",
              "      <td>0</td>\n",
              "    </tr>\n",
              "    <tr>\n",
              "      <th>3</th>\n",
              "      <td>Tue, Oct 14</td>\n",
              "      <td>9871</td>\n",
              "      <td>836</td>\n",
              "      <td>156.0</td>\n",
              "      <td>105.0</td>\n",
              "      <td>Tue, Oct 14</td>\n",
              "      <td>9867</td>\n",
              "      <td>827</td>\n",
              "      <td>138.0</td>\n",
              "      <td>92.0</td>\n",
              "      <td>0</td>\n",
              "      <td>0</td>\n",
              "    </tr>\n",
              "    <tr>\n",
              "      <th>4</th>\n",
              "      <td>Wed, Oct 15</td>\n",
              "      <td>10014</td>\n",
              "      <td>837</td>\n",
              "      <td>163.0</td>\n",
              "      <td>64.0</td>\n",
              "      <td>Wed, Oct 15</td>\n",
              "      <td>9793</td>\n",
              "      <td>832</td>\n",
              "      <td>140.0</td>\n",
              "      <td>94.0</td>\n",
              "      <td>0</td>\n",
              "      <td>1</td>\n",
              "    </tr>\n",
              "  </tbody>\n",
              "</table>\n",
              "</div>"
            ],
            "text/plain": [
              "     Date_cont  Pageviews_cont  Clicks_cont  ...  Payments_exp  GC NC\n",
              "0  Sat, Oct 11            7723          687  ...          34.0   0  0\n",
              "1  Sun, Oct 12            9102          779  ...          91.0   0  1\n",
              "2  Mon, Oct 13           10511          909  ...          79.0   0  0\n",
              "3  Tue, Oct 14            9871          836  ...          92.0   0  0\n",
              "4  Wed, Oct 15           10014          837  ...          94.0   0  1\n",
              "\n",
              "[5 rows x 12 columns]"
            ]
          },
          "metadata": {
            "tags": []
          },
          "execution_count": 31
        }
      ]
    },
    {
      "cell_type": "code",
      "metadata": {
        "_cell_guid": "1b2a2c0e-bf4e-4a39-8e46-3d2c8ad17352",
        "_uuid": "904d0fb8aee7d7c40a29174197b493716adee9fa",
        "collapsed": true,
        "colab": {
          "base_uri": "https://localhost:8080/"
        },
        "id": "IxXV_cb3SzUc",
        "outputId": "5815142e-f1fb-4612-ef39-419f1762b74f"
      },
      "source": [
        "GC_x=full.GC[full[\"GC\"]==1].count()\n",
        "NC_x=full.NC[full[\"NC\"]==1].count()\n",
        "n=full.NC.count()\n",
        "print(\"No. of cases for GC:\",GC_x,'\\n',\n",
        "      \"No. of cases for NC:\",NC_x,'\\n',\n",
        "      \"No. of total cases\",n)"
      ],
      "execution_count": 32,
      "outputs": [
        {
          "output_type": "stream",
          "text": [
            "No. of cases for GC: 4 \n",
            " No. of cases for NC: 10 \n",
            " No. of total cases 23\n"
          ],
          "name": "stdout"
        }
      ]
    },
    {
      "cell_type": "code",
      "metadata": {
        "_cell_guid": "0cc3b899-b54b-4504-bca4-4e63fa594adb",
        "_uuid": "e4db8dc9ead5aa4dd2389d03d8c037b2a3a30f28",
        "collapsed": true,
        "id": "Y96A8D4cSzUc"
      },
      "source": [
        "#first a function for calculating probability of x=number of successes\n",
        "def get_prob(x,n):\n",
        "    p=round(mt.factorial(n)/(mt.factorial(x)*mt.factorial(n-x))*0.5**x*0.5**(n-x),4)\n",
        "    return p\n",
        "#next a function to compute the pvalue from probabilities of maximum x\n",
        "def get_2side_pvalue(x,n):\n",
        "    p=0\n",
        "    for i in range(0,x+1):\n",
        "        p=p+get_prob(i,n)\n",
        "    return 2*p"
      ],
      "execution_count": 33,
      "outputs": []
    },
    {
      "cell_type": "code",
      "metadata": {
        "_cell_guid": "04d7c5b8-e859-4040-88e0-61180d05b167",
        "_uuid": "f1f7624b436d510f36ca22df49eb1455b196485b",
        "collapsed": true,
        "colab": {
          "base_uri": "https://localhost:8080/"
        },
        "id": "pRWgRrPLSzUd",
        "outputId": "8229f20a-3efd-47f4-dd6d-8b66aeb487ce"
      },
      "source": [
        "print (\"GC Change is significant if\",get_2side_pvalue(GC_x,n),\"is smaller than 0.05\")\n",
        "print (\"NC Change is significant if\",get_2side_pvalue(NC_x,n),\"is smaller than 0.05\")"
      ],
      "execution_count": 34,
      "outputs": [
        {
          "output_type": "stream",
          "text": [
            "GC Change is significant if 0.0026000000000000003 is smaller than 0.05\n",
            "NC Change is significant if 0.6774 is smaller than 0.05\n"
          ],
          "name": "stdout"
        }
      ]
    },
    {
      "cell_type": "markdown",
      "metadata": {
        "id": "ZVMUShbZpZOL"
      },
      "source": [
        "***The conclusion from both the tests is the same - Change in Gross Conversion was significant BUT Change in Net Conversion was not***"
      ]
    }
  ]
}