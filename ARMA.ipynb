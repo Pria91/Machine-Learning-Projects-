{
  "nbformat": 4,
  "nbformat_minor": 0,
  "metadata": {
    "colab": {
      "name": "ARMA.ipynb",
      "provenance": [],
      "collapsed_sections": [],
      "authorship_tag": "ABX9TyM5Fuk2JWu6iC+hHnthTMgz",
      "include_colab_link": true
    },
    "kernelspec": {
      "name": "python3",
      "display_name": "Python 3"
    },
    "language_info": {
      "name": "python"
    }
  },
  "cells": [
    {
      "cell_type": "markdown",
      "metadata": {
        "id": "view-in-github",
        "colab_type": "text"
      },
      "source": [
        "<a href=\"https://colab.research.google.com/github/Pria91/Machine-Learning-Projects-/blob/main/ARMA.ipynb\" target=\"_parent\"><img src=\"https://colab.research.google.com/assets/colab-badge.svg\" alt=\"Open In Colab\"/></a>"
      ]
    },
    {
      "cell_type": "code",
      "metadata": {
        "id": "R3t9FNwtGdyy"
      },
      "source": [
        "import pandas as pd\n",
        "import matplotlib.pyplot as plt\n",
        "from pandas import DataFrame\n",
        "from matplotlib import pyplot"
      ],
      "execution_count": null,
      "outputs": []
    },
    {
      "cell_type": "code",
      "metadata": {
        "colab": {
          "base_uri": "https://localhost:8080/"
        },
        "id": "AQxZLMm3G34-",
        "outputId": "33212c5b-14ee-48b6-9908-5c0a9bd7b44a"
      },
      "source": [
        "data = pd.read_csv('/content/data.csv')"
      ],
      "execution_count": null,
      "outputs": [
        {
          "output_type": "stream",
          "text": [
            "/usr/local/lib/python3.7/dist-packages/IPython/core/interactiveshell.py:2718: DtypeWarning: Columns (0) have mixed types.Specify dtype option on import or set low_memory=False.\n",
            "  interactivity=interactivity, compiler=compiler, result=result)\n"
          ],
          "name": "stderr"
        }
      ]
    },
    {
      "cell_type": "code",
      "metadata": {
        "id": "XDtOIvepHCbS"
      },
      "source": [
        "from datetime import datetime\n",
        "\n",
        "# This function is to extract date features\n",
        "def date_process(df):\n",
        "    df[\"date\"] = pd.to_datetime(df[\"date\"], format=\"%Y%m%d\") # seting the column as pandas datetime\n",
        "    df[\"weekday\"] = df['date'].dt.weekday #extracting week day\n",
        "    df[\"day\"] = df['date'].dt.day # extracting day\n",
        "    df[\"month\"] = df['date'].dt.month # extracting day\n",
        "    df[\"year\"] = df['date'].dt.year # extracting day\n",
        "    #df['visitHour'] = (df['visitStartTime'].apply(lambda x: str(datetime.fromtimestamp(x).hour))).astype(int)\n",
        "    \n",
        "    return df\n",
        "\n",
        "df = date_process(data)"
      ],
      "execution_count": null,
      "outputs": []
    },
    {
      "cell_type": "code",
      "metadata": {
        "colab": {
          "base_uri": "https://localhost:8080/",
          "height": 779
        },
        "id": "HgN7ytHfHHT7",
        "outputId": "93608543-716d-47bc-f796-553bd7a58dc4"
      },
      "source": [
        "df"
      ],
      "execution_count": null,
      "outputs": [
        {
          "output_type": "execute_result",
          "data": {
            "text/html": [
              "<div>\n",
              "<style scoped>\n",
              "    .dataframe tbody tr th:only-of-type {\n",
              "        vertical-align: middle;\n",
              "    }\n",
              "\n",
              "    .dataframe tbody tr th {\n",
              "        vertical-align: top;\n",
              "    }\n",
              "\n",
              "    .dataframe thead th {\n",
              "        text-align: right;\n",
              "    }\n",
              "</style>\n",
              "<table border=\"1\" class=\"dataframe\">\n",
              "  <thead>\n",
              "    <tr style=\"text-align: right;\">\n",
              "      <th></th>\n",
              "      <th>fullVisitorID</th>\n",
              "      <th>visitNumber</th>\n",
              "      <th>date</th>\n",
              "      <th>bounces</th>\n",
              "      <th>hits</th>\n",
              "      <th>pageviews</th>\n",
              "      <th>timeOnSite</th>\n",
              "      <th>transactionRevenue</th>\n",
              "      <th>transactions</th>\n",
              "      <th>source</th>\n",
              "      <th>channelGrouping</th>\n",
              "      <th>browser</th>\n",
              "      <th>deviceCategory</th>\n",
              "      <th>country</th>\n",
              "      <th>city</th>\n",
              "      <th>weekday</th>\n",
              "      <th>day</th>\n",
              "      <th>month</th>\n",
              "      <th>year</th>\n",
              "    </tr>\n",
              "  </thead>\n",
              "  <tbody>\n",
              "    <tr>\n",
              "      <th>0</th>\n",
              "      <td>8533875475515924645</td>\n",
              "      <td>1</td>\n",
              "      <td>2017-02-05</td>\n",
              "      <td>1.0</td>\n",
              "      <td>1</td>\n",
              "      <td>1.0</td>\n",
              "      <td>NaN</td>\n",
              "      <td>NaN</td>\n",
              "      <td>NaN</td>\n",
              "      <td>(direct)</td>\n",
              "      <td>Organic Search</td>\n",
              "      <td>Chrome</td>\n",
              "      <td>desktop</td>\n",
              "      <td>Australia</td>\n",
              "      <td>Sydney</td>\n",
              "      <td>6</td>\n",
              "      <td>5</td>\n",
              "      <td>2</td>\n",
              "      <td>2017</td>\n",
              "    </tr>\n",
              "    <tr>\n",
              "      <th>1</th>\n",
              "      <td>4874599869430831185</td>\n",
              "      <td>2</td>\n",
              "      <td>2017-02-05</td>\n",
              "      <td>1.0</td>\n",
              "      <td>1</td>\n",
              "      <td>1.0</td>\n",
              "      <td>NaN</td>\n",
              "      <td>NaN</td>\n",
              "      <td>NaN</td>\n",
              "      <td>(direct)</td>\n",
              "      <td>Organic Search</td>\n",
              "      <td>Chrome</td>\n",
              "      <td>mobile</td>\n",
              "      <td>Turkey</td>\n",
              "      <td>Istanbul</td>\n",
              "      <td>6</td>\n",
              "      <td>5</td>\n",
              "      <td>2</td>\n",
              "      <td>2017</td>\n",
              "    </tr>\n",
              "    <tr>\n",
              "      <th>2</th>\n",
              "      <td>361954421372951638</td>\n",
              "      <td>1</td>\n",
              "      <td>2017-02-05</td>\n",
              "      <td>1.0</td>\n",
              "      <td>1</td>\n",
              "      <td>1.0</td>\n",
              "      <td>NaN</td>\n",
              "      <td>NaN</td>\n",
              "      <td>NaN</td>\n",
              "      <td>(direct)</td>\n",
              "      <td>Organic Search</td>\n",
              "      <td>Chrome</td>\n",
              "      <td>desktop</td>\n",
              "      <td>Russia</td>\n",
              "      <td>Moscow</td>\n",
              "      <td>6</td>\n",
              "      <td>5</td>\n",
              "      <td>2</td>\n",
              "      <td>2017</td>\n",
              "    </tr>\n",
              "    <tr>\n",
              "      <th>3</th>\n",
              "      <td>8751850432978942600</td>\n",
              "      <td>2</td>\n",
              "      <td>2017-02-05</td>\n",
              "      <td>1.0</td>\n",
              "      <td>1</td>\n",
              "      <td>1.0</td>\n",
              "      <td>NaN</td>\n",
              "      <td>NaN</td>\n",
              "      <td>NaN</td>\n",
              "      <td>bing</td>\n",
              "      <td>Organic Search</td>\n",
              "      <td>Edge</td>\n",
              "      <td>desktop</td>\n",
              "      <td>United States</td>\n",
              "      <td>not available in demo dataset</td>\n",
              "      <td>6</td>\n",
              "      <td>5</td>\n",
              "      <td>2</td>\n",
              "      <td>2017</td>\n",
              "    </tr>\n",
              "    <tr>\n",
              "      <th>4</th>\n",
              "      <td>2451058030378352110</td>\n",
              "      <td>1</td>\n",
              "      <td>2017-02-05</td>\n",
              "      <td>1.0</td>\n",
              "      <td>1</td>\n",
              "      <td>1.0</td>\n",
              "      <td>NaN</td>\n",
              "      <td>NaN</td>\n",
              "      <td>NaN</td>\n",
              "      <td>(direct)</td>\n",
              "      <td>Organic Search</td>\n",
              "      <td>Chrome</td>\n",
              "      <td>desktop</td>\n",
              "      <td>Indonesia</td>\n",
              "      <td>not available in demo dataset</td>\n",
              "      <td>6</td>\n",
              "      <td>5</td>\n",
              "      <td>2</td>\n",
              "      <td>2017</td>\n",
              "    </tr>\n",
              "    <tr>\n",
              "      <th>...</th>\n",
              "      <td>...</td>\n",
              "      <td>...</td>\n",
              "      <td>...</td>\n",
              "      <td>...</td>\n",
              "      <td>...</td>\n",
              "      <td>...</td>\n",
              "      <td>...</td>\n",
              "      <td>...</td>\n",
              "      <td>...</td>\n",
              "      <td>...</td>\n",
              "      <td>...</td>\n",
              "      <td>...</td>\n",
              "      <td>...</td>\n",
              "      <td>...</td>\n",
              "      <td>...</td>\n",
              "      <td>...</td>\n",
              "      <td>...</td>\n",
              "      <td>...</td>\n",
              "      <td>...</td>\n",
              "    </tr>\n",
              "    <tr>\n",
              "      <th>392887</th>\n",
              "      <td>4823772839168317708</td>\n",
              "      <td>1</td>\n",
              "      <td>2017-03-14</td>\n",
              "      <td>NaN</td>\n",
              "      <td>14</td>\n",
              "      <td>10.0</td>\n",
              "      <td>210.0</td>\n",
              "      <td>NaN</td>\n",
              "      <td>NaN</td>\n",
              "      <td>youtube.com</td>\n",
              "      <td>Social</td>\n",
              "      <td>Chrome</td>\n",
              "      <td>desktop</td>\n",
              "      <td>Australia</td>\n",
              "      <td>Sydney</td>\n",
              "      <td>1</td>\n",
              "      <td>14</td>\n",
              "      <td>3</td>\n",
              "      <td>2017</td>\n",
              "    </tr>\n",
              "    <tr>\n",
              "      <th>392888</th>\n",
              "      <td>4495028198726387872</td>\n",
              "      <td>1</td>\n",
              "      <td>2017-03-14</td>\n",
              "      <td>NaN</td>\n",
              "      <td>15</td>\n",
              "      <td>13.0</td>\n",
              "      <td>306.0</td>\n",
              "      <td>NaN</td>\n",
              "      <td>NaN</td>\n",
              "      <td>m.facebook.com</td>\n",
              "      <td>Social</td>\n",
              "      <td>Android Webview</td>\n",
              "      <td>mobile</td>\n",
              "      <td>United States</td>\n",
              "      <td>not available in demo dataset</td>\n",
              "      <td>1</td>\n",
              "      <td>14</td>\n",
              "      <td>3</td>\n",
              "      <td>2017</td>\n",
              "    </tr>\n",
              "    <tr>\n",
              "      <th>392889</th>\n",
              "      <td>659863211325608630</td>\n",
              "      <td>1</td>\n",
              "      <td>2017-03-14</td>\n",
              "      <td>NaN</td>\n",
              "      <td>16</td>\n",
              "      <td>16.0</td>\n",
              "      <td>202.0</td>\n",
              "      <td>NaN</td>\n",
              "      <td>NaN</td>\n",
              "      <td>youtube.com</td>\n",
              "      <td>Social</td>\n",
              "      <td>Chrome</td>\n",
              "      <td>desktop</td>\n",
              "      <td>Colombia</td>\n",
              "      <td>not available in demo dataset</td>\n",
              "      <td>1</td>\n",
              "      <td>14</td>\n",
              "      <td>3</td>\n",
              "      <td>2017</td>\n",
              "    </tr>\n",
              "    <tr>\n",
              "      <th>392890</th>\n",
              "      <td>5989424100079269693</td>\n",
              "      <td>1</td>\n",
              "      <td>2017-03-14</td>\n",
              "      <td>NaN</td>\n",
              "      <td>20</td>\n",
              "      <td>18.0</td>\n",
              "      <td>621.0</td>\n",
              "      <td>NaN</td>\n",
              "      <td>NaN</td>\n",
              "      <td>youtube.com</td>\n",
              "      <td>Social</td>\n",
              "      <td>Chrome</td>\n",
              "      <td>desktop</td>\n",
              "      <td>Israel</td>\n",
              "      <td>Tel Aviv-Yafo</td>\n",
              "      <td>1</td>\n",
              "      <td>14</td>\n",
              "      <td>3</td>\n",
              "      <td>2017</td>\n",
              "    </tr>\n",
              "    <tr>\n",
              "      <th>392891</th>\n",
              "      <td>9349161317881541522</td>\n",
              "      <td>4</td>\n",
              "      <td>2017-03-14</td>\n",
              "      <td>NaN</td>\n",
              "      <td>205</td>\n",
              "      <td>179.0</td>\n",
              "      <td>4195.0</td>\n",
              "      <td>901.71</td>\n",
              "      <td>8.0</td>\n",
              "      <td>l.facebook.com</td>\n",
              "      <td>Social</td>\n",
              "      <td>Firefox</td>\n",
              "      <td>desktop</td>\n",
              "      <td>Indonesia</td>\n",
              "      <td>not available in demo dataset</td>\n",
              "      <td>1</td>\n",
              "      <td>14</td>\n",
              "      <td>3</td>\n",
              "      <td>2017</td>\n",
              "    </tr>\n",
              "  </tbody>\n",
              "</table>\n",
              "<p>392892 rows × 19 columns</p>\n",
              "</div>"
            ],
            "text/plain": [
              "              fullVisitorID  visitNumber       date  ...  day  month  year\n",
              "0       8533875475515924645            1 2017-02-05  ...    5      2  2017\n",
              "1       4874599869430831185            2 2017-02-05  ...    5      2  2017\n",
              "2        361954421372951638            1 2017-02-05  ...    5      2  2017\n",
              "3       8751850432978942600            2 2017-02-05  ...    5      2  2017\n",
              "4       2451058030378352110            1 2017-02-05  ...    5      2  2017\n",
              "...                     ...          ...        ...  ...  ...    ...   ...\n",
              "392887  4823772839168317708            1 2017-03-14  ...   14      3  2017\n",
              "392888  4495028198726387872            1 2017-03-14  ...   14      3  2017\n",
              "392889   659863211325608630            1 2017-03-14  ...   14      3  2017\n",
              "392890  5989424100079269693            1 2017-03-14  ...   14      3  2017\n",
              "392891  9349161317881541522            4 2017-03-14  ...   14      3  2017\n",
              "\n",
              "[392892 rows x 19 columns]"
            ]
          },
          "metadata": {
            "tags": []
          },
          "execution_count": 5
        }
      ]
    },
    {
      "cell_type": "code",
      "metadata": {
        "id": "OmhCbnChHP7l"
      },
      "source": [
        "df1 = df[['date', 'transactions', 'transactionRevenue', 'weekday', 'day', 'month', 'year']]"
      ],
      "execution_count": null,
      "outputs": []
    },
    {
      "cell_type": "code",
      "metadata": {
        "colab": {
          "base_uri": "https://localhost:8080/",
          "height": 419
        },
        "id": "Nhwnd-J-H_Rm",
        "outputId": "7df5bbe4-5faf-45eb-8220-ca8b15edb9cc"
      },
      "source": [
        "df1"
      ],
      "execution_count": null,
      "outputs": [
        {
          "output_type": "execute_result",
          "data": {
            "text/html": [
              "<div>\n",
              "<style scoped>\n",
              "    .dataframe tbody tr th:only-of-type {\n",
              "        vertical-align: middle;\n",
              "    }\n",
              "\n",
              "    .dataframe tbody tr th {\n",
              "        vertical-align: top;\n",
              "    }\n",
              "\n",
              "    .dataframe thead th {\n",
              "        text-align: right;\n",
              "    }\n",
              "</style>\n",
              "<table border=\"1\" class=\"dataframe\">\n",
              "  <thead>\n",
              "    <tr style=\"text-align: right;\">\n",
              "      <th></th>\n",
              "      <th>date</th>\n",
              "      <th>transactions</th>\n",
              "      <th>transactionRevenue</th>\n",
              "      <th>weekday</th>\n",
              "      <th>day</th>\n",
              "      <th>month</th>\n",
              "      <th>year</th>\n",
              "    </tr>\n",
              "  </thead>\n",
              "  <tbody>\n",
              "    <tr>\n",
              "      <th>0</th>\n",
              "      <td>2017-02-05</td>\n",
              "      <td>NaN</td>\n",
              "      <td>NaN</td>\n",
              "      <td>6</td>\n",
              "      <td>5</td>\n",
              "      <td>2</td>\n",
              "      <td>2017</td>\n",
              "    </tr>\n",
              "    <tr>\n",
              "      <th>1</th>\n",
              "      <td>2017-02-05</td>\n",
              "      <td>NaN</td>\n",
              "      <td>NaN</td>\n",
              "      <td>6</td>\n",
              "      <td>5</td>\n",
              "      <td>2</td>\n",
              "      <td>2017</td>\n",
              "    </tr>\n",
              "    <tr>\n",
              "      <th>2</th>\n",
              "      <td>2017-02-05</td>\n",
              "      <td>NaN</td>\n",
              "      <td>NaN</td>\n",
              "      <td>6</td>\n",
              "      <td>5</td>\n",
              "      <td>2</td>\n",
              "      <td>2017</td>\n",
              "    </tr>\n",
              "    <tr>\n",
              "      <th>3</th>\n",
              "      <td>2017-02-05</td>\n",
              "      <td>NaN</td>\n",
              "      <td>NaN</td>\n",
              "      <td>6</td>\n",
              "      <td>5</td>\n",
              "      <td>2</td>\n",
              "      <td>2017</td>\n",
              "    </tr>\n",
              "    <tr>\n",
              "      <th>4</th>\n",
              "      <td>2017-02-05</td>\n",
              "      <td>NaN</td>\n",
              "      <td>NaN</td>\n",
              "      <td>6</td>\n",
              "      <td>5</td>\n",
              "      <td>2</td>\n",
              "      <td>2017</td>\n",
              "    </tr>\n",
              "    <tr>\n",
              "      <th>...</th>\n",
              "      <td>...</td>\n",
              "      <td>...</td>\n",
              "      <td>...</td>\n",
              "      <td>...</td>\n",
              "      <td>...</td>\n",
              "      <td>...</td>\n",
              "      <td>...</td>\n",
              "    </tr>\n",
              "    <tr>\n",
              "      <th>392887</th>\n",
              "      <td>2017-03-14</td>\n",
              "      <td>NaN</td>\n",
              "      <td>NaN</td>\n",
              "      <td>1</td>\n",
              "      <td>14</td>\n",
              "      <td>3</td>\n",
              "      <td>2017</td>\n",
              "    </tr>\n",
              "    <tr>\n",
              "      <th>392888</th>\n",
              "      <td>2017-03-14</td>\n",
              "      <td>NaN</td>\n",
              "      <td>NaN</td>\n",
              "      <td>1</td>\n",
              "      <td>14</td>\n",
              "      <td>3</td>\n",
              "      <td>2017</td>\n",
              "    </tr>\n",
              "    <tr>\n",
              "      <th>392889</th>\n",
              "      <td>2017-03-14</td>\n",
              "      <td>NaN</td>\n",
              "      <td>NaN</td>\n",
              "      <td>1</td>\n",
              "      <td>14</td>\n",
              "      <td>3</td>\n",
              "      <td>2017</td>\n",
              "    </tr>\n",
              "    <tr>\n",
              "      <th>392890</th>\n",
              "      <td>2017-03-14</td>\n",
              "      <td>NaN</td>\n",
              "      <td>NaN</td>\n",
              "      <td>1</td>\n",
              "      <td>14</td>\n",
              "      <td>3</td>\n",
              "      <td>2017</td>\n",
              "    </tr>\n",
              "    <tr>\n",
              "      <th>392891</th>\n",
              "      <td>2017-03-14</td>\n",
              "      <td>8.0</td>\n",
              "      <td>901.71</td>\n",
              "      <td>1</td>\n",
              "      <td>14</td>\n",
              "      <td>3</td>\n",
              "      <td>2017</td>\n",
              "    </tr>\n",
              "  </tbody>\n",
              "</table>\n",
              "<p>392892 rows × 7 columns</p>\n",
              "</div>"
            ],
            "text/plain": [
              "             date  transactions  transactionRevenue  weekday  day  month  year\n",
              "0      2017-02-05           NaN                 NaN        6    5      2  2017\n",
              "1      2017-02-05           NaN                 NaN        6    5      2  2017\n",
              "2      2017-02-05           NaN                 NaN        6    5      2  2017\n",
              "3      2017-02-05           NaN                 NaN        6    5      2  2017\n",
              "4      2017-02-05           NaN                 NaN        6    5      2  2017\n",
              "...           ...           ...                 ...      ...  ...    ...   ...\n",
              "392887 2017-03-14           NaN                 NaN        1   14      3  2017\n",
              "392888 2017-03-14           NaN                 NaN        1   14      3  2017\n",
              "392889 2017-03-14           NaN                 NaN        1   14      3  2017\n",
              "392890 2017-03-14           NaN                 NaN        1   14      3  2017\n",
              "392891 2017-03-14           8.0              901.71        1   14      3  2017\n",
              "\n",
              "[392892 rows x 7 columns]"
            ]
          },
          "metadata": {
            "tags": []
          },
          "execution_count": 7
        }
      ]
    },
    {
      "cell_type": "code",
      "metadata": {
        "id": "wNhRDJFzIEnC"
      },
      "source": [
        "df2 = df1.dropna()"
      ],
      "execution_count": null,
      "outputs": []
    },
    {
      "cell_type": "code",
      "metadata": {
        "colab": {
          "base_uri": "https://localhost:8080/",
          "height": 419
        },
        "id": "JYiAcCGOIF1M",
        "outputId": "c1366445-d0d4-4876-f8a5-abb991038d6c"
      },
      "source": [
        "df2"
      ],
      "execution_count": null,
      "outputs": [
        {
          "output_type": "execute_result",
          "data": {
            "text/html": [
              "<div>\n",
              "<style scoped>\n",
              "    .dataframe tbody tr th:only-of-type {\n",
              "        vertical-align: middle;\n",
              "    }\n",
              "\n",
              "    .dataframe tbody tr th {\n",
              "        vertical-align: top;\n",
              "    }\n",
              "\n",
              "    .dataframe thead th {\n",
              "        text-align: right;\n",
              "    }\n",
              "</style>\n",
              "<table border=\"1\" class=\"dataframe\">\n",
              "  <thead>\n",
              "    <tr style=\"text-align: right;\">\n",
              "      <th></th>\n",
              "      <th>date</th>\n",
              "      <th>transactions</th>\n",
              "      <th>transactionRevenue</th>\n",
              "      <th>weekday</th>\n",
              "      <th>day</th>\n",
              "      <th>month</th>\n",
              "      <th>year</th>\n",
              "    </tr>\n",
              "  </thead>\n",
              "  <tbody>\n",
              "    <tr>\n",
              "      <th>1083</th>\n",
              "      <td>2017-02-05</td>\n",
              "      <td>1.0</td>\n",
              "      <td>21.99</td>\n",
              "      <td>6</td>\n",
              "      <td>5</td>\n",
              "      <td>2</td>\n",
              "      <td>2017</td>\n",
              "    </tr>\n",
              "    <tr>\n",
              "      <th>1135</th>\n",
              "      <td>2017-02-05</td>\n",
              "      <td>1.0</td>\n",
              "      <td>75.78</td>\n",
              "      <td>6</td>\n",
              "      <td>5</td>\n",
              "      <td>2</td>\n",
              "      <td>2017</td>\n",
              "    </tr>\n",
              "    <tr>\n",
              "      <th>1155</th>\n",
              "      <td>2017-02-05</td>\n",
              "      <td>1.0</td>\n",
              "      <td>5.50</td>\n",
              "      <td>6</td>\n",
              "      <td>5</td>\n",
              "      <td>2</td>\n",
              "      <td>2017</td>\n",
              "    </tr>\n",
              "    <tr>\n",
              "      <th>1164</th>\n",
              "      <td>2017-02-05</td>\n",
              "      <td>1.0</td>\n",
              "      <td>63.99</td>\n",
              "      <td>6</td>\n",
              "      <td>5</td>\n",
              "      <td>2</td>\n",
              "      <td>2017</td>\n",
              "    </tr>\n",
              "    <tr>\n",
              "      <th>1169</th>\n",
              "      <td>2017-02-05</td>\n",
              "      <td>1.0</td>\n",
              "      <td>63.97</td>\n",
              "      <td>6</td>\n",
              "      <td>5</td>\n",
              "      <td>2</td>\n",
              "      <td>2017</td>\n",
              "    </tr>\n",
              "    <tr>\n",
              "      <th>...</th>\n",
              "      <td>...</td>\n",
              "      <td>...</td>\n",
              "      <td>...</td>\n",
              "      <td>...</td>\n",
              "      <td>...</td>\n",
              "      <td>...</td>\n",
              "      <td>...</td>\n",
              "    </tr>\n",
              "    <tr>\n",
              "      <th>392489</th>\n",
              "      <td>2017-03-14</td>\n",
              "      <td>1.0</td>\n",
              "      <td>85.08</td>\n",
              "      <td>1</td>\n",
              "      <td>14</td>\n",
              "      <td>3</td>\n",
              "      <td>2017</td>\n",
              "    </tr>\n",
              "    <tr>\n",
              "      <th>392492</th>\n",
              "      <td>2017-03-14</td>\n",
              "      <td>2.0</td>\n",
              "      <td>41.38</td>\n",
              "      <td>1</td>\n",
              "      <td>14</td>\n",
              "      <td>3</td>\n",
              "      <td>2017</td>\n",
              "    </tr>\n",
              "    <tr>\n",
              "      <th>392493</th>\n",
              "      <td>2017-03-14</td>\n",
              "      <td>1.0</td>\n",
              "      <td>236.99</td>\n",
              "      <td>1</td>\n",
              "      <td>14</td>\n",
              "      <td>3</td>\n",
              "      <td>2017</td>\n",
              "    </tr>\n",
              "    <tr>\n",
              "      <th>392496</th>\n",
              "      <td>2017-03-14</td>\n",
              "      <td>1.0</td>\n",
              "      <td>96.95</td>\n",
              "      <td>1</td>\n",
              "      <td>14</td>\n",
              "      <td>3</td>\n",
              "      <td>2017</td>\n",
              "    </tr>\n",
              "    <tr>\n",
              "      <th>392891</th>\n",
              "      <td>2017-03-14</td>\n",
              "      <td>8.0</td>\n",
              "      <td>901.71</td>\n",
              "      <td>1</td>\n",
              "      <td>14</td>\n",
              "      <td>3</td>\n",
              "      <td>2017</td>\n",
              "    </tr>\n",
              "  </tbody>\n",
              "</table>\n",
              "<p>5277 rows × 7 columns</p>\n",
              "</div>"
            ],
            "text/plain": [
              "             date  transactions  transactionRevenue  weekday  day  month  year\n",
              "1083   2017-02-05           1.0               21.99        6    5      2  2017\n",
              "1135   2017-02-05           1.0               75.78        6    5      2  2017\n",
              "1155   2017-02-05           1.0                5.50        6    5      2  2017\n",
              "1164   2017-02-05           1.0               63.99        6    5      2  2017\n",
              "1169   2017-02-05           1.0               63.97        6    5      2  2017\n",
              "...           ...           ...                 ...      ...  ...    ...   ...\n",
              "392489 2017-03-14           1.0               85.08        1   14      3  2017\n",
              "392492 2017-03-14           2.0               41.38        1   14      3  2017\n",
              "392493 2017-03-14           1.0              236.99        1   14      3  2017\n",
              "392496 2017-03-14           1.0               96.95        1   14      3  2017\n",
              "392891 2017-03-14           8.0              901.71        1   14      3  2017\n",
              "\n",
              "[5277 rows x 7 columns]"
            ]
          },
          "metadata": {
            "tags": []
          },
          "execution_count": 9
        }
      ]
    },
    {
      "cell_type": "code",
      "metadata": {
        "id": "Ah9rqiJdiKu9"
      },
      "source": [
        "df2 = df2.groupby('month')['transactions'].sum().reset_index()"
      ],
      "execution_count": null,
      "outputs": []
    },
    {
      "cell_type": "code",
      "metadata": {
        "colab": {
          "base_uri": "https://localhost:8080/",
          "height": 235
        },
        "id": "DSmFfJFliXli",
        "outputId": "36d95f64-bca4-44c9-a7b2-3e4763b6ce43"
      },
      "source": [
        "df2"
      ],
      "execution_count": null,
      "outputs": [
        {
          "output_type": "execute_result",
          "data": {
            "text/html": [
              "<div>\n",
              "<style scoped>\n",
              "    .dataframe tbody tr th:only-of-type {\n",
              "        vertical-align: middle;\n",
              "    }\n",
              "\n",
              "    .dataframe tbody tr th {\n",
              "        vertical-align: top;\n",
              "    }\n",
              "\n",
              "    .dataframe thead th {\n",
              "        text-align: right;\n",
              "    }\n",
              "</style>\n",
              "<table border=\"1\" class=\"dataframe\">\n",
              "  <thead>\n",
              "    <tr style=\"text-align: right;\">\n",
              "      <th></th>\n",
              "      <th>month</th>\n",
              "      <th>transactions</th>\n",
              "    </tr>\n",
              "  </thead>\n",
              "  <tbody>\n",
              "    <tr>\n",
              "      <th>0</th>\n",
              "      <td>1</td>\n",
              "      <td>713.0</td>\n",
              "    </tr>\n",
              "    <tr>\n",
              "      <th>1</th>\n",
              "      <td>2</td>\n",
              "      <td>733.0</td>\n",
              "    </tr>\n",
              "    <tr>\n",
              "      <th>2</th>\n",
              "      <td>3</td>\n",
              "      <td>993.0</td>\n",
              "    </tr>\n",
              "    <tr>\n",
              "      <th>3</th>\n",
              "      <td>4</td>\n",
              "      <td>959.0</td>\n",
              "    </tr>\n",
              "    <tr>\n",
              "      <th>4</th>\n",
              "      <td>5</td>\n",
              "      <td>1160.0</td>\n",
              "    </tr>\n",
              "    <tr>\n",
              "      <th>5</th>\n",
              "      <td>6</td>\n",
              "      <td>971.0</td>\n",
              "    </tr>\n",
              "  </tbody>\n",
              "</table>\n",
              "</div>"
            ],
            "text/plain": [
              "   month  transactions\n",
              "0      1         713.0\n",
              "1      2         733.0\n",
              "2      3         993.0\n",
              "3      4         959.0\n",
              "4      5        1160.0\n",
              "5      6         971.0"
            ]
          },
          "metadata": {
            "tags": []
          },
          "execution_count": 122
        }
      ]
    },
    {
      "cell_type": "code",
      "metadata": {
        "colab": {
          "base_uri": "https://localhost:8080/"
        },
        "id": "nXS-dgMYibvM",
        "outputId": "bbed6f8c-17ec-4a8c-8a22-425af96984d4"
      },
      "source": [
        "df1[df1['month'] == 1].sum()"
      ],
      "execution_count": null,
      "outputs": [
        {
          "output_type": "execute_result",
          "data": {
            "text/plain": [
              "transactions          7.130000e+02\n",
              "transactionRevenue    1.062482e+05\n",
              "weekday               1.722630e+05\n",
              "day                   1.063538e+06\n",
              "month                 6.469400e+04\n",
              "year                  1.304878e+08\n",
              "dtype: float64"
            ]
          },
          "metadata": {
            "tags": []
          },
          "execution_count": 125
        }
      ]
    },
    {
      "cell_type": "code",
      "metadata": {
        "colab": {
          "base_uri": "https://localhost:8080/"
        },
        "id": "41NtkNJGIJia",
        "outputId": "21552af8-96c5-45d0-eaa1-eeb583ba0d44"
      },
      "source": [
        "df2['date'].min(), df2['date'].max()     "
      ],
      "execution_count": null,
      "outputs": [
        {
          "output_type": "execute_result",
          "data": {
            "text/plain": [
              "(Timestamp('2017-01-01 00:00:00'), Timestamp('2017-06-30 00:00:00'))"
            ]
          },
          "metadata": {
            "tags": []
          },
          "execution_count": 10
        }
      ]
    },
    {
      "cell_type": "code",
      "metadata": {
        "colab": {
          "base_uri": "https://localhost:8080/",
          "height": 294
        },
        "id": "bFAz8TdCISjX",
        "outputId": "8a3d51fd-06df-4604-b237-593b93db998d"
      },
      "source": [
        "df2.plot(x ='date', y='transactions', kind = 'line')"
      ],
      "execution_count": null,
      "outputs": [
        {
          "output_type": "execute_result",
          "data": {
            "text/plain": [
              "<matplotlib.axes._subplots.AxesSubplot at 0x7f4f2370ec90>"
            ]
          },
          "metadata": {
            "tags": []
          },
          "execution_count": 12
        },
        {
          "output_type": "display_data",
          "data": {
            "image/png": "[encoded data removed]",
            "text/plain": [
              "<Figure size 432x288 with 1 Axes>"
            ]
          },
          "metadata": {
            "tags": [],
            "needs_background": "light"
          }
        }
      ]
    },
    {
      "cell_type": "code",
      "metadata": {
        "id": "FRUhnHj_Ifdd"
      },
      "source": [
        "df3 = df2.groupby('day')['transactions'].sum().reset_index()"
      ],
      "execution_count": null,
      "outputs": []
    },
    {
      "cell_type": "code",
      "metadata": {
        "colab": {
          "base_uri": "https://localhost:8080/",
          "height": 296
        },
        "id": "-_G0J6Q0Ikbd",
        "outputId": "1b0ca472-f4dc-45da-e74a-8c032e2f3ddb"
      },
      "source": [
        "df3.plot(x ='day', y='transactions', kind = 'line')"
      ],
      "execution_count": null,
      "outputs": [
        {
          "output_type": "execute_result",
          "data": {
            "text/plain": [
              "<matplotlib.axes._subplots.AxesSubplot at 0x7f4f231a2b50>"
            ]
          },
          "metadata": {
            "tags": []
          },
          "execution_count": 15
        },
        {
          "output_type": "display_data",
          "data": {
            "image/png": "[encoded data removed]",
            "text/plain": [
              "<Figure size 432x288 with 1 Axes>"
            ]
          },
          "metadata": {
            "tags": [],
            "needs_background": "light"
          }
        }
      ]
    },
    {
      "cell_type": "code",
      "metadata": {
        "colab": {
          "base_uri": "https://localhost:8080/"
        },
        "id": "woDaKGs0IwzC",
        "outputId": "87700a37-fab6-41ec-dc14-38e93424397b"
      },
      "source": [
        "df3 = df3.set_index('day')\n",
        "df3.index"
      ],
      "execution_count": null,
      "outputs": [
        {
          "output_type": "execute_result",
          "data": {
            "text/plain": [
              "Int64Index([ 1,  2,  3,  4,  5,  6,  7,  8,  9, 10, 11, 12, 13, 14, 15, 16, 17,\n",
              "            18, 19, 20, 21, 22, 23, 24, 25, 26, 27, 28, 29, 30, 31],\n",
              "           dtype='int64', name='day')"
            ]
          },
          "metadata": {
            "tags": []
          },
          "execution_count": 16
        }
      ]
    },
    {
      "cell_type": "code",
      "metadata": {
        "id": "IjYNtMuFI1X7"
      },
      "source": [
        "from statsmodels.tsa.stattools import adfuller\n",
        "def stationarity_check(ts):\n",
        "    \n",
        "    # Determing rolling statistics\n",
        "    roll_mean = ts.rolling(2).mean()\n",
        "    \n",
        "    \n",
        "    # Plot rolling statistics:\n",
        "    plt.plot(ts, color='green',label='Original')\n",
        "    plt.plot(roll_mean, color='blue', label='Rolling Mean')\n",
        "    plt.legend(loc='best')\n",
        "    plt.title('Rolling Mean')\n",
        "    plt.show(block=False)\n",
        "    \n",
        "\n",
        "\n",
        "    # Perform Augmented Dickey-Fuller test:\n",
        "    print('Augmented Dickey-Fuller test:')\n",
        "    df_test = adfuller(ts)\n",
        "    print(\"type of df_test: \",type(df_test))\n",
        "    print(\"df_test: \",df_test)\n",
        "    df_output = pd.Series(df_test[0:4], index=['Test Statistic','p-value','#Lags Used','Number of Observations Used'])\n",
        "    print(\"df_output: \\n\",df_output)\n",
        "    for key,value in df_test[4].items():\n",
        "        df_output['Critical Value (%s)'%key] = value\n",
        "    print(df_output)"
      ],
      "execution_count": null,
      "outputs": []
    },
    {
      "cell_type": "code",
      "metadata": {
        "colab": {
          "base_uri": "https://localhost:8080/",
          "height": 590
        },
        "id": "ufLj2plfI40e",
        "outputId": "3a5072c8-4a66-4fba-da37-e7c69b8861ec"
      },
      "source": [
        "stationarity_check(df3.transactions)"
      ],
      "execution_count": null,
      "outputs": [
        {
          "output_type": "display_data",
          "data": {
            "image/png": "[encoded data removed]",
            "text/plain": [
              "<Figure size 432x288 with 1 Axes>"
            ]
          },
          "metadata": {
            "tags": [],
            "needs_background": "light"
          }
        },
        {
          "output_type": "stream",
          "text": [
            "Augmented Dickey-Fuller test:\n",
            "type of df_test:  <class 'tuple'>\n",
            "df_test:  (-3.1408081097831135, 0.02367693660822073, 0, 30, {'1%': -3.6699197407407405, '5%': -2.9640707407407407, '10%': -2.621171111111111}, 200.62174704707974)\n",
            "df_output: \n",
            " Test Statistic                 -3.140808\n",
            "p-value                         0.023677\n",
            "#Lags Used                      0.000000\n",
            "Number of Observations Used    30.000000\n",
            "dtype: float64\n",
            "Test Statistic                 -3.140808\n",
            "p-value                         0.023677\n",
            "#Lags Used                      0.000000\n",
            "Number of Observations Used    30.000000\n",
            "Critical Value (1%)            -3.669920\n",
            "Critical Value (5%)            -2.964071\n",
            "Critical Value (10%)           -2.621171\n",
            "dtype: float64\n"
          ],
          "name": "stdout"
        }
      ]
    },
    {
      "cell_type": "code",
      "metadata": {
        "id": "kgvB2JuuJGXe"
      },
      "source": [
        "df3['Roll_Mean'] = df3.rolling(center=False, window=2).mean()"
      ],
      "execution_count": null,
      "outputs": []
    },
    {
      "cell_type": "code",
      "metadata": {
        "colab": {
          "base_uri": "https://localhost:8080/",
          "height": 1000
        },
        "id": "3l43YrAIJKCJ",
        "outputId": "83086441-85ab-43c5-e968-8a2516387660"
      },
      "source": [
        "df3"
      ],
      "execution_count": null,
      "outputs": [
        {
          "output_type": "execute_result",
          "data": {
            "text/html": [
              "<div>\n",
              "<style scoped>\n",
              "    .dataframe tbody tr th:only-of-type {\n",
              "        vertical-align: middle;\n",
              "    }\n",
              "\n",
              "    .dataframe tbody tr th {\n",
              "        vertical-align: top;\n",
              "    }\n",
              "\n",
              "    .dataframe thead th {\n",
              "        text-align: right;\n",
              "    }\n",
              "</style>\n",
              "<table border=\"1\" class=\"dataframe\">\n",
              "  <thead>\n",
              "    <tr style=\"text-align: right;\">\n",
              "      <th></th>\n",
              "      <th>transactions</th>\n",
              "      <th>Roll_Mean</th>\n",
              "    </tr>\n",
              "    <tr>\n",
              "      <th>day</th>\n",
              "      <th></th>\n",
              "      <th></th>\n",
              "    </tr>\n",
              "  </thead>\n",
              "  <tbody>\n",
              "    <tr>\n",
              "      <th>1</th>\n",
              "      <td>198.0</td>\n",
              "      <td>NaN</td>\n",
              "    </tr>\n",
              "    <tr>\n",
              "      <th>2</th>\n",
              "      <td>209.0</td>\n",
              "      <td>203.5</td>\n",
              "    </tr>\n",
              "    <tr>\n",
              "      <th>3</th>\n",
              "      <td>209.0</td>\n",
              "      <td>209.0</td>\n",
              "    </tr>\n",
              "    <tr>\n",
              "      <th>4</th>\n",
              "      <td>228.0</td>\n",
              "      <td>218.5</td>\n",
              "    </tr>\n",
              "    <tr>\n",
              "      <th>5</th>\n",
              "      <td>191.0</td>\n",
              "      <td>209.5</td>\n",
              "    </tr>\n",
              "    <tr>\n",
              "      <th>6</th>\n",
              "      <td>171.0</td>\n",
              "      <td>181.0</td>\n",
              "    </tr>\n",
              "    <tr>\n",
              "      <th>7</th>\n",
              "      <td>159.0</td>\n",
              "      <td>165.0</td>\n",
              "    </tr>\n",
              "    <tr>\n",
              "      <th>8</th>\n",
              "      <td>158.0</td>\n",
              "      <td>158.5</td>\n",
              "    </tr>\n",
              "    <tr>\n",
              "      <th>9</th>\n",
              "      <td>191.0</td>\n",
              "      <td>174.5</td>\n",
              "    </tr>\n",
              "    <tr>\n",
              "      <th>10</th>\n",
              "      <td>169.0</td>\n",
              "      <td>180.0</td>\n",
              "    </tr>\n",
              "    <tr>\n",
              "      <th>11</th>\n",
              "      <td>145.0</td>\n",
              "      <td>157.0</td>\n",
              "    </tr>\n",
              "    <tr>\n",
              "      <th>12</th>\n",
              "      <td>214.0</td>\n",
              "      <td>179.5</td>\n",
              "    </tr>\n",
              "    <tr>\n",
              "      <th>13</th>\n",
              "      <td>203.0</td>\n",
              "      <td>208.5</td>\n",
              "    </tr>\n",
              "    <tr>\n",
              "      <th>14</th>\n",
              "      <td>199.0</td>\n",
              "      <td>201.0</td>\n",
              "    </tr>\n",
              "    <tr>\n",
              "      <th>15</th>\n",
              "      <td>144.0</td>\n",
              "      <td>171.5</td>\n",
              "    </tr>\n",
              "    <tr>\n",
              "      <th>16</th>\n",
              "      <td>181.0</td>\n",
              "      <td>162.5</td>\n",
              "    </tr>\n",
              "    <tr>\n",
              "      <th>17</th>\n",
              "      <td>229.0</td>\n",
              "      <td>205.0</td>\n",
              "    </tr>\n",
              "    <tr>\n",
              "      <th>18</th>\n",
              "      <td>186.0</td>\n",
              "      <td>207.5</td>\n",
              "    </tr>\n",
              "    <tr>\n",
              "      <th>19</th>\n",
              "      <td>187.0</td>\n",
              "      <td>186.5</td>\n",
              "    </tr>\n",
              "    <tr>\n",
              "      <th>20</th>\n",
              "      <td>189.0</td>\n",
              "      <td>188.0</td>\n",
              "    </tr>\n",
              "    <tr>\n",
              "      <th>21</th>\n",
              "      <td>172.0</td>\n",
              "      <td>180.5</td>\n",
              "    </tr>\n",
              "    <tr>\n",
              "      <th>22</th>\n",
              "      <td>164.0</td>\n",
              "      <td>168.0</td>\n",
              "    </tr>\n",
              "    <tr>\n",
              "      <th>23</th>\n",
              "      <td>158.0</td>\n",
              "      <td>161.0</td>\n",
              "    </tr>\n",
              "    <tr>\n",
              "      <th>24</th>\n",
              "      <td>155.0</td>\n",
              "      <td>156.5</td>\n",
              "    </tr>\n",
              "    <tr>\n",
              "      <th>25</th>\n",
              "      <td>147.0</td>\n",
              "      <td>151.0</td>\n",
              "    </tr>\n",
              "    <tr>\n",
              "      <th>26</th>\n",
              "      <td>157.0</td>\n",
              "      <td>152.0</td>\n",
              "    </tr>\n",
              "    <tr>\n",
              "      <th>27</th>\n",
              "      <td>194.0</td>\n",
              "      <td>175.5</td>\n",
              "    </tr>\n",
              "    <tr>\n",
              "      <th>28</th>\n",
              "      <td>183.0</td>\n",
              "      <td>188.5</td>\n",
              "    </tr>\n",
              "    <tr>\n",
              "      <th>29</th>\n",
              "      <td>152.0</td>\n",
              "      <td>167.5</td>\n",
              "    </tr>\n",
              "    <tr>\n",
              "      <th>30</th>\n",
              "      <td>174.0</td>\n",
              "      <td>163.0</td>\n",
              "    </tr>\n",
              "    <tr>\n",
              "      <th>31</th>\n",
              "      <td>113.0</td>\n",
              "      <td>143.5</td>\n",
              "    </tr>\n",
              "  </tbody>\n",
              "</table>\n",
              "</div>"
            ],
            "text/plain": [
              "     transactions  Roll_Mean\n",
              "day                         \n",
              "1           198.0        NaN\n",
              "2           209.0      203.5\n",
              "3           209.0      209.0\n",
              "4           228.0      218.5\n",
              "5           191.0      209.5\n",
              "6           171.0      181.0\n",
              "7           159.0      165.0\n",
              "8           158.0      158.5\n",
              "9           191.0      174.5\n",
              "10          169.0      180.0\n",
              "11          145.0      157.0\n",
              "12          214.0      179.5\n",
              "13          203.0      208.5\n",
              "14          199.0      201.0\n",
              "15          144.0      171.5\n",
              "16          181.0      162.5\n",
              "17          229.0      205.0\n",
              "18          186.0      207.5\n",
              "19          187.0      186.5\n",
              "20          189.0      188.0\n",
              "21          172.0      180.5\n",
              "22          164.0      168.0\n",
              "23          158.0      161.0\n",
              "24          155.0      156.5\n",
              "25          147.0      151.0\n",
              "26          157.0      152.0\n",
              "27          194.0      175.5\n",
              "28          183.0      188.5\n",
              "29          152.0      167.5\n",
              "30          174.0      163.0\n",
              "31          113.0      143.5"
            ]
          },
          "metadata": {
            "tags": []
          },
          "execution_count": 32
        }
      ]
    },
    {
      "cell_type": "code",
      "metadata": {
        "colab": {
          "base_uri": "https://localhost:8080/",
          "height": 335
        },
        "id": "GT8X-BKrJQ_D",
        "outputId": "96b7bce1-b545-4bb3-8cd3-f8a2dfdc5309"
      },
      "source": [
        "from statsmodels.tsa.arima_model import ARMA\n",
        "\n",
        "model = ARMA(df3.transactions, order=(5,1,0))  \n",
        "results_MA = model.fit()  \n",
        "plt.plot(df3.transactions)\n",
        "plt.plot(results_MA.fittedvalues, color='red')\n",
        "plt.title('Fitting data _ MSE: %.2f'% (((results_MA.fittedvalues-df3.transactions)**2).mean()))\n",
        "plt.show()"
      ],
      "execution_count": null,
      "outputs": [
        {
          "output_type": "stream",
          "text": [
            "/usr/local/lib/python3.7/dist-packages/statsmodels/tsa/base/tsa_model.py:215: ValueWarning: An unsupported index was provided and will be ignored when e.g. forecasting.\n",
            "  ' ignored when e.g. forecasting.', ValueWarning)\n"
          ],
          "name": "stderr"
        },
        {
          "output_type": "display_data",
          "data": {
            "image/png": "[encoded data removed]",
            "text/plain": [
              "<Figure size 432x288 with 1 Axes>"
            ]
          },
          "metadata": {
            "tags": [],
            "needs_background": "light"
          }
        }
      ]
    },
    {
      "cell_type": "code",
      "metadata": {
        "colab": {
          "base_uri": "https://localhost:8080/",
          "height": 1000
        },
        "id": "8Ibc64D8PCNg",
        "outputId": "d0b5e596-00e5-48c2-97fc-a873c139d9df"
      },
      "source": [
        "# summary of fit model\n",
        "print(results_MA.summary())\n",
        "# line plot of residuals\n",
        "residuals = DataFrame(results_MA.resid)\n",
        "residuals.plot()\n",
        "pyplot.show()\n",
        "# density plot of residuals\n",
        "residuals.plot(kind='kde')\n",
        "pyplot.show()\n",
        "# summary stats of residuals\n",
        "print(residuals.describe())"
      ],
      "execution_count": null,
      "outputs": [
        {
          "output_type": "stream",
          "text": [
            "                              ARMA Model Results                              \n",
            "==============================================================================\n",
            "Dep. Variable:           transactions   No. Observations:                   31\n",
            "Model:                     ARMA(5, 1)   Log Likelihood                -142.789\n",
            "Method:                       css-mle   S.D. of innovations             24.046\n",
            "Date:                Fri, 16 Apr 2021   AIC                            301.579\n",
            "Time:                        15:13:15   BIC                            313.051\n",
            "Sample:                             0   HQIC                           305.319\n",
            "                                                                              \n",
            "======================================================================================\n",
            "                         coef    std err          z      P>|z|      [0.025      0.975]\n",
            "--------------------------------------------------------------------------------------\n",
            "const                177.5309      7.818     22.709      0.000     162.208     192.853\n",
            "ar.L1.transactions    -0.1627      0.410     -0.397      0.695      -0.967       0.641\n",
            "ar.L2.transactions     0.1075      0.255      0.422      0.677      -0.392       0.607\n",
            "ar.L3.transactions     0.0976      0.210      0.464      0.647      -0.314       0.510\n",
            "ar.L4.transactions    -0.0342      0.224     -0.153      0.880      -0.474       0.405\n",
            "ar.L5.transactions     0.1421      0.225      0.631      0.534      -0.299       0.583\n",
            "ma.L1.transactions     0.5969      0.379      1.574      0.129      -0.146       1.340\n",
            "                                    Roots                                    \n",
            "=============================================================================\n",
            "                  Real          Imaginary           Modulus         Frequency\n",
            "-----------------------------------------------------------------------------\n",
            "AR.1           -1.0866           -0.7791j            1.3371           -0.4010\n",
            "AR.2           -1.0866           +0.7791j            1.3371            0.4010\n",
            "AR.3            1.4362           -0.0000j            1.4362           -0.0000\n",
            "AR.4            0.4889           -1.5819j            1.6557           -0.2023\n",
            "AR.5            0.4889           +1.5819j            1.6557            0.2023\n",
            "MA.1           -1.6752           +0.0000j            1.6752            0.5000\n",
            "-----------------------------------------------------------------------------\n"
          ],
          "name": "stdout"
        },
        {
          "output_type": "display_data",
          "data": {
            "image/png": "[encoded data removed]",
            "text/plain": [
              "<Figure size 432x288 with 1 Axes>"
            ]
          },
          "metadata": {
            "tags": [],
            "needs_background": "light"
          }
        },
        {
          "output_type": "display_data",
          "data": {
            "image/png": "[encoded data removed]",
            "text/plain": [
              "<Figure size 432x288 with 1 Axes>"
            ]
          },
          "metadata": {
            "tags": [],
            "needs_background": "light"
          }
        },
        {
          "output_type": "stream",
          "text": [
            "               0\n",
            "count  31.000000\n",
            "mean   -0.569205\n",
            "std    24.580517\n",
            "min   -63.790253\n",
            "25%   -14.905959\n",
            "50%    -3.048548\n",
            "75%    18.348220\n",
            "max    48.050953\n"
          ],
          "name": "stdout"
        }
      ]
    },
    {
      "cell_type": "code",
      "metadata": {
        "colab": {
          "base_uri": "https://localhost:8080/"
        },
        "id": "OOc2PXnEJWcd",
        "outputId": "87550a98-5cce-4b4e-93bc-7a72ba37914f"
      },
      "source": [
        "predictions = results_MA.predict(1, 31)"
      ],
      "execution_count": null,
      "outputs": [
        {
          "output_type": "stream",
          "text": [
            "/usr/local/lib/python3.7/dist-packages/statsmodels/tsa/base/tsa_model.py:576: ValueWarning: No supported index is available. Prediction results will be given with an integer index beginning at `start`.\n",
            "  ValueWarning)\n"
          ],
          "name": "stderr"
        }
      ]
    },
    {
      "cell_type": "code",
      "metadata": {
        "colab": {
          "base_uri": "https://localhost:8080/"
        },
        "id": "h30PY1faJXqT",
        "outputId": "70a0a326-32db-47d5-eea8-6873fbbe5f3c"
      },
      "source": [
        "predictions"
      ],
      "execution_count": null,
      "outputs": [
        {
          "output_type": "execute_result",
          "data": {
            "text/plain": [
              "1     185.149990\n",
              "2     188.826672\n",
              "3     189.460488\n",
              "4     198.067999\n",
              "5     181.632117\n",
              "6     182.112456\n",
              "7     170.179309\n",
              "8     177.530400\n",
              "9     181.602694\n",
              "10    170.644313\n",
              "11    165.949047\n",
              "12    192.715652\n",
              "13    182.476888\n",
              "14    190.102230\n",
              "15    154.391068\n",
              "16    195.651800\n",
              "17    189.048548\n",
              "18    184.402896\n",
              "19    178.595128\n",
              "20    182.453868\n",
              "21    181.370249\n",
              "22    170.767383\n",
              "23    172.044534\n",
              "24    169.418644\n",
              "25    164.461999\n",
              "26    169.679290\n",
              "27    182.177466\n",
              "28    174.741646\n",
              "29    166.669405\n",
              "30    176.790253\n",
              "31    149.228454\n",
              "dtype: float64"
            ]
          },
          "metadata": {
            "tags": []
          },
          "execution_count": 48
        }
      ]
    },
    {
      "cell_type": "code",
      "metadata": {
        "colab": {
          "base_uri": "https://localhost:8080/"
        },
        "id": "tFrUpBJcJzJo",
        "outputId": "8fd813dc-6faf-4e5f-b85d-71d650b760e5"
      },
      "source": [
        "predictions = results_MA.predict(31, 32)"
      ],
      "execution_count": null,
      "outputs": [
        {
          "output_type": "stream",
          "text": [
            "/usr/local/lib/python3.7/dist-packages/statsmodels/tsa/base/tsa_model.py:576: ValueWarning: No supported index is available. Prediction results will be given with an integer index beginning at `start`.\n",
            "  ValueWarning)\n"
          ],
          "name": "stderr"
        }
      ]
    },
    {
      "cell_type": "markdown",
      "metadata": {
        "id": "Mp3Iwf8TZsBW"
      },
      "source": [
        "***Predictions for next day in the next month***"
      ]
    },
    {
      "cell_type": "code",
      "metadata": {
        "colab": {
          "base_uri": "https://localhost:8080/"
        },
        "id": "7zieEwZCJ5u-",
        "outputId": "6306c710-4626-46d8-f156-39901c97cc0f"
      },
      "source": [
        "predictions"
      ],
      "execution_count": null,
      "outputs": [
        {
          "output_type": "execute_result",
          "data": {
            "text/plain": [
              "31    149.228454\n",
              "32    176.502068\n",
              "dtype: float64"
            ]
          },
          "metadata": {
            "tags": []
          },
          "execution_count": 50
        }
      ]
    },
    {
      "cell_type": "code",
      "metadata": {
        "id": "Kdkw2MoLdoYz"
      },
      "source": [
        "X = df3.transactions\n",
        "size = int(len(X) * 0.66)\n",
        "train, test = X[0:size], X[size:len(X)]\n",
        "history = [x for x in train]\n",
        "predictions = list()"
      ],
      "execution_count": null,
      "outputs": []
    },
    {
      "cell_type": "code",
      "metadata": {
        "colab": {
          "base_uri": "https://localhost:8080/"
        },
        "id": "fmSk_kQxdySc",
        "outputId": "ba268a37-5fc4-41f2-e8ad-af367faa2085"
      },
      "source": [
        "predictions"
      ],
      "execution_count": null,
      "outputs": [
        {
          "output_type": "execute_result",
          "data": {
            "text/plain": [
              "[]"
            ]
          },
          "metadata": {
            "tags": []
          },
          "execution_count": 64
        }
      ]
    },
    {
      "cell_type": "markdown",
      "metadata": {
        "id": "60Vy2qjJamxU"
      },
      "source": [
        "****************************IN TERMS OF MONTHS****************************"
      ]
    },
    {
      "cell_type": "code",
      "metadata": {
        "id": "oh_mOwG6al-w"
      },
      "source": [
        "df3 = df2.groupby('month')['transactions'].sum().reset_index()"
      ],
      "execution_count": null,
      "outputs": []
    },
    {
      "cell_type": "code",
      "metadata": {
        "colab": {
          "base_uri": "https://localhost:8080/",
          "height": 235
        },
        "id": "MQn6OzDMazce",
        "outputId": "0d51d0c5-540e-4a82-c252-c98e37b36b72"
      },
      "source": [
        "df3"
      ],
      "execution_count": null,
      "outputs": [
        {
          "output_type": "execute_result",
          "data": {
            "text/html": [
              "<div>\n",
              "<style scoped>\n",
              "    .dataframe tbody tr th:only-of-type {\n",
              "        vertical-align: middle;\n",
              "    }\n",
              "\n",
              "    .dataframe tbody tr th {\n",
              "        vertical-align: top;\n",
              "    }\n",
              "\n",
              "    .dataframe thead th {\n",
              "        text-align: right;\n",
              "    }\n",
              "</style>\n",
              "<table border=\"1\" class=\"dataframe\">\n",
              "  <thead>\n",
              "    <tr style=\"text-align: right;\">\n",
              "      <th></th>\n",
              "      <th>month</th>\n",
              "      <th>transactions</th>\n",
              "    </tr>\n",
              "  </thead>\n",
              "  <tbody>\n",
              "    <tr>\n",
              "      <th>0</th>\n",
              "      <td>1</td>\n",
              "      <td>713.0</td>\n",
              "    </tr>\n",
              "    <tr>\n",
              "      <th>1</th>\n",
              "      <td>2</td>\n",
              "      <td>733.0</td>\n",
              "    </tr>\n",
              "    <tr>\n",
              "      <th>2</th>\n",
              "      <td>3</td>\n",
              "      <td>993.0</td>\n",
              "    </tr>\n",
              "    <tr>\n",
              "      <th>3</th>\n",
              "      <td>4</td>\n",
              "      <td>959.0</td>\n",
              "    </tr>\n",
              "    <tr>\n",
              "      <th>4</th>\n",
              "      <td>5</td>\n",
              "      <td>1160.0</td>\n",
              "    </tr>\n",
              "    <tr>\n",
              "      <th>5</th>\n",
              "      <td>6</td>\n",
              "      <td>971.0</td>\n",
              "    </tr>\n",
              "  </tbody>\n",
              "</table>\n",
              "</div>"
            ],
            "text/plain": [
              "   month  transactions\n",
              "0      1         713.0\n",
              "1      2         733.0\n",
              "2      3         993.0\n",
              "3      4         959.0\n",
              "4      5        1160.0\n",
              "5      6         971.0"
            ]
          },
          "metadata": {
            "tags": []
          },
          "execution_count": 53
        }
      ]
    },
    {
      "cell_type": "code",
      "metadata": {
        "colab": {
          "base_uri": "https://localhost:8080/",
          "height": 296
        },
        "id": "McYFHjURbLIT",
        "outputId": "085ed1c7-1b43-4ad4-bc58-a785d455803c"
      },
      "source": [
        "df3.plot(x ='month', y='transactions', kind = 'line')"
      ],
      "execution_count": null,
      "outputs": [
        {
          "output_type": "execute_result",
          "data": {
            "text/plain": [
              "<matplotlib.axes._subplots.AxesSubplot at 0x7f4f08db2610>"
            ]
          },
          "metadata": {
            "tags": []
          },
          "execution_count": 54
        },
        {
          "output_type": "display_data",
          "data": {
            "image/png": "[encoded data removed]",
            "text/plain": [
              "<Figure size 432x288 with 1 Axes>"
            ]
          },
          "metadata": {
            "tags": [],
            "needs_background": "light"
          }
        }
      ]
    },
    {
      "cell_type": "code",
      "metadata": {
        "id": "WcqW8ns_balG"
      },
      "source": [
        "from statsmodels.tsa.stattools import adfuller\n",
        "def stationarity_check(ts):\n",
        "    \n",
        "    # Determing rolling statistics\n",
        "    roll_mean = ts.rolling(2).mean()\n",
        "    \n",
        "    \n",
        "    # Plot rolling statistics:\n",
        "    plt.plot(ts, color='green',label='Original')\n",
        "    plt.plot(roll_mean, color='blue', label='Rolling Mean')\n",
        "    plt.legend(loc='best')\n",
        "    plt.title('Rolling Mean')\n",
        "    plt.show(block=False)\n",
        "    \n",
        "\n",
        "\n",
        "    # Perform Augmented Dickey-Fuller test:\n",
        "    print('Augmented Dickey-Fuller test:')\n",
        "    df_test = adfuller(ts)\n",
        "    print(\"type of df_test: \",type(df_test))\n",
        "    print(\"df_test: \",df_test)\n",
        "    df_output = pd.Series(df_test[0:4], index=['Test Statistic','p-value','#Lags Used','Number of Observations Used'])\n",
        "    print(\"df_output: \\n\",df_output)\n",
        "    for key,value in df_test[4].items():\n",
        "        df_output['Critical Value (%s)'%key] = value\n",
        "    print(df_output)"
      ],
      "execution_count": null,
      "outputs": []
    },
    {
      "cell_type": "code",
      "metadata": {
        "colab": {
          "base_uri": "https://localhost:8080/",
          "height": 590
        },
        "id": "cnwc2iqebdsA",
        "outputId": "df958fc6-a42c-4501-966a-34f1b9c3e039"
      },
      "source": [
        "stationarity_check(df3.transactions)"
      ],
      "execution_count": null,
      "outputs": [
        {
          "output_type": "display_data",
          "data": {
            "image/png": "[encoded data removed]",
            "text/plain": [
              "<Figure size 432x288 with 1 Axes>"
            ]
          },
          "metadata": {
            "tags": [],
            "needs_background": "light"
          }
        },
        {
          "output_type": "stream",
          "text": [
            "Augmented Dickey-Fuller test:\n",
            "type of df_test:  <class 'tuple'>\n",
            "df_test:  (-2.4685930482723095, 0.1233041565126079, 1, 4, {'1%': -7.355440625, '5%': -4.474365000000001, '10%': -3.1269325}, 45.95612439355797)\n",
            "df_output: \n",
            " Test Statistic                -2.468593\n",
            "p-value                        0.123304\n",
            "#Lags Used                     1.000000\n",
            "Number of Observations Used    4.000000\n",
            "dtype: float64\n",
            "Test Statistic                -2.468593\n",
            "p-value                        0.123304\n",
            "#Lags Used                     1.000000\n",
            "Number of Observations Used    4.000000\n",
            "Critical Value (1%)           -7.355441\n",
            "Critical Value (5%)           -4.474365\n",
            "Critical Value (10%)          -3.126933\n",
            "dtype: float64\n"
          ],
          "name": "stdout"
        }
      ]
    },
    {
      "cell_type": "code",
      "metadata": {
        "colab": {
          "base_uri": "https://localhost:8080/",
          "height": 235
        },
        "id": "VGlv7YFifX4A",
        "outputId": "4f6cff52-39eb-428c-bbcb-c72a0811507c"
      },
      "source": [
        "df3"
      ],
      "execution_count": null,
      "outputs": [
        {
          "output_type": "execute_result",
          "data": {
            "text/html": [
              "<div>\n",
              "<style scoped>\n",
              "    .dataframe tbody tr th:only-of-type {\n",
              "        vertical-align: middle;\n",
              "    }\n",
              "\n",
              "    .dataframe tbody tr th {\n",
              "        vertical-align: top;\n",
              "    }\n",
              "\n",
              "    .dataframe thead th {\n",
              "        text-align: right;\n",
              "    }\n",
              "</style>\n",
              "<table border=\"1\" class=\"dataframe\">\n",
              "  <thead>\n",
              "    <tr style=\"text-align: right;\">\n",
              "      <th></th>\n",
              "      <th>month</th>\n",
              "      <th>transactions</th>\n",
              "      <th>Roll Mean</th>\n",
              "    </tr>\n",
              "  </thead>\n",
              "  <tbody>\n",
              "    <tr>\n",
              "      <th>0</th>\n",
              "      <td>1</td>\n",
              "      <td>713.0</td>\n",
              "      <td>NaN</td>\n",
              "    </tr>\n",
              "    <tr>\n",
              "      <th>1</th>\n",
              "      <td>2</td>\n",
              "      <td>733.0</td>\n",
              "      <td>NaN</td>\n",
              "    </tr>\n",
              "    <tr>\n",
              "      <th>2</th>\n",
              "      <td>3</td>\n",
              "      <td>993.0</td>\n",
              "      <td>813.000000</td>\n",
              "    </tr>\n",
              "    <tr>\n",
              "      <th>3</th>\n",
              "      <td>4</td>\n",
              "      <td>959.0</td>\n",
              "      <td>895.000000</td>\n",
              "    </tr>\n",
              "    <tr>\n",
              "      <th>4</th>\n",
              "      <td>5</td>\n",
              "      <td>1160.0</td>\n",
              "      <td>1037.333333</td>\n",
              "    </tr>\n",
              "    <tr>\n",
              "      <th>5</th>\n",
              "      <td>6</td>\n",
              "      <td>971.0</td>\n",
              "      <td>1030.000000</td>\n",
              "    </tr>\n",
              "  </tbody>\n",
              "</table>\n",
              "</div>"
            ],
            "text/plain": [
              "   month  transactions    Roll Mean\n",
              "0      1         713.0          NaN\n",
              "1      2         733.0          NaN\n",
              "2      3         993.0   813.000000\n",
              "3      4         959.0   895.000000\n",
              "4      5        1160.0  1037.333333\n",
              "5      6         971.0  1030.000000"
            ]
          },
          "metadata": {
            "tags": []
          },
          "execution_count": 105
        }
      ]
    },
    {
      "cell_type": "code",
      "metadata": {
        "id": "5O7Fvk9ZgfXB"
      },
      "source": [
        "df3['Roll Mean'] = df3['transactions'].rolling(2).mean()"
      ],
      "execution_count": null,
      "outputs": []
    },
    {
      "cell_type": "code",
      "metadata": {
        "colab": {
          "base_uri": "https://localhost:8080/",
          "height": 235
        },
        "id": "bTkqjkV9gnPp",
        "outputId": "2374e986-63d8-486d-a4ec-7b3b4744ee4f"
      },
      "source": [
        "df3"
      ],
      "execution_count": null,
      "outputs": [
        {
          "output_type": "execute_result",
          "data": {
            "text/html": [
              "<div>\n",
              "<style scoped>\n",
              "    .dataframe tbody tr th:only-of-type {\n",
              "        vertical-align: middle;\n",
              "    }\n",
              "\n",
              "    .dataframe tbody tr th {\n",
              "        vertical-align: top;\n",
              "    }\n",
              "\n",
              "    .dataframe thead th {\n",
              "        text-align: right;\n",
              "    }\n",
              "</style>\n",
              "<table border=\"1\" class=\"dataframe\">\n",
              "  <thead>\n",
              "    <tr style=\"text-align: right;\">\n",
              "      <th></th>\n",
              "      <th>month</th>\n",
              "      <th>transactions</th>\n",
              "      <th>Roll Mean</th>\n",
              "    </tr>\n",
              "  </thead>\n",
              "  <tbody>\n",
              "    <tr>\n",
              "      <th>0</th>\n",
              "      <td>1</td>\n",
              "      <td>713.0</td>\n",
              "      <td>NaN</td>\n",
              "    </tr>\n",
              "    <tr>\n",
              "      <th>1</th>\n",
              "      <td>2</td>\n",
              "      <td>733.0</td>\n",
              "      <td>723.0</td>\n",
              "    </tr>\n",
              "    <tr>\n",
              "      <th>2</th>\n",
              "      <td>3</td>\n",
              "      <td>993.0</td>\n",
              "      <td>863.0</td>\n",
              "    </tr>\n",
              "    <tr>\n",
              "      <th>3</th>\n",
              "      <td>4</td>\n",
              "      <td>959.0</td>\n",
              "      <td>976.0</td>\n",
              "    </tr>\n",
              "    <tr>\n",
              "      <th>4</th>\n",
              "      <td>5</td>\n",
              "      <td>1160.0</td>\n",
              "      <td>1059.5</td>\n",
              "    </tr>\n",
              "    <tr>\n",
              "      <th>5</th>\n",
              "      <td>6</td>\n",
              "      <td>971.0</td>\n",
              "      <td>1065.5</td>\n",
              "    </tr>\n",
              "  </tbody>\n",
              "</table>\n",
              "</div>"
            ],
            "text/plain": [
              "   month  transactions  Roll Mean\n",
              "0      1         713.0        NaN\n",
              "1      2         733.0      723.0\n",
              "2      3         993.0      863.0\n",
              "3      4         959.0      976.0\n",
              "4      5        1160.0     1059.5\n",
              "5      6         971.0     1065.5"
            ]
          },
          "metadata": {
            "tags": []
          },
          "execution_count": 107
        }
      ]
    },
    {
      "cell_type": "code",
      "metadata": {
        "colab": {
          "base_uri": "https://localhost:8080/",
          "height": 335
        },
        "id": "CJtjLoqkgpXW",
        "outputId": "c985952e-5bff-47ba-820c-f307800fa852"
      },
      "source": [
        "from statsmodels.tsa.arima_model import ARMA\n",
        "\n",
        "model = ARMA(df3.transactions, order=(0,3, 2))  \n",
        "results_MA = model.fit()  \n",
        "plt.plot(df3.transactions)\n",
        "plt.plot(results_MA.fittedvalues, color='red')\n",
        "plt.title('Fitting data _ MSE: %.2f'% (((results_MA.fittedvalues-df3.transactions)**2).mean()))\n",
        "plt.show()"
      ],
      "execution_count": null,
      "outputs": [
        {
          "output_type": "stream",
          "text": [
            "/usr/local/lib/python3.7/dist-packages/statsmodels/base/model.py:492: HessianInversionWarning: Inverting hessian failed, no bse or cov_params available\n",
            "  'available', HessianInversionWarning)\n"
          ],
          "name": "stderr"
        },
        {
          "output_type": "display_data",
          "data": {
            "image/png": "[encoded data removed]",
            "text/plain": [
              "<Figure size 432x288 with 1 Axes>"
            ]
          },
          "metadata": {
            "tags": [],
            "needs_background": "light"
          }
        }
      ]
    },
    {
      "cell_type": "code",
      "metadata": {
        "colab": {
          "base_uri": "https://localhost:8080/",
          "height": 1000
        },
        "id": "15EK4YwIhd3m",
        "outputId": "b1b9f187-53f6-45c5-fc5b-29011d4d1c54"
      },
      "source": [
        "# summary of fit model\n",
        "print(results_MA.summary())\n",
        "# line plot of residuals\n",
        "residuals = DataFrame(results_MA.resid)\n",
        "residuals.plot()\n",
        "pyplot.show()\n",
        "# density plot of residuals\n",
        "residuals.plot(kind='kde')\n",
        "pyplot.show()\n",
        "# summary stats of residuals\n",
        "print(residuals.describe())"
      ],
      "execution_count": null,
      "outputs": [
        {
          "output_type": "stream",
          "text": [
            "                              ARMA Model Results                              \n",
            "==============================================================================\n",
            "Dep. Variable:           transactions   No. Observations:                    6\n",
            "Model:                     ARMA(0, 3)   Log Likelihood                 -37.905\n",
            "Method:                       css-mle   S.D. of innovations            101.849\n",
            "Date:                Fri, 16 Apr 2021   AIC                             85.809\n",
            "Time:                        16:31:28   BIC                             84.768\n",
            "Sample:                             0   HQIC                            81.641\n",
            "                                                                              \n",
            "======================================================================================\n",
            "                         coef    std err          z      P>|z|      [0.025      0.975]\n",
            "--------------------------------------------------------------------------------------\n",
            "const                917.1633     45.417     20.194      0.002     828.147    1006.180\n",
            "ma.L1.transactions     0.1775      1.109      0.160      0.888      -1.996       2.351\n",
            "ma.L2.transactions    -0.1775      1.003     -0.177      0.876      -2.143       1.788\n",
            "ma.L3.transactions    -1.0000      1.543     -0.648      0.583      -4.023       2.023\n",
            "                                    Roots                                    \n",
            "=============================================================================\n",
            "                  Real          Imaginary           Modulus         Frequency\n",
            "-----------------------------------------------------------------------------\n",
            "MA.1           -0.5887           -0.8083j            1.0000           -0.3502\n",
            "MA.2           -0.5887           +0.8083j            1.0000            0.3502\n",
            "MA.3            1.0000           -0.0000j            1.0000           -0.0000\n",
            "-----------------------------------------------------------------------------\n"
          ],
          "name": "stdout"
        },
        {
          "output_type": "display_data",
          "data": {
            "image/png": "[encoded data removed]",
            "text/plain": [
              "<Figure size 432x288 with 1 Axes>"
            ]
          },
          "metadata": {
            "tags": [],
            "needs_background": "light"
          }
        },
        {
          "output_type": "display_data",
          "data": {
            "image/png": "[encoded data removed]",
            "text/plain": [
              "<Figure size 432x288 with 1 Axes>"
            ]
          },
          "metadata": {
            "tags": [],
            "needs_background": "light"
          }
        },
        {
          "output_type": "stream",
          "text": [
            "                0\n",
            "count    6.000000\n",
            "mean   -22.946370\n",
            "std    147.621017\n",
            "min   -204.163337\n",
            "25%   -133.839328\n",
            "50%    -18.149589\n",
            "75%     62.679376\n",
            "max    185.564504\n"
          ],
          "name": "stdout"
        }
      ]
    },
    {
      "cell_type": "code",
      "metadata": {
        "colab": {
          "base_uri": "https://localhost:8080/"
        },
        "id": "FK8J15U1hlg5",
        "outputId": "d498d7b5-4824-4649-c51a-409782589434"
      },
      "source": [
        "predictions = results_MA.predict(0,5)\n",
        "predictions"
      ],
      "execution_count": null,
      "outputs": [
        {
          "output_type": "execute_result",
          "data": {
            "text/plain": [
              "0     917.163337\n",
              "1     885.154972\n",
              "2     923.625239\n",
              "3    1037.892399\n",
              "4     974.435496\n",
              "5     928.406779\n",
              "dtype: float64"
            ]
          },
          "metadata": {
            "tags": []
          },
          "execution_count": 116
        }
      ]
    },
    {
      "cell_type": "code",
      "metadata": {
        "colab": {
          "base_uri": "https://localhost:8080/"
        },
        "id": "Urn2jBVChxNM",
        "outputId": "408fe687-9051-4985-e34a-2054783a6db8"
      },
      "source": [
        "predictions = results_MA.predict(5,6)\n",
        "predictions"
      ],
      "execution_count": null,
      "outputs": [
        {
          "output_type": "execute_result",
          "data": {
            "text/plain": [
              "5    928.406779\n",
              "6    970.683769\n",
              "dtype: float64"
            ]
          },
          "metadata": {
            "tags": []
          },
          "execution_count": 117
        }
      ]
    }
  ]
}